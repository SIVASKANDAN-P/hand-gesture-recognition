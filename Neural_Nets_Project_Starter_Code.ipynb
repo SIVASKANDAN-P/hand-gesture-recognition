{
  "cells": [
    {
      "cell_type": "markdown",
      "metadata": {
        "id": "view-in-github",
        "colab_type": "text"
      },
      "source": [
        "<a href=\"https://colab.research.google.com/github/bharathsanjai/hand-gesture-recognition/blob/main/Neural_Nets_Project_Starter_Code.ipynb\" target=\"_parent\"><img src=\"https://colab.research.google.com/assets/colab-badge.svg\" alt=\"Open In Colab\"/></a>"
      ]
    },
    {
      "cell_type": "markdown",
      "metadata": {
        "id": "4sawJV_5K_x6"
      },
      "source": [
        "# Gesture Recognition\n",
        "In this group project, you are going to build a 3D Conv model that will be able to predict the 5 gestures correctly. Please import the following libraries to get started."
      ]
    },
    {
      "cell_type": "code",
      "source": [
        "# Running on GPU\n",
        "\n",
        "import platform\n",
        "import tensorflow as tf\n",
        "\n",
        "print(\"Python version: \", platform.python_version())\n",
        "print(\"TensorFlow version: \", tf.__version__)\n",
        "\n",
        "device_name = tf.test.gpu_device_name()\n",
        "if device_name != '/device:GPU:0':\n",
        "    print('GPU not found. Running on CPU.')\n",
        "else:\n",
        "    print('GPU found. Running on GPU.')"
      ],
      "metadata": {
        "colab": {
          "base_uri": "https://localhost:8080/"
        },
        "id": "xgIVyEQ4LBZA",
        "outputId": "a6140f38-6eaf-4cb8-fe43-e896c01cb5c6"
      },
      "execution_count": 1,
      "outputs": [
        {
          "output_type": "stream",
          "name": "stdout",
          "text": [
            "Python version:  3.10.12\n",
            "TensorFlow version:  2.12.0\n",
            "GPU found. Running on GPU.\n"
          ]
        }
      ]
    },
    {
      "cell_type": "code",
      "source": [
        "!pip install imageio"
      ],
      "metadata": {
        "colab": {
          "base_uri": "https://localhost:8080/"
        },
        "id": "mSMemTBiLXvw",
        "outputId": "312cf90a-11ed-4846-f0dd-79cc54c82b2c"
      },
      "execution_count": 2,
      "outputs": [
        {
          "output_type": "stream",
          "name": "stdout",
          "text": [
            "Requirement already satisfied: imageio in /usr/local/lib/python3.10/dist-packages (2.31.1)\n",
            "Requirement already satisfied: numpy in /usr/local/lib/python3.10/dist-packages (from imageio) (1.23.5)\n",
            "Requirement already satisfied: pillow>=8.3.2 in /usr/local/lib/python3.10/dist-packages (from imageio) (9.4.0)\n"
          ]
        }
      ]
    },
    {
      "cell_type": "code",
      "source": [
        "from google.colab import drive\n",
        "drive.mount('/content/drive')"
      ],
      "metadata": {
        "colab": {
          "base_uri": "https://localhost:8080/"
        },
        "id": "yBmXL4DJL74X",
        "outputId": "747560dd-02fe-4cf7-e931-232dc065ca64"
      },
      "execution_count": 3,
      "outputs": [
        {
          "output_type": "stream",
          "name": "stdout",
          "text": [
            "Mounted at /content/drive\n"
          ]
        }
      ]
    },
    {
      "cell_type": "code",
      "execution_count": 4,
      "metadata": {
        "id": "phRPEtO4K_x8"
      },
      "outputs": [],
      "source": [
        "import numpy as np\n",
        "import os\n",
        "# from scipy.misc import imread, imresize\n",
        "from skimage.transform import resize\n",
        "from imageio import imread\n",
        "import imageio\n",
        "import datetime\n",
        "import os"
      ]
    },
    {
      "cell_type": "markdown",
      "metadata": {
        "id": "rNz67W2HK_x9"
      },
      "source": [
        "We set the random seed so that the results don't vary drastically."
      ]
    },
    {
      "cell_type": "code",
      "execution_count": 5,
      "metadata": {
        "id": "zEsCXFXtK_x-"
      },
      "outputs": [],
      "source": [
        "np.random.seed(30)\n",
        "import random as rn\n",
        "rn.seed(30)\n",
        "from keras import backend as K\n",
        "import tensorflow as tf\n",
        "# tf.set_random_seed(30)\n",
        "tf.random.set_seed(30)"
      ]
    },
    {
      "cell_type": "markdown",
      "metadata": {
        "id": "Np4XHrNUK_x-"
      },
      "source": [
        "In this block, you read the folder names for training and validation. You also set the `batch_size` here. Note that you set the batch size in such a way that you are able to use the GPU in full capacity. You keep increasing the batch size until the machine throws an error."
      ]
    },
    {
      "cell_type": "code",
      "execution_count": 6,
      "metadata": {
        "id": "rHivD4ZpK_x-"
      },
      "outputs": [],
      "source": [
        "train_doc = np.random.permutation(open('/content/drive/My Drive/Project_data/train.csv').readlines())\n",
        "val_doc = np.random.permutation(open('/content/drive/My Drive/Project_data/val.csv').readlines())\n",
        "batch_size = 10 # experiment with the batch size"
      ]
    },
    {
      "cell_type": "code",
      "source": [
        "# np.random.seed(5)\n",
        "# random_numbers = np.random.randint(0, 30, size=18)\n",
        "# random_numbers"
      ],
      "metadata": {
        "colab": {
          "base_uri": "https://localhost:8080/"
        },
        "id": "SgDl0xVSWNQj",
        "outputId": "15678f82-017d-4351-df8f-6d9cc5102b8d"
      },
      "execution_count": null,
      "outputs": [
        {
          "output_type": "execute_result",
          "data": {
            "text/plain": [
              "array([ 3, 14, 15, 29,  6, 22, 16,  9,  8,  4,  7, 27, 16, 16,  7, 12, 15,\n",
              "       17])"
            ]
          },
          "metadata": {},
          "execution_count": 19
        }
      ]
    },
    {
      "cell_type": "code",
      "source": [
        "# samples_per_folder = 18\n",
        "\n",
        "# def batchsize(folder_list):\n",
        "#   result = math.ceil(folder_list.length *  samples_per_folder / batch_size)\n",
        "#   print('result is =', result)"
      ],
      "metadata": {
        "id": "VtrNSyl4XcPL"
      },
      "execution_count": null,
      "outputs": []
    },
    {
      "cell_type": "code",
      "source": [
        "# batch_size = 10 # experiment with the batch size\n",
        "# selecting alternate frames\n",
        "# seq_idx =  np.round(np.linspace(0, 29, 20)).astype(int)\n",
        "# image dimensions\n",
        "# dim_x, dim_y = 120, 120"
      ],
      "metadata": {
        "id": "a1wV8Ujt560w"
      },
      "execution_count": null,
      "outputs": []
    },
    {
      "cell_type": "code",
      "source": [
        "def cropResize(image, y, z):\n",
        "    h, w = image.shape\n",
        "\n",
        "    # if smaller image crop at center for 120x120\n",
        "    if w == 160:\n",
        "        image = image[:120, 20:140]\n",
        "\n",
        "    # resize every image\n",
        "    return resize(image, (y,z))"
      ],
      "metadata": {
        "id": "LU48hYcLyJF6"
      },
      "execution_count": 7,
      "outputs": []
    },
    {
      "cell_type": "code",
      "source": [
        "def getImgTensor(n_frames):\n",
        "    img_idx = np.round(np.linspace(0, 29, n_frames)).astype(int)\n",
        "    return [img_idx, 120, 120, 3]\n",
        "\n",
        "# define image tensor size\n",
        "img_tensor = getImgTensor(20)\n",
        "print ('# img_tensor =', img_tensor)"
      ],
      "metadata": {
        "colab": {
          "base_uri": "https://localhost:8080/"
        },
        "id": "ZMSQr8qVuie-",
        "outputId": "1974fcc9-2ce3-46e2-ccf8-2b3e14da0aef"
      },
      "execution_count": 8,
      "outputs": [
        {
          "output_type": "stream",
          "name": "stdout",
          "text": [
            "# img_tensor = [array([ 0,  2,  3,  5,  6,  8,  9, 11, 12, 14, 15, 17, 18, 20, 21, 23, 24,\n",
            "       26, 27, 29]), 120, 120, 3]\n"
          ]
        }
      ]
    },
    {
      "cell_type": "code",
      "source": [
        "def normalizeImage(image):\n",
        "    # applying normalization\n",
        "    return image/255.0"
      ],
      "metadata": {
        "id": "JT0VSSh_DZOV"
      },
      "execution_count": 9,
      "outputs": []
    },
    {
      "cell_type": "code",
      "source": [
        "def preprocessImage(image, y, z):\n",
        "    return normalizeImage(cropResize(image, y, z))"
      ],
      "metadata": {
        "id": "12jNyoU7EuS0"
      },
      "execution_count": 10,
      "outputs": []
    },
    {
      "cell_type": "code",
      "source": [
        "def genhelper(source_path, folder_list, batch_size, img_tensor, t, batch):\n",
        "  [x,y,z] = [len(img_tensor[0]),img_tensor[1], img_tensor[2]]\n",
        "  # img_idx = [1,4,5,6,7,9,21]\n",
        "  # print('IMG tensor ...', img_tensor[0])\n",
        "  img_idx = img_tensor[0]\n",
        "  # print('IMG DX list', img_idx)\n",
        "  batch_data = np.zeros((batch_size,x,y,z,3)) # x is the number of images you use for each video, (y,z) is the final size of the input images and 3 is the number of channels RGB\n",
        "  batch_labels = np.zeros((batch_size,5)) # batch_labels is the one hot representation of the output\n",
        "  for folder in range(batch_size): # iterate over the batch_size\n",
        "                imgs = os.listdir(source_path+'/'+ t[folder + (batch*batch_size)].split(';')[0]) # read all the images in the folder\n",
        "                # print(' Foder currently reading : ='+ source_path+'/'+ t[folder + (batch*batch_size)].split(';')[0])\n",
        "                # print('IMGS...', imgs)\n",
        "\n",
        "                for idx,item in enumerate(img_idx): #  Iterate iver the frames/images of a folder to read them in\n",
        "                    # print('image index count : = ', idx , ' ; item =', item)\n",
        "                    # print('Batch: = ', batch , ' ; Batch size: =', batch_size , ' ; index =' , batch*batch_size)\n",
        "                    image = imread(source_path+'/'+ t[folder + (batch*batch_size)].strip().split(';')[0]+'/'+imgs[item]).astype(np.float32)\n",
        "\n",
        "                    #crop the images and resize them. Note that the images are of 2 different shape\n",
        "                    #and the conv3D will throw error if the inputs in a batch have different shapes\n",
        "\n",
        "                    batch_data[folder,idx,:,:,0] = preprocessImage(image[:, :, 0], y, z) #normalise and feed in the image\n",
        "                    batch_data[folder,idx,:,:,1] = preprocessImage(image[:, :, 1], y, z) #normalise and feed in the image\n",
        "                    batch_data[folder,idx,:,:,2] = preprocessImage(image[:, :, 2], y, z) #normalise and feed in the image\n",
        "\n",
        "                batch_labels[folder, int(t[folder + (batch*batch_size)].strip().split(';')[2])] = 1\n",
        "  return batch_data, batch_labels #you yield the batch_data and the batch_labels, remember what does yield do\n",
        "\n",
        "        # write the code for the remaining data points which are left after full batches\n"
      ],
      "metadata": {
        "id": "dOiNUJNGd8nw"
      },
      "execution_count": 11,
      "outputs": []
    },
    {
      "cell_type": "markdown",
      "metadata": {
        "id": "BOkg6cJzK_x-"
      },
      "source": [
        "## Generator\n",
        "This is one of the most important part of the code. The overall structure of the generator has been given. In the generator, you are going to preprocess the images as you have images of 2 different dimensions as well as create a batch of video frames. You have to experiment with `img_idx`, `y`,`z` and normalization such that you get high accuracy."
      ]
    },
    {
      "cell_type": "code",
      "execution_count": 12,
      "metadata": {
        "id": "XdYPnHbWK_x_"
      },
      "outputs": [],
      "source": [
        "def generator(source_path, folder_list, batch_size, img_tensor):\n",
        "    print( 'Source path = ', source_path, '; batch size =', batch_size)\n",
        "    # print('folder list length = ', folder_list)\n",
        "    # [x,y,z] = [len(img_tensor[0]),img_tensor[1], img_tensor[2]]\n",
        "    # img_idx = img_tensor[0]\n",
        "\n",
        "    while True:\n",
        "        t = np.random.permutation(folder_list)\n",
        "        num_batches = int(len(folder_list)/batch_size) # calculate the number of batches\n",
        "        print('; Num of batches =', num_batches)\n",
        "        for batch in range(num_batches): # we iterate over the number of batches\n",
        "            # print('; Current Batch =', batch)\n",
        "            yield genhelper(source_path, folder_list, batch_size, img_tensor, t, batch)#you yield the batch_data and the batch_labels, remember what does yield do\n",
        "\n",
        "\n",
        "        # write the code for the remaining data points which are left after full batches\n",
        "        if len(folder_list)%batch_size != 0:\n",
        "          batch_size = len(folder_list)%batch_size\n",
        "          yield genhelper(source_path, folder_list, batch_size, img_tensor, t, batch)#you yield the batch_data and the batch_labels, remember what does yield do"
      ]
    },
    {
      "cell_type": "markdown",
      "metadata": {
        "id": "Vwj3-x5pK_x_"
      },
      "source": [
        "Note here that a video is represented above in the generator as (number of images, height, width, number of channels). Take this into consideration while creating the model architecture."
      ]
    },
    {
      "cell_type": "code",
      "execution_count": 13,
      "metadata": {
        "colab": {
          "base_uri": "https://localhost:8080/"
        },
        "id": "4WqlDzAsK_yA",
        "outputId": "5286e144-30af-4a8f-9f6e-e56cf474245b"
      },
      "outputs": [
        {
          "output_type": "stream",
          "name": "stdout",
          "text": [
            "# training sequences = 663\n",
            "# validation sequences = 100\n",
            "# epochs = 10\n"
          ]
        }
      ],
      "source": [
        "curr_dt_time = datetime.datetime.now()\n",
        "train_path = '/content/drive/My Drive/Project_data/train'\n",
        "val_path = '/content/drive/My Drive/Project_data/val'\n",
        "num_train_sequences = len(train_doc)\n",
        "print('# training sequences =', num_train_sequences)\n",
        "num_val_sequences = len(val_doc)\n",
        "print('# validation sequences =', num_val_sequences)\n",
        "num_epochs = 10\n",
        "print ('# epochs =', num_epochs)"
      ]
    },
    {
      "cell_type": "code",
      "source": [
        "# check complete batch shape\n",
        "sample_generator = generator(train_path, train_doc, 32, img_tensor)\n",
        "sample_batch_data, sample_batch_labels = next(sample_generator)\n",
        "print(sample_batch_data.shape)"
      ],
      "metadata": {
        "colab": {
          "base_uri": "https://localhost:8080/"
        },
        "id": "7OLuBnXlsBam",
        "outputId": "eb098829-7ea2-4c5e-e246-a7d06e010032"
      },
      "execution_count": null,
      "outputs": [
        {
          "output_type": "stream",
          "name": "stdout",
          "text": [
            "Source path =  /content/drive/My Drive/Project_data/train ; batch size = 32\n",
            "; Num of batches = 20\n",
            "; Current Batch = 0\n",
            "IMG tensor 0 [ 0  2  3  5  6  8  9 11 12 14 15 17 18 20 21 23 24 26 27 29]\n",
            "IMG DX list [ 0  2  3  5  6  8  9 11 12 14 15 17 18 20 21 23 24 26 27 29]\n",
            "IMGS... ['WIN_20180926_17_24_58_Pro_00035.png', 'WIN_20180926_17_24_58_Pro_00007.png', 'WIN_20180926_17_24_58_Pro_00049.png', 'WIN_20180926_17_24_58_Pro_00051.png', 'WIN_20180926_17_24_58_Pro_00047.png', 'WIN_20180926_17_24_58_Pro_00063.png', 'WIN_20180926_17_24_58_Pro_00033.png', 'WIN_20180926_17_24_58_Pro_00023.png', 'WIN_20180926_17_24_58_Pro_00021.png', 'WIN_20180926_17_24_58_Pro_00065.png', 'WIN_20180926_17_24_58_Pro_00013.png', 'WIN_20180926_17_24_58_Pro_00009.png', 'WIN_20180926_17_24_58_Pro_00039.png', 'WIN_20180926_17_24_58_Pro_00019.png', 'WIN_20180926_17_24_58_Pro_00045.png', 'WIN_20180926_17_24_58_Pro_00025.png', 'WIN_20180926_17_24_58_Pro_00059.png', 'WIN_20180926_17_24_58_Pro_00043.png', 'WIN_20180926_17_24_58_Pro_00055.png', 'WIN_20180926_17_24_58_Pro_00053.png', 'WIN_20180926_17_24_58_Pro_00029.png', 'WIN_20180926_17_24_58_Pro_00017.png', 'WIN_20180926_17_24_58_Pro_00015.png', 'WIN_20180926_17_24_58_Pro_00057.png', 'WIN_20180926_17_24_58_Pro_00037.png', 'WIN_20180926_17_24_58_Pro_00027.png', 'WIN_20180926_17_24_58_Pro_00031.png', 'WIN_20180926_17_24_58_Pro_00061.png', 'WIN_20180926_17_24_58_Pro_00041.png', 'WIN_20180926_17_24_58_Pro_00011.png']\n"
          ]
        },
        {
          "output_type": "stream",
          "name": "stderr",
          "text": [
            "<ipython-input-10-37d2658fef7f>:16: DeprecationWarning: Starting with ImageIO v3 the behavior of this function will switch to that of iio.v3.imread. To keep the current behavior (and make this warning disappear) use `import imageio.v2 as imageio` or call `imageio.v2.imread` directly.\n",
            "  image = imread(source_path+'/'+ t[folder + (batch*batch_size)].strip().split(';')[0]+'/'+imgs[item]).astype(np.float32)\n"
          ]
        },
        {
          "output_type": "stream",
          "name": "stdout",
          "text": [
            "IMGS... ['WIN_20180926_17_35_17_Pro_00060.png', 'WIN_20180926_17_35_17_Pro_00022.png', 'WIN_20180926_17_35_17_Pro_00038.png', 'WIN_20180926_17_35_17_Pro_00020.png', 'WIN_20180926_17_35_17_Pro_00026.png', 'WIN_20180926_17_35_17_Pro_00028.png', 'WIN_20180926_17_35_17_Pro_00058.png', 'WIN_20180926_17_35_17_Pro_00034.png', 'WIN_20180926_17_35_17_Pro_00042.png', 'WIN_20180926_17_35_17_Pro_00050.png', 'WIN_20180926_17_35_17_Pro_00056.png', 'WIN_20180926_17_35_17_Pro_00014.png', 'WIN_20180926_17_35_17_Pro_00018.png', 'WIN_20180926_17_35_17_Pro_00030.png', 'WIN_20180926_17_35_17_Pro_00040.png', 'WIN_20180926_17_35_17_Pro_00010.png', 'WIN_20180926_17_35_17_Pro_00006.png', 'WIN_20180926_17_35_17_Pro_00024.png', 'WIN_20180926_17_35_17_Pro_00048.png', 'WIN_20180926_17_35_17_Pro_00062.png', 'WIN_20180926_17_35_17_Pro_00016.png', 'WIN_20180926_17_35_17_Pro_00052.png', 'WIN_20180926_17_35_17_Pro_00008.png', 'WIN_20180926_17_35_17_Pro_00044.png', 'WIN_20180926_17_35_17_Pro_00004.png', 'WIN_20180926_17_35_17_Pro_00054.png', 'WIN_20180926_17_35_17_Pro_00032.png', 'WIN_20180926_17_35_17_Pro_00036.png', 'WIN_20180926_17_35_17_Pro_00046.png', 'WIN_20180926_17_35_17_Pro_00012.png']\n",
            "IMGS... ['WIN_20180925_17_58_10_Pro_00056.png', 'WIN_20180925_17_58_10_Pro_00034.png', 'WIN_20180925_17_58_10_Pro_00040.png', 'WIN_20180925_17_58_10_Pro_00026.png', 'WIN_20180925_17_58_10_Pro_00020.png', 'WIN_20180925_17_58_10_Pro_00018.png', 'WIN_20180925_17_58_10_Pro_00042.png', 'WIN_20180925_17_58_10_Pro_00032.png', 'WIN_20180925_17_58_10_Pro_00002.png', 'WIN_20180925_17_58_10_Pro_00058.png', 'WIN_20180925_17_58_10_Pro_00024.png', 'WIN_20180925_17_58_10_Pro_00050.png', 'WIN_20180925_17_58_10_Pro_00030.png', 'WIN_20180925_17_58_10_Pro_00048.png', 'WIN_20180925_17_58_10_Pro_00036.png', 'WIN_20180925_17_58_10_Pro_00028.png', 'WIN_20180925_17_58_10_Pro_00010.png', 'WIN_20180925_17_58_10_Pro_00022.png', 'WIN_20180925_17_58_10_Pro_00014.png', 'WIN_20180925_17_58_10_Pro_00004.png', 'WIN_20180925_17_58_10_Pro_00060.png', 'WIN_20180925_17_58_10_Pro_00052.png', 'WIN_20180925_17_58_10_Pro_00054.png', 'WIN_20180925_17_58_10_Pro_00016.png', 'WIN_20180925_17_58_10_Pro_00008.png', 'WIN_20180925_17_58_10_Pro_00046.png', 'WIN_20180925_17_58_10_Pro_00006.png', 'WIN_20180925_17_58_10_Pro_00038.png', 'WIN_20180925_17_58_10_Pro_00044.png', 'WIN_20180925_17_58_10_Pro_00012.png']\n",
            "IMGS... ['WIN_20180925_17_20_16_Pro_00014.png', 'WIN_20180925_17_20_16_Pro_00011.png', 'WIN_20180925_17_20_16_Pro_00039.png', 'WIN_20180925_17_20_16_Pro_00023.png', 'WIN_20180925_17_20_16_Pro_00034.png', 'WIN_20180925_17_20_16_Pro_00025.png', 'WIN_20180925_17_20_16_Pro_00026.png', 'WIN_20180925_17_20_16_Pro_00020.png', 'WIN_20180925_17_20_16_Pro_00032.png', 'WIN_20180925_17_20_16_Pro_00015.png', 'WIN_20180925_17_20_16_Pro_00027.png', 'WIN_20180925_17_20_16_Pro_00024.png', 'WIN_20180925_17_20_16_Pro_00036.png', 'WIN_20180925_17_20_16_Pro_00030.png', 'WIN_20180925_17_20_16_Pro_00037.png', 'WIN_20180925_17_20_16_Pro_00012.png', 'WIN_20180925_17_20_16_Pro_00019.png', 'WIN_20180925_17_20_16_Pro_00038.png', 'WIN_20180925_17_20_16_Pro_00018.png', 'WIN_20180925_17_20_16_Pro_00031.png', 'WIN_20180925_17_20_16_Pro_00033.png', 'WIN_20180925_17_20_16_Pro_00035.png', 'WIN_20180925_17_20_16_Pro_00029.png', 'WIN_20180925_17_20_16_Pro_00028.png', 'WIN_20180925_17_20_16_Pro_00021.png', 'WIN_20180925_17_20_16_Pro_00017.png', 'WIN_20180925_17_20_16_Pro_00022.png', 'WIN_20180925_17_20_16_Pro_00013.png', 'WIN_20180925_17_20_16_Pro_00010.png', 'WIN_20180925_17_20_16_Pro_00016.png']\n",
            "IMGS... ['WIN_20180926_16_58_12_Pro_00030.png', 'WIN_20180926_16_58_12_Pro_00010.png', 'WIN_20180926_16_58_12_Pro_00014.png', 'WIN_20180926_16_58_12_Pro_00040.png', 'WIN_20180926_16_58_12_Pro_00018.png', 'WIN_20180926_16_58_12_Pro_00034.png', 'WIN_20180926_16_58_12_Pro_00058.png', 'WIN_20180926_16_58_12_Pro_00052.png', 'WIN_20180926_16_58_12_Pro_00032.png', 'WIN_20180926_16_58_12_Pro_00044.png', 'WIN_20180926_16_58_12_Pro_00056.png', 'WIN_20180926_16_58_12_Pro_00038.png', 'WIN_20180926_16_58_12_Pro_00020.png', 'WIN_20180926_16_58_12_Pro_00042.png', 'WIN_20180926_16_58_12_Pro_00026.png', 'WIN_20180926_16_58_12_Pro_00054.png', 'WIN_20180926_16_58_12_Pro_00012.png', 'WIN_20180926_16_58_12_Pro_00016.png', 'WIN_20180926_16_58_12_Pro_00036.png', 'WIN_20180926_16_58_12_Pro_00050.png', 'WIN_20180926_16_58_12_Pro_00008.png', 'WIN_20180926_16_58_12_Pro_00060.png', 'WIN_20180926_16_58_12_Pro_00022.png', 'WIN_20180926_16_58_12_Pro_00006.png', 'WIN_20180926_16_58_12_Pro_00028.png', 'WIN_20180926_16_58_12_Pro_00046.png', 'WIN_20180926_16_58_12_Pro_00048.png', 'WIN_20180926_16_58_12_Pro_00024.png', 'WIN_20180926_16_58_12_Pro_00064.png', 'WIN_20180926_16_58_12_Pro_00062.png']\n",
            "IMGS... ['WIN_20180926_17_33_51_Pro_00056.png', 'WIN_20180926_17_33_51_Pro_00054.png', 'WIN_20180926_17_33_51_Pro_00020.png', 'WIN_20180926_17_33_51_Pro_00002.png', 'WIN_20180926_17_33_51_Pro_00026.png', 'WIN_20180926_17_33_51_Pro_00006.png', 'WIN_20180926_17_33_51_Pro_00010.png', 'WIN_20180926_17_33_51_Pro_00060.png', 'WIN_20180926_17_33_51_Pro_00028.png', 'WIN_20180926_17_33_51_Pro_00016.png', 'WIN_20180926_17_33_51_Pro_00048.png', 'WIN_20180926_17_33_51_Pro_00038.png', 'WIN_20180926_17_33_51_Pro_00034.png', 'WIN_20180926_17_33_51_Pro_00024.png', 'WIN_20180926_17_33_51_Pro_00030.png', 'WIN_20180926_17_33_51_Pro_00004.png', 'WIN_20180926_17_33_51_Pro_00040.png', 'WIN_20180926_17_33_51_Pro_00022.png', 'WIN_20180926_17_33_51_Pro_00046.png', 'WIN_20180926_17_33_51_Pro_00012.png', 'WIN_20180926_17_33_51_Pro_00044.png', 'WIN_20180926_17_33_51_Pro_00052.png', 'WIN_20180926_17_33_51_Pro_00050.png', 'WIN_20180926_17_33_51_Pro_00036.png', 'WIN_20180926_17_33_51_Pro_00018.png', 'WIN_20180926_17_33_51_Pro_00042.png', 'WIN_20180926_17_33_51_Pro_00058.png', 'WIN_20180926_17_33_51_Pro_00008.png', 'WIN_20180926_17_33_51_Pro_00032.png', 'WIN_20180926_17_33_51_Pro_00014.png']\n",
            "IMGS... ['WIN_20180925_17_22_11_Pro_00038.png', 'WIN_20180925_17_22_11_Pro_00015.png', 'WIN_20180925_17_22_11_Pro_00036.png', 'WIN_20180925_17_22_11_Pro_00025.png', 'WIN_20180925_17_22_11_Pro_00019.png', 'WIN_20180925_17_22_11_Pro_00040.png', 'WIN_20180925_17_22_11_Pro_00013.png', 'WIN_20180925_17_22_11_Pro_00024.png', 'WIN_20180925_17_22_11_Pro_00027.png', 'WIN_20180925_17_22_11_Pro_00042.png', 'WIN_20180925_17_22_11_Pro_00032.png', 'WIN_20180925_17_22_11_Pro_00029.png', 'WIN_20180925_17_22_11_Pro_00039.png', 'WIN_20180925_17_22_11_Pro_00028.png', 'WIN_20180925_17_22_11_Pro_00034.png', 'WIN_20180925_17_22_11_Pro_00021.png', 'WIN_20180925_17_22_11_Pro_00020.png', 'WIN_20180925_17_22_11_Pro_00016.png', 'WIN_20180925_17_22_11_Pro_00014.png', 'WIN_20180925_17_22_11_Pro_00018.png', 'WIN_20180925_17_22_11_Pro_00023.png', 'WIN_20180925_17_22_11_Pro_00033.png', 'WIN_20180925_17_22_11_Pro_00022.png', 'WIN_20180925_17_22_11_Pro_00031.png', 'WIN_20180925_17_22_11_Pro_00030.png', 'WIN_20180925_17_22_11_Pro_00035.png', 'WIN_20180925_17_22_11_Pro_00041.png', 'WIN_20180925_17_22_11_Pro_00017.png', 'WIN_20180925_17_22_11_Pro_00026.png', 'WIN_20180925_17_22_11_Pro_00037.png']\n",
            "IMGS... ['WIN_20180926_16_49_15_Pro_00019.png', 'WIN_20180926_16_49_15_Pro_00011.png', 'WIN_20180926_16_49_15_Pro_00017.png', 'WIN_20180926_16_49_15_Pro_00007.png', 'WIN_20180926_16_49_15_Pro_00013.png', 'WIN_20180926_16_49_15_Pro_00009.png', 'WIN_20180926_16_49_15_Pro_00015.png', 'WIN_20180926_16_49_15_Pro_00005.png', 'WIN_20180926_16_49_15_Pro_00035.png', 'WIN_20180926_16_49_15_Pro_00045.png', 'WIN_20180926_16_49_15_Pro_00043.png', 'WIN_20180926_16_49_15_Pro_00029.png', 'WIN_20180926_16_49_15_Pro_00061.png', 'WIN_20180926_16_49_15_Pro_00039.png', 'WIN_20180926_16_49_15_Pro_00021.png', 'WIN_20180926_16_49_15_Pro_00033.png', 'WIN_20180926_16_49_15_Pro_00023.png', 'WIN_20180926_16_49_15_Pro_00049.png', 'WIN_20180926_16_49_15_Pro_00063.png', 'WIN_20180926_16_49_15_Pro_00031.png', 'WIN_20180926_16_49_15_Pro_00055.png', 'WIN_20180926_16_49_15_Pro_00037.png', 'WIN_20180926_16_49_15_Pro_00041.png', 'WIN_20180926_16_49_15_Pro_00053.png', 'WIN_20180926_16_49_15_Pro_00027.png', 'WIN_20180926_16_49_15_Pro_00059.png', 'WIN_20180926_16_49_15_Pro_00051.png', 'WIN_20180926_16_49_15_Pro_00047.png', 'WIN_20180926_16_49_15_Pro_00025.png', 'WIN_20180926_16_49_15_Pro_00057.png']\n",
            "IMGS... ['WIN_20180925_18_14_35_Pro_00024.png', 'WIN_20180925_18_14_35_Pro_00036.png', 'WIN_20180925_18_14_35_Pro_00017.png', 'WIN_20180925_18_14_35_Pro_00042.png', 'WIN_20180925_18_14_35_Pro_00016.png', 'WIN_20180925_18_14_35_Pro_00030.png', 'WIN_20180925_18_14_35_Pro_00018.png', 'WIN_20180925_18_14_35_Pro_00029.png', 'WIN_20180925_18_14_35_Pro_00026.png', 'WIN_20180925_18_14_35_Pro_00027.png', 'WIN_20180925_18_14_35_Pro_00039.png', 'WIN_20180925_18_14_35_Pro_00043.png', 'WIN_20180925_18_14_35_Pro_00028.png', 'WIN_20180925_18_14_35_Pro_00034.png', 'WIN_20180925_18_14_35_Pro_00044.png', 'WIN_20180925_18_14_35_Pro_00021.png', 'WIN_20180925_18_14_35_Pro_00015.png', 'WIN_20180925_18_14_35_Pro_00025.png', 'WIN_20180925_18_14_35_Pro_00032.png', 'WIN_20180925_18_14_35_Pro_00020.png', 'WIN_20180925_18_14_35_Pro_00037.png', 'WIN_20180925_18_14_35_Pro_00023.png', 'WIN_20180925_18_14_35_Pro_00033.png', 'WIN_20180925_18_14_35_Pro_00031.png', 'WIN_20180925_18_14_35_Pro_00035.png', 'WIN_20180925_18_14_35_Pro_00019.png', 'WIN_20180925_18_14_35_Pro_00038.png', 'WIN_20180925_18_14_35_Pro_00022.png', 'WIN_20180925_18_14_35_Pro_00041.png', 'WIN_20180925_18_14_35_Pro_00040.png']\n",
            "IMGS... ['WIN_20180925_18_01_30_Pro_00015.png', 'WIN_20180925_18_01_30_Pro_00016.png', 'WIN_20180925_18_01_30_Pro_00025.png', 'WIN_20180925_18_01_30_Pro_00018.png', 'WIN_20180925_18_01_30_Pro_00028.png', 'WIN_20180925_18_01_30_Pro_00042.png', 'WIN_20180925_18_01_30_Pro_00044.png', 'WIN_20180925_18_01_30_Pro_00032.png', 'WIN_20180925_18_01_30_Pro_00043.png', 'WIN_20180925_18_01_30_Pro_00038.png', 'WIN_20180925_18_01_30_Pro_00022.png', 'WIN_20180925_18_01_30_Pro_00027.png', 'WIN_20180925_18_01_30_Pro_00041.png', 'WIN_20180925_18_01_30_Pro_00017.png', 'WIN_20180925_18_01_30_Pro_00020.png', 'WIN_20180925_18_01_30_Pro_00039.png', 'WIN_20180925_18_01_30_Pro_00034.png', 'WIN_20180925_18_01_30_Pro_00031.png', 'WIN_20180925_18_01_30_Pro_00023.png', 'WIN_20180925_18_01_30_Pro_00035.png', 'WIN_20180925_18_01_30_Pro_00019.png', 'WIN_20180925_18_01_30_Pro_00026.png', 'WIN_20180925_18_01_30_Pro_00036.png', 'WIN_20180925_18_01_30_Pro_00040.png', 'WIN_20180925_18_01_30_Pro_00033.png', 'WIN_20180925_18_01_30_Pro_00024.png', 'WIN_20180925_18_01_30_Pro_00021.png', 'WIN_20180925_18_01_30_Pro_00037.png', 'WIN_20180925_18_01_30_Pro_00029.png', 'WIN_20180925_18_01_30_Pro_00030.png']\n",
            "IMGS... ['WIN_20180925_17_31_02_Pro_00021.png', 'WIN_20180925_17_31_02_Pro_00011.png', 'WIN_20180925_17_31_02_Pro_00015.png', 'WIN_20180925_17_31_02_Pro_00031.png', 'WIN_20180925_17_31_02_Pro_00025.png', 'WIN_20180925_17_31_02_Pro_00029.png', 'WIN_20180925_17_31_02_Pro_00009.png', 'WIN_20180925_17_31_02_Pro_00023.png', 'WIN_20180925_17_31_02_Pro_00007.png', 'WIN_20180925_17_31_02_Pro_00017.png', 'WIN_20180925_17_31_02_Pro_00033.png', 'WIN_20180925_17_31_02_Pro_00013.png', 'WIN_20180925_17_31_02_Pro_00019.png', 'WIN_20180925_17_31_02_Pro_00027.png', 'WIN_20180925_17_31_02_Pro_00045.png', 'WIN_20180925_17_31_02_Pro_00037.png', 'WIN_20180925_17_31_02_Pro_00061.png', 'WIN_20180925_17_31_02_Pro_00049.png', 'WIN_20180925_17_31_02_Pro_00057.png', 'WIN_20180925_17_31_02_Pro_00063.png', 'WIN_20180925_17_31_02_Pro_00053.png', 'WIN_20180925_17_31_02_Pro_00039.png', 'WIN_20180925_17_31_02_Pro_00059.png', 'WIN_20180925_17_31_02_Pro_00047.png', 'WIN_20180925_17_31_02_Pro_00035.png', 'WIN_20180925_17_31_02_Pro_00065.png', 'WIN_20180925_17_31_02_Pro_00051.png', 'WIN_20180925_17_31_02_Pro_00055.png', 'WIN_20180925_17_31_02_Pro_00041.png', 'WIN_20180925_17_31_02_Pro_00043.png']\n",
            "IMGS... ['WIN_20180907_16_05_08_Pro_00014.png', 'WIN_20180907_16_05_08_Pro_00020.png', 'WIN_20180907_16_05_08_Pro_00018.png', 'WIN_20180907_16_05_08_Pro_00030.png', 'WIN_20180907_16_05_08_Pro_00028.png', 'WIN_20180907_16_05_08_Pro_00016.png', 'WIN_20180907_16_05_08_Pro_00026.png', 'WIN_20180907_16_05_08_Pro_00022.png', 'WIN_20180907_16_05_08_Pro_00024.png', 'WIN_20180907_16_05_08_Pro_00032.png', 'WIN_20180907_16_05_08_Pro_00042.png', 'WIN_20180907_16_05_08_Pro_00038.png', 'WIN_20180907_16_05_08_Pro_00036.png', 'WIN_20180907_16_05_08_Pro_00034.png', 'WIN_20180907_16_05_08_Pro_00040.png', 'WIN_20180907_16_05_08_Pro_00044.png', 'WIN_20180907_16_05_08_Pro_00050.png', 'WIN_20180907_16_05_08_Pro_00046.png', 'WIN_20180907_16_05_08_Pro_00048.png', 'WIN_20180907_16_05_08_Pro_00052.png', 'WIN_20180907_16_05_08_Pro_00072.png', 'WIN_20180907_16_05_08_Pro_00060.png', 'WIN_20180907_16_05_08_Pro_00064.png', 'WIN_20180907_16_05_08_Pro_00068.png', 'WIN_20180907_16_05_08_Pro_00058.png', 'WIN_20180907_16_05_08_Pro_00070.png', 'WIN_20180907_16_05_08_Pro_00066.png', 'WIN_20180907_16_05_08_Pro_00062.png', 'WIN_20180907_16_05_08_Pro_00054.png', 'WIN_20180907_16_05_08_Pro_00056.png']\n",
            "IMGS... ['WIN_20180925_17_57_22_Pro_00015.png', 'WIN_20180925_17_57_22_Pro_00011.png', 'WIN_20180925_17_57_22_Pro_00013.png', 'WIN_20180925_17_57_22_Pro_00017.png', 'WIN_20180925_17_57_22_Pro_00047.png', 'WIN_20180925_17_57_22_Pro_00039.png', 'WIN_20180925_17_57_22_Pro_00059.png', 'WIN_20180925_17_57_22_Pro_00027.png', 'WIN_20180925_17_57_22_Pro_00055.png', 'WIN_20180925_17_57_22_Pro_00051.png', 'WIN_20180925_17_57_22_Pro_00061.png', 'WIN_20180925_17_57_22_Pro_00037.png', 'WIN_20180925_17_57_22_Pro_00053.png', 'WIN_20180925_17_57_22_Pro_00045.png', 'WIN_20180925_17_57_22_Pro_00031.png', 'WIN_20180925_17_57_22_Pro_00033.png', 'WIN_20180925_17_57_22_Pro_00049.png', 'WIN_20180925_17_57_22_Pro_00063.png', 'WIN_20180925_17_57_22_Pro_00029.png', 'WIN_20180925_17_57_22_Pro_00041.png', 'WIN_20180925_17_57_22_Pro_00065.png', 'WIN_20180925_17_57_22_Pro_00035.png', 'WIN_20180925_17_57_22_Pro_00023.png', 'WIN_20180925_17_57_22_Pro_00025.png', 'WIN_20180925_17_57_22_Pro_00019.png', 'WIN_20180925_17_57_22_Pro_00057.png', 'WIN_20180925_17_57_22_Pro_00067.png', 'WIN_20180925_17_57_22_Pro_00069.png', 'WIN_20180925_17_57_22_Pro_00043.png', 'WIN_20180925_17_57_22_Pro_00021.png']\n",
            "IMGS... ['WIN_20180926_16_58_27_Pro_00045.png', 'WIN_20180926_16_58_27_Pro_00061.png', 'WIN_20180926_16_58_27_Pro_00035.png', 'WIN_20180926_16_58_27_Pro_00011.png', 'WIN_20180926_16_58_27_Pro_00025.png', 'WIN_20180926_16_58_27_Pro_00031.png', 'WIN_20180926_16_58_27_Pro_00027.png', 'WIN_20180926_16_58_27_Pro_00021.png', 'WIN_20180926_16_58_27_Pro_00059.png', 'WIN_20180926_16_58_27_Pro_00055.png', 'WIN_20180926_16_58_27_Pro_00007.png', 'WIN_20180926_16_58_27_Pro_00017.png', 'WIN_20180926_16_58_27_Pro_00043.png', 'WIN_20180926_16_58_27_Pro_00013.png', 'WIN_20180926_16_58_27_Pro_00037.png', 'WIN_20180926_16_58_27_Pro_00041.png', 'WIN_20180926_16_58_27_Pro_00039.png', 'WIN_20180926_16_58_27_Pro_00033.png', 'WIN_20180926_16_58_27_Pro_00023.png', 'WIN_20180926_16_58_27_Pro_00005.png', 'WIN_20180926_16_58_27_Pro_00053.png', 'WIN_20180926_16_58_27_Pro_00019.png', 'WIN_20180926_16_58_27_Pro_00057.png', 'WIN_20180926_16_58_27_Pro_00015.png', 'WIN_20180926_16_58_27_Pro_00047.png', 'WIN_20180926_16_58_27_Pro_00003.png', 'WIN_20180926_16_58_27_Pro_00009.png', 'WIN_20180926_16_58_27_Pro_00049.png', 'WIN_20180926_16_58_27_Pro_00051.png', 'WIN_20180926_16_58_27_Pro_00029.png']\n",
            "IMGS... ['WIN_20180926_16_52_43_Pro_00031.png', 'WIN_20180926_16_52_43_Pro_00017.png', 'WIN_20180926_16_52_43_Pro_00012.png', 'WIN_20180926_16_52_43_Pro_00014.png', 'WIN_20180926_16_52_43_Pro_00024.png', 'WIN_20180926_16_52_43_Pro_00018.png', 'WIN_20180926_16_52_43_Pro_00040.png', 'WIN_20180926_16_52_43_Pro_00025.png', 'WIN_20180926_16_52_43_Pro_00016.png', 'WIN_20180926_16_52_43_Pro_00038.png', 'WIN_20180926_16_52_43_Pro_00034.png', 'WIN_20180926_16_52_43_Pro_00019.png', 'WIN_20180926_16_52_43_Pro_00028.png', 'WIN_20180926_16_52_43_Pro_00037.png', 'WIN_20180926_16_52_43_Pro_00021.png', 'WIN_20180926_16_52_43_Pro_00032.png', 'WIN_20180926_16_52_43_Pro_00029.png', 'WIN_20180926_16_52_43_Pro_00022.png', 'WIN_20180926_16_52_43_Pro_00015.png', 'WIN_20180926_16_52_43_Pro_00033.png', 'WIN_20180926_16_52_43_Pro_00013.png', 'WIN_20180926_16_52_43_Pro_00020.png', 'WIN_20180926_16_52_43_Pro_00011.png', 'WIN_20180926_16_52_43_Pro_00030.png', 'WIN_20180926_16_52_43_Pro_00039.png', 'WIN_20180926_16_52_43_Pro_00035.png', 'WIN_20180926_16_52_43_Pro_00036.png', 'WIN_20180926_16_52_43_Pro_00023.png', 'WIN_20180926_16_52_43_Pro_00026.png', 'WIN_20180926_16_52_43_Pro_00027.png']\n",
            "IMGS... ['WIN_20180907_15_59_44_Pro_00027.png', 'WIN_20180907_15_59_44_Pro_00021.png', 'WIN_20180907_15_59_44_Pro_00023.png', 'WIN_20180907_15_59_44_Pro_00017.png', 'WIN_20180907_15_59_44_Pro_00029.png', 'WIN_20180907_15_59_44_Pro_00015.png', 'WIN_20180907_15_59_44_Pro_00025.png', 'WIN_20180907_15_59_44_Pro_00013.png', 'WIN_20180907_15_59_44_Pro_00019.png', 'WIN_20180907_15_59_44_Pro_00039.png', 'WIN_20180907_15_59_44_Pro_00041.png', 'WIN_20180907_15_59_44_Pro_00035.png', 'WIN_20180907_15_59_44_Pro_00031.png', 'WIN_20180907_15_59_44_Pro_00045.png', 'WIN_20180907_15_59_44_Pro_00043.png', 'WIN_20180907_15_59_44_Pro_00033.png', 'WIN_20180907_15_59_44_Pro_00037.png', 'WIN_20180907_15_59_44_Pro_00065.png', 'WIN_20180907_15_59_44_Pro_00071.png', 'WIN_20180907_15_59_44_Pro_00057.png', 'WIN_20180907_15_59_44_Pro_00051.png', 'WIN_20180907_15_59_44_Pro_00069.png', 'WIN_20180907_15_59_44_Pro_00055.png', 'WIN_20180907_15_59_44_Pro_00067.png', 'WIN_20180907_15_59_44_Pro_00053.png', 'WIN_20180907_15_59_44_Pro_00063.png', 'WIN_20180907_15_59_44_Pro_00059.png', 'WIN_20180907_15_59_44_Pro_00047.png', 'WIN_20180907_15_59_44_Pro_00061.png', 'WIN_20180907_15_59_44_Pro_00049.png']\n",
            "IMGS... ['WIN_20180925_17_36_07_Pro_00014.png', 'WIN_20180925_17_36_07_Pro_00054.png', 'WIN_20180925_17_36_07_Pro_00024.png', 'WIN_20180925_17_36_07_Pro_00034.png', 'WIN_20180925_17_36_07_Pro_00058.png', 'WIN_20180925_17_36_07_Pro_00022.png', 'WIN_20180925_17_36_07_Pro_00046.png', 'WIN_20180925_17_36_07_Pro_00032.png', 'WIN_20180925_17_36_07_Pro_00044.png', 'WIN_20180925_17_36_07_Pro_00060.png', 'WIN_20180925_17_36_07_Pro_00020.png', 'WIN_20180925_17_36_07_Pro_00012.png', 'WIN_20180925_17_36_07_Pro_00008.png', 'WIN_20180925_17_36_07_Pro_00006.png', 'WIN_20180925_17_36_07_Pro_00010.png', 'WIN_20180925_17_36_07_Pro_00016.png', 'WIN_20180925_17_36_07_Pro_00030.png', 'WIN_20180925_17_36_07_Pro_00062.png', 'WIN_20180925_17_36_07_Pro_00048.png', 'WIN_20180925_17_36_07_Pro_00056.png', 'WIN_20180925_17_36_07_Pro_00026.png', 'WIN_20180925_17_36_07_Pro_00018.png', 'WIN_20180925_17_36_07_Pro_00038.png', 'WIN_20180925_17_36_07_Pro_00036.png', 'WIN_20180925_17_36_07_Pro_00042.png', 'WIN_20180925_17_36_07_Pro_00028.png', 'WIN_20180925_17_36_07_Pro_00040.png', 'WIN_20180925_17_36_07_Pro_00052.png', 'WIN_20180925_17_36_07_Pro_00004.png', 'WIN_20180925_17_36_07_Pro_00050.png']\n",
            "IMGS... ['WIN_20180926_17_24_33_Pro_00014.png', 'WIN_20180926_17_24_33_Pro_00033.png', 'WIN_20180926_17_24_33_Pro_00031.png', 'WIN_20180926_17_24_33_Pro_00016.png', 'WIN_20180926_17_24_33_Pro_00038.png', 'WIN_20180926_17_24_33_Pro_00040.png', 'WIN_20180926_17_24_33_Pro_00043.png', 'WIN_20180926_17_24_33_Pro_00025.png', 'WIN_20180926_17_24_33_Pro_00019.png', 'WIN_20180926_17_24_33_Pro_00027.png', 'WIN_20180926_17_24_33_Pro_00026.png', 'WIN_20180926_17_24_33_Pro_00023.png', 'WIN_20180926_17_24_33_Pro_00021.png', 'WIN_20180926_17_24_33_Pro_00039.png', 'WIN_20180926_17_24_33_Pro_00029.png', 'WIN_20180926_17_24_33_Pro_00022.png', 'WIN_20180926_17_24_33_Pro_00030.png', 'WIN_20180926_17_24_33_Pro_00032.png', 'WIN_20180926_17_24_33_Pro_00035.png', 'WIN_20180926_17_24_33_Pro_00034.png', 'WIN_20180926_17_24_33_Pro_00036.png', 'WIN_20180926_17_24_33_Pro_00015.png', 'WIN_20180926_17_24_33_Pro_00018.png', 'WIN_20180926_17_24_33_Pro_00028.png', 'WIN_20180926_17_24_33_Pro_00024.png', 'WIN_20180926_17_24_33_Pro_00017.png', 'WIN_20180926_17_24_33_Pro_00037.png', 'WIN_20180926_17_24_33_Pro_00042.png', 'WIN_20180926_17_24_33_Pro_00020.png', 'WIN_20180926_17_24_33_Pro_00041.png']\n",
            "IMGS... ['WIN_20180907_15_48_01_Pro_00052.png', 'WIN_20180907_15_48_01_Pro_00028.png', 'WIN_20180907_15_48_01_Pro_00040.png', 'WIN_20180907_15_48_01_Pro_00034.png', 'WIN_20180907_15_48_01_Pro_00026.png', 'WIN_20180907_15_48_01_Pro_00046.png', 'WIN_20180907_15_48_01_Pro_00010.png', 'WIN_20180907_15_48_01_Pro_00050.png', 'WIN_20180907_15_48_01_Pro_00008.png', 'WIN_20180907_15_48_01_Pro_00012.png', 'WIN_20180907_15_48_01_Pro_00016.png', 'WIN_20180907_15_48_01_Pro_00030.png', 'WIN_20180907_15_48_01_Pro_00054.png', 'WIN_20180907_15_48_01_Pro_00024.png', 'WIN_20180907_15_48_01_Pro_00014.png', 'WIN_20180907_15_48_01_Pro_00036.png', 'WIN_20180907_15_48_01_Pro_00022.png', 'WIN_20180907_15_48_01_Pro_00042.png', 'WIN_20180907_15_48_01_Pro_00018.png', 'WIN_20180907_15_48_01_Pro_00038.png', 'WIN_20180907_15_48_01_Pro_00048.png', 'WIN_20180907_15_48_01_Pro_00032.png', 'WIN_20180907_15_48_01_Pro_00020.png', 'WIN_20180907_15_48_01_Pro_00044.png', 'WIN_20180907_15_48_01_Pro_00066.png', 'WIN_20180907_15_48_01_Pro_00060.png', 'WIN_20180907_15_48_01_Pro_00062.png', 'WIN_20180907_15_48_01_Pro_00058.png', 'WIN_20180907_15_48_01_Pro_00064.png', 'WIN_20180907_15_48_01_Pro_00056.png']\n",
            "IMGS... ['WIN_20180925_17_39_11_Pro_00013.png', 'WIN_20180925_17_39_11_Pro_00019.png', 'WIN_20180925_17_39_11_Pro_00022.png', 'WIN_20180925_17_39_11_Pro_00026.png', 'WIN_20180925_17_39_11_Pro_00015.png', 'WIN_20180925_17_39_11_Pro_00023.png', 'WIN_20180925_17_39_11_Pro_00016.png', 'WIN_20180925_17_39_11_Pro_00008.png', 'WIN_20180925_17_39_11_Pro_00024.png', 'WIN_20180925_17_39_11_Pro_00012.png', 'WIN_20180925_17_39_11_Pro_00036.png', 'WIN_20180925_17_39_11_Pro_00027.png', 'WIN_20180925_17_39_11_Pro_00021.png', 'WIN_20180925_17_39_11_Pro_00028.png', 'WIN_20180925_17_39_11_Pro_00034.png', 'WIN_20180925_17_39_11_Pro_00009.png', 'WIN_20180925_17_39_11_Pro_00011.png', 'WIN_20180925_17_39_11_Pro_00014.png', 'WIN_20180925_17_39_11_Pro_00030.png', 'WIN_20180925_17_39_11_Pro_00020.png', 'WIN_20180925_17_39_11_Pro_00033.png', 'WIN_20180925_17_39_11_Pro_00032.png', 'WIN_20180925_17_39_11_Pro_00035.png', 'WIN_20180925_17_39_11_Pro_00017.png', 'WIN_20180925_17_39_11_Pro_00037.png', 'WIN_20180925_17_39_11_Pro_00018.png', 'WIN_20180925_17_39_11_Pro_00029.png', 'WIN_20180925_17_39_11_Pro_00031.png', 'WIN_20180925_17_39_11_Pro_00010.png', 'WIN_20180925_17_39_11_Pro_00025.png']\n",
            "IMGS... ['WIN_20180926_17_06_30_Pro_00021.png', 'WIN_20180926_17_06_30_Pro_00003.png', 'WIN_20180926_17_06_30_Pro_00025.png', 'WIN_20180926_17_06_30_Pro_00045.png', 'WIN_20180926_17_06_30_Pro_00053.png', 'WIN_20180926_17_06_30_Pro_00039.png', 'WIN_20180926_17_06_30_Pro_00015.png', 'WIN_20180926_17_06_30_Pro_00051.png', 'WIN_20180926_17_06_30_Pro_00043.png', 'WIN_20180926_17_06_30_Pro_00019.png', 'WIN_20180926_17_06_30_Pro_00033.png', 'WIN_20180926_17_06_30_Pro_00023.png', 'WIN_20180926_17_06_30_Pro_00041.png', 'WIN_20180926_17_06_30_Pro_00005.png', 'WIN_20180926_17_06_30_Pro_00031.png', 'WIN_20180926_17_06_30_Pro_00035.png', 'WIN_20180926_17_06_30_Pro_00037.png', 'WIN_20180926_17_06_30_Pro_00013.png', 'WIN_20180926_17_06_30_Pro_00047.png', 'WIN_20180926_17_06_30_Pro_00049.png', 'WIN_20180926_17_06_30_Pro_00027.png', 'WIN_20180926_17_06_30_Pro_00011.png', 'WIN_20180926_17_06_30_Pro_00007.png', 'WIN_20180926_17_06_30_Pro_00009.png', 'WIN_20180926_17_06_30_Pro_00029.png', 'WIN_20180926_17_06_30_Pro_00017.png', 'WIN_20180926_17_06_30_Pro_00061.png', 'WIN_20180926_17_06_30_Pro_00055.png', 'WIN_20180926_17_06_30_Pro_00059.png', 'WIN_20180926_17_06_30_Pro_00057.png']\n",
            "IMGS... ['WIN_20180926_17_21_24_Pro_00050.png', 'WIN_20180926_17_21_24_Pro_00040.png', 'WIN_20180926_17_21_24_Pro_00058.png', 'WIN_20180926_17_21_24_Pro_00006.png', 'WIN_20180926_17_21_24_Pro_00002.png', 'WIN_20180926_17_21_24_Pro_00022.png', 'WIN_20180926_17_21_24_Pro_00048.png', 'WIN_20180926_17_21_24_Pro_00034.png', 'WIN_20180926_17_21_24_Pro_00024.png', 'WIN_20180926_17_21_24_Pro_00018.png', 'WIN_20180926_17_21_24_Pro_00008.png', 'WIN_20180926_17_21_24_Pro_00016.png', 'WIN_20180926_17_21_24_Pro_00020.png', 'WIN_20180926_17_21_24_Pro_00026.png', 'WIN_20180926_17_21_24_Pro_00032.png', 'WIN_20180926_17_21_24_Pro_00010.png', 'WIN_20180926_17_21_24_Pro_00030.png', 'WIN_20180926_17_21_24_Pro_00046.png', 'WIN_20180926_17_21_24_Pro_00052.png', 'WIN_20180926_17_21_24_Pro_00012.png', 'WIN_20180926_17_21_24_Pro_00054.png', 'WIN_20180926_17_21_24_Pro_00044.png', 'WIN_20180926_17_21_24_Pro_00056.png', 'WIN_20180926_17_21_24_Pro_00036.png', 'WIN_20180926_17_21_24_Pro_00004.png', 'WIN_20180926_17_21_24_Pro_00014.png', 'WIN_20180926_17_21_24_Pro_00042.png', 'WIN_20180926_17_21_24_Pro_00038.png', 'WIN_20180926_17_21_24_Pro_00028.png', 'WIN_20180926_17_21_24_Pro_00060.png']\n",
            "IMGS... ['WIN_20180907_16_30_24_Pro_00026.png', 'WIN_20180907_16_30_24_Pro_00018.png', 'WIN_20180907_16_30_24_Pro_00020.png', 'WIN_20180907_16_30_24_Pro_00012.png', 'WIN_20180907_16_30_24_Pro_00024.png', 'WIN_20180907_16_30_24_Pro_00022.png', 'WIN_20180907_16_30_24_Pro_00016.png', 'WIN_20180907_16_30_24_Pro_00014.png', 'WIN_20180907_16_30_24_Pro_00028.png', 'WIN_20180907_16_30_24_Pro_00032.png', 'WIN_20180907_16_30_24_Pro_00034.png', 'WIN_20180907_16_30_24_Pro_00030.png', 'WIN_20180907_16_30_24_Pro_00036.png', 'WIN_20180907_16_30_24_Pro_00038.png', 'WIN_20180907_16_30_24_Pro_00040.png', 'WIN_20180907_16_30_24_Pro_00052.png', 'WIN_20180907_16_30_24_Pro_00044.png', 'WIN_20180907_16_30_24_Pro_00066.png', 'WIN_20180907_16_30_24_Pro_00046.png', 'WIN_20180907_16_30_24_Pro_00062.png', 'WIN_20180907_16_30_24_Pro_00050.png', 'WIN_20180907_16_30_24_Pro_00048.png', 'WIN_20180907_16_30_24_Pro_00060.png', 'WIN_20180907_16_30_24_Pro_00054.png', 'WIN_20180907_16_30_24_Pro_00058.png', 'WIN_20180907_16_30_24_Pro_00070.png', 'WIN_20180907_16_30_24_Pro_00042.png', 'WIN_20180907_16_30_24_Pro_00064.png', 'WIN_20180907_16_30_24_Pro_00056.png', 'WIN_20180907_16_30_24_Pro_00068.png']\n",
            "IMGS... ['WIN_20180926_17_26_41_Pro_00039.png', 'WIN_20180926_17_26_41_Pro_00043.png', 'WIN_20180926_17_26_41_Pro_00021.png', 'WIN_20180926_17_26_41_Pro_00013.png', 'WIN_20180926_17_26_41_Pro_00049.png', 'WIN_20180926_17_26_41_Pro_00025.png', 'WIN_20180926_17_26_41_Pro_00011.png', 'WIN_20180926_17_26_41_Pro_00053.png', 'WIN_20180926_17_26_41_Pro_00061.png', 'WIN_20180926_17_26_41_Pro_00029.png', 'WIN_20180926_17_26_41_Pro_00051.png', 'WIN_20180926_17_26_41_Pro_00047.png', 'WIN_20180926_17_26_41_Pro_00033.png', 'WIN_20180926_17_26_41_Pro_00035.png', 'WIN_20180926_17_26_41_Pro_00045.png', 'WIN_20180926_17_26_41_Pro_00041.png', 'WIN_20180926_17_26_41_Pro_00023.png', 'WIN_20180926_17_26_41_Pro_00031.png', 'WIN_20180926_17_26_41_Pro_00009.png', 'WIN_20180926_17_26_41_Pro_00017.png', 'WIN_20180926_17_26_41_Pro_00015.png', 'WIN_20180926_17_26_41_Pro_00037.png', 'WIN_20180926_17_26_41_Pro_00027.png', 'WIN_20180926_17_26_41_Pro_00019.png', 'WIN_20180926_17_26_41_Pro_00057.png', 'WIN_20180926_17_26_41_Pro_00055.png', 'WIN_20180926_17_26_41_Pro_00059.png', 'WIN_20180926_17_26_41_Pro_00067.png', 'WIN_20180926_17_26_41_Pro_00065.png', 'WIN_20180926_17_26_41_Pro_00063.png']\n",
            "IMGS... ['WIN_20180926_17_39_18_Pro_00040.png', 'WIN_20180926_17_39_18_Pro_00004.png', 'WIN_20180926_17_39_18_Pro_00010.png', 'WIN_20180926_17_39_18_Pro_00028.png', 'WIN_20180926_17_39_18_Pro_00006.png', 'WIN_20180926_17_39_18_Pro_00022.png', 'WIN_20180926_17_39_18_Pro_00002.png', 'WIN_20180926_17_39_18_Pro_00014.png', 'WIN_20180926_17_39_18_Pro_00026.png', 'WIN_20180926_17_39_18_Pro_00016.png', 'WIN_20180926_17_39_18_Pro_00008.png', 'WIN_20180926_17_39_18_Pro_00034.png', 'WIN_20180926_17_39_18_Pro_00030.png', 'WIN_20180926_17_39_18_Pro_00036.png', 'WIN_20180926_17_39_18_Pro_00012.png', 'WIN_20180926_17_39_18_Pro_00038.png', 'WIN_20180926_17_39_18_Pro_00018.png', 'WIN_20180926_17_39_18_Pro_00032.png', 'WIN_20180926_17_39_18_Pro_00020.png', 'WIN_20180926_17_39_18_Pro_00024.png', 'WIN_20180926_17_39_18_Pro_00056.png', 'WIN_20180926_17_39_18_Pro_00058.png', 'WIN_20180926_17_39_18_Pro_00060.png', 'WIN_20180926_17_39_18_Pro_00052.png', 'WIN_20180926_17_39_18_Pro_00048.png', 'WIN_20180926_17_39_18_Pro_00054.png', 'WIN_20180926_17_39_18_Pro_00046.png', 'WIN_20180926_17_39_18_Pro_00050.png', 'WIN_20180926_17_39_18_Pro_00044.png', 'WIN_20180926_17_39_18_Pro_00042.png']\n",
            "IMGS... ['WIN_20180926_17_49_29_Pro_00023.png', 'WIN_20180926_17_49_29_Pro_00016.png', 'WIN_20180926_17_49_29_Pro_00017.png', 'WIN_20180926_17_49_29_Pro_00020.png', 'WIN_20180926_17_49_29_Pro_00022.png', 'WIN_20180926_17_49_29_Pro_00021.png', 'WIN_20180926_17_49_29_Pro_00015.png', 'WIN_20180926_17_49_29_Pro_00018.png', 'WIN_20180926_17_49_29_Pro_00014.png', 'WIN_20180926_17_49_29_Pro_00019.png', 'WIN_20180926_17_49_29_Pro_00032.png', 'WIN_20180926_17_49_29_Pro_00038.png', 'WIN_20180926_17_49_29_Pro_00025.png', 'WIN_20180926_17_49_29_Pro_00036.png', 'WIN_20180926_17_49_29_Pro_00027.png', 'WIN_20180926_17_49_29_Pro_00035.png', 'WIN_20180926_17_49_29_Pro_00026.png', 'WIN_20180926_17_49_29_Pro_00042.png', 'WIN_20180926_17_49_29_Pro_00024.png', 'WIN_20180926_17_49_29_Pro_00041.png', 'WIN_20180926_17_49_29_Pro_00043.png', 'WIN_20180926_17_49_29_Pro_00040.png', 'WIN_20180926_17_49_29_Pro_00039.png', 'WIN_20180926_17_49_29_Pro_00034.png', 'WIN_20180926_17_49_29_Pro_00030.png', 'WIN_20180926_17_49_29_Pro_00031.png', 'WIN_20180926_17_49_29_Pro_00028.png', 'WIN_20180926_17_49_29_Pro_00037.png', 'WIN_20180926_17_49_29_Pro_00033.png', 'WIN_20180926_17_49_29_Pro_00029.png']\n",
            "IMGS... ['WIN_20180925_17_20_53_Pro_00037.png', 'WIN_20180925_17_20_53_Pro_00031.png', 'WIN_20180925_17_20_53_Pro_00019.png', 'WIN_20180925_17_20_53_Pro_00028.png', 'WIN_20180925_17_20_53_Pro_00038.png', 'WIN_20180925_17_20_53_Pro_00043.png', 'WIN_20180925_17_20_53_Pro_00025.png', 'WIN_20180925_17_20_53_Pro_00027.png', 'WIN_20180925_17_20_53_Pro_00032.png', 'WIN_20180925_17_20_53_Pro_00026.png', 'WIN_20180925_17_20_53_Pro_00039.png', 'WIN_20180925_17_20_53_Pro_00023.png', 'WIN_20180925_17_20_53_Pro_00041.png', 'WIN_20180925_17_20_53_Pro_00035.png', 'WIN_20180925_17_20_53_Pro_00029.png', 'WIN_20180925_17_20_53_Pro_00033.png', 'WIN_20180925_17_20_53_Pro_00018.png', 'WIN_20180925_17_20_53_Pro_00016.png', 'WIN_20180925_17_20_53_Pro_00034.png', 'WIN_20180925_17_20_53_Pro_00036.png', 'WIN_20180925_17_20_53_Pro_00022.png', 'WIN_20180925_17_20_53_Pro_00044.png', 'WIN_20180925_17_20_53_Pro_00021.png', 'WIN_20180925_17_20_53_Pro_00042.png', 'WIN_20180925_17_20_53_Pro_00040.png', 'WIN_20180925_17_20_53_Pro_00030.png', 'WIN_20180925_17_20_53_Pro_00024.png', 'WIN_20180925_17_20_53_Pro_00015.png', 'WIN_20180925_17_20_53_Pro_00017.png', 'WIN_20180925_17_20_53_Pro_00020.png']\n",
            "IMGS... ['WIN_20180925_17_42_57_Pro_00034.png', 'WIN_20180925_17_42_57_Pro_00037.png', 'WIN_20180925_17_42_57_Pro_00017.png', 'WIN_20180925_17_42_57_Pro_00014.png', 'WIN_20180925_17_42_57_Pro_00020.png', 'WIN_20180925_17_42_57_Pro_00011.png', 'WIN_20180925_17_42_57_Pro_00024.png', 'WIN_20180925_17_42_57_Pro_00038.png', 'WIN_20180925_17_42_57_Pro_00028.png', 'WIN_20180925_17_42_57_Pro_00012.png', 'WIN_20180925_17_42_57_Pro_00022.png', 'WIN_20180925_17_42_57_Pro_00016.png', 'WIN_20180925_17_42_57_Pro_00013.png', 'WIN_20180925_17_42_57_Pro_00040.png', 'WIN_20180925_17_42_57_Pro_00025.png', 'WIN_20180925_17_42_57_Pro_00015.png', 'WIN_20180925_17_42_57_Pro_00027.png', 'WIN_20180925_17_42_57_Pro_00021.png', 'WIN_20180925_17_42_57_Pro_00026.png', 'WIN_20180925_17_42_57_Pro_00029.png', 'WIN_20180925_17_42_57_Pro_00035.png', 'WIN_20180925_17_42_57_Pro_00033.png', 'WIN_20180925_17_42_57_Pro_00036.png', 'WIN_20180925_17_42_57_Pro_00030.png', 'WIN_20180925_17_42_57_Pro_00023.png', 'WIN_20180925_17_42_57_Pro_00019.png', 'WIN_20180925_17_42_57_Pro_00031.png', 'WIN_20180925_17_42_57_Pro_00018.png', 'WIN_20180925_17_42_57_Pro_00032.png', 'WIN_20180925_17_42_57_Pro_00039.png']\n",
            "IMGS... ['WIN_20180907_15_44_13_Pro_00012.png', 'WIN_20180907_15_44_13_Pro_00008.png', 'WIN_20180907_15_44_13_Pro_00010.png', 'WIN_20180907_15_44_13_Pro_00060.png', 'WIN_20180907_15_44_13_Pro_00014.png', 'WIN_20180907_15_44_13_Pro_00028.png', 'WIN_20180907_15_44_13_Pro_00022.png', 'WIN_20180907_15_44_13_Pro_00036.png', 'WIN_20180907_15_44_13_Pro_00018.png', 'WIN_20180907_15_44_13_Pro_00056.png', 'WIN_20180907_15_44_13_Pro_00050.png', 'WIN_20180907_15_44_13_Pro_00064.png', 'WIN_20180907_15_44_13_Pro_00020.png', 'WIN_20180907_15_44_13_Pro_00058.png', 'WIN_20180907_15_44_13_Pro_00034.png', 'WIN_20180907_15_44_13_Pro_00026.png', 'WIN_20180907_15_44_13_Pro_00038.png', 'WIN_20180907_15_44_13_Pro_00046.png', 'WIN_20180907_15_44_13_Pro_00032.png', 'WIN_20180907_15_44_13_Pro_00040.png', 'WIN_20180907_15_44_13_Pro_00044.png', 'WIN_20180907_15_44_13_Pro_00054.png', 'WIN_20180907_15_44_13_Pro_00052.png', 'WIN_20180907_15_44_13_Pro_00016.png', 'WIN_20180907_15_44_13_Pro_00062.png', 'WIN_20180907_15_44_13_Pro_00066.png', 'WIN_20180907_15_44_13_Pro_00042.png', 'WIN_20180907_15_44_13_Pro_00024.png', 'WIN_20180907_15_44_13_Pro_00048.png', 'WIN_20180907_15_44_13_Pro_00030.png']\n",
            "IMGS... ['WIN_20180926_16_42_06_Pro_00025.png', 'WIN_20180926_16_42_06_Pro_00014.png', 'WIN_20180926_16_42_06_Pro_00015.png', 'WIN_20180926_16_42_06_Pro_00013.png', 'WIN_20180926_16_42_06_Pro_00023.png', 'WIN_20180926_16_42_06_Pro_00019.png', 'WIN_20180926_16_42_06_Pro_00016.png', 'WIN_20180926_16_42_06_Pro_00021.png', 'WIN_20180926_16_42_06_Pro_00024.png', 'WIN_20180926_16_42_06_Pro_00018.png', 'WIN_20180926_16_42_06_Pro_00017.png', 'WIN_20180926_16_42_06_Pro_00026.png', 'WIN_20180926_16_42_06_Pro_00020.png', 'WIN_20180926_16_42_06_Pro_00012.png', 'WIN_20180926_16_42_06_Pro_00022.png', 'WIN_20180926_16_42_06_Pro_00029.png', 'WIN_20180926_16_42_06_Pro_00037.png', 'WIN_20180926_16_42_06_Pro_00030.png', 'WIN_20180926_16_42_06_Pro_00038.png', 'WIN_20180926_16_42_06_Pro_00036.png', 'WIN_20180926_16_42_06_Pro_00039.png', 'WIN_20180926_16_42_06_Pro_00035.png', 'WIN_20180926_16_42_06_Pro_00027.png', 'WIN_20180926_16_42_06_Pro_00031.png', 'WIN_20180926_16_42_06_Pro_00028.png', 'WIN_20180926_16_42_06_Pro_00033.png', 'WIN_20180926_16_42_06_Pro_00040.png', 'WIN_20180926_16_42_06_Pro_00041.png', 'WIN_20180926_16_42_06_Pro_00034.png', 'WIN_20180926_16_42_06_Pro_00032.png']\n",
            "IMGS... ['WIN_20180926_17_27_48_Pro_00048.png', 'WIN_20180926_17_27_48_Pro_00020.png', 'WIN_20180926_17_27_48_Pro_00016.png', 'WIN_20180926_17_27_48_Pro_00008.png', 'WIN_20180926_17_27_48_Pro_00030.png', 'WIN_20180926_17_27_48_Pro_00058.png', 'WIN_20180926_17_27_48_Pro_00050.png', 'WIN_20180926_17_27_48_Pro_00042.png', 'WIN_20180926_17_27_48_Pro_00018.png', 'WIN_20180926_17_27_48_Pro_00038.png', 'WIN_20180926_17_27_48_Pro_00036.png', 'WIN_20180926_17_27_48_Pro_00006.png', 'WIN_20180926_17_27_48_Pro_00028.png', 'WIN_20180926_17_27_48_Pro_00022.png', 'WIN_20180926_17_27_48_Pro_00046.png', 'WIN_20180926_17_27_48_Pro_00024.png', 'WIN_20180926_17_27_48_Pro_00026.png', 'WIN_20180926_17_27_48_Pro_00014.png', 'WIN_20180926_17_27_48_Pro_00040.png', 'WIN_20180926_17_27_48_Pro_00044.png', 'WIN_20180926_17_27_48_Pro_00034.png', 'WIN_20180926_17_27_48_Pro_00054.png', 'WIN_20180926_17_27_48_Pro_00052.png', 'WIN_20180926_17_27_48_Pro_00010.png', 'WIN_20180926_17_27_48_Pro_00012.png', 'WIN_20180926_17_27_48_Pro_00056.png', 'WIN_20180926_17_27_48_Pro_00032.png', 'WIN_20180926_17_27_48_Pro_00004.png', 'WIN_20180926_17_27_48_Pro_00062.png', 'WIN_20180926_17_27_48_Pro_00060.png']\n",
            "IMGS... ['WIN_20180907_16_42_55_Pro_00026.png', 'WIN_20180907_16_42_55_Pro_00008.png', 'WIN_20180907_16_42_55_Pro_00024.png', 'WIN_20180907_16_42_55_Pro_00018.png', 'WIN_20180907_16_42_55_Pro_00010.png', 'WIN_20180907_16_42_55_Pro_00020.png', 'WIN_20180907_16_42_55_Pro_00012.png', 'WIN_20180907_16_42_55_Pro_00006.png', 'WIN_20180907_16_42_55_Pro_00016.png', 'WIN_20180907_16_42_55_Pro_00022.png', 'WIN_20180907_16_42_55_Pro_00014.png', 'WIN_20180907_16_42_55_Pro_00058.png', 'WIN_20180907_16_42_55_Pro_00046.png', 'WIN_20180907_16_42_55_Pro_00064.png', 'WIN_20180907_16_42_55_Pro_00030.png', 'WIN_20180907_16_42_55_Pro_00052.png', 'WIN_20180907_16_42_55_Pro_00032.png', 'WIN_20180907_16_42_55_Pro_00054.png', 'WIN_20180907_16_42_55_Pro_00034.png', 'WIN_20180907_16_42_55_Pro_00050.png', 'WIN_20180907_16_42_55_Pro_00028.png', 'WIN_20180907_16_42_55_Pro_00044.png', 'WIN_20180907_16_42_55_Pro_00048.png', 'WIN_20180907_16_42_55_Pro_00042.png', 'WIN_20180907_16_42_55_Pro_00038.png', 'WIN_20180907_16_42_55_Pro_00056.png', 'WIN_20180907_16_42_55_Pro_00062.png', 'WIN_20180907_16_42_55_Pro_00040.png', 'WIN_20180907_16_42_55_Pro_00060.png', 'WIN_20180907_16_42_55_Pro_00036.png']\n",
            "(32, 20, 120, 120, 3)\n"
          ]
        }
      ]
    },
    {
      "cell_type": "code",
      "source": [
        "# validation batch sample\n",
        "sample_val_generator = generator(val_path, val_doc, batch_size, img_tensor)\n",
        "sample_val_batch_data, sample_val_batch_labels = next(sample_val_generator)\n",
        "print(sample_val_batch_data.shape)"
      ],
      "metadata": {
        "colab": {
          "base_uri": "https://localhost:8080/"
        },
        "id": "aeespUvo9fYD",
        "outputId": "27233bab-8bcf-4cad-a16e-6f3d999407e4"
      },
      "execution_count": null,
      "outputs": [
        {
          "output_type": "stream",
          "name": "stdout",
          "text": [
            "Source path =  /content/drive/My Drive/Project_data/val ; batch size = 10\n",
            "; Num of batches = 10\n",
            "; Current Batch = 0\n",
            "IMG tensor 0 [ 0  2  3  5  6  8  9 11 12 14 15 17 18 20 21 23 24 26 27 29]\n",
            "IMG DX list [ 0  2  3  5  6  8  9 11 12 14 15 17 18 20 21 23 24 26 27 29]\n",
            "IMGS... ['WIN_20180907_15_57_43_Pro_00017.png', 'WIN_20180907_15_57_43_Pro_00031.png', 'WIN_20180907_15_57_43_Pro_00023.png', 'WIN_20180907_15_57_43_Pro_00021.png', 'WIN_20180907_15_57_43_Pro_00025.png', 'WIN_20180907_15_57_43_Pro_00029.png', 'WIN_20180907_15_57_43_Pro_00033.png', 'WIN_20180907_15_57_43_Pro_00015.png', 'WIN_20180907_15_57_43_Pro_00019.png', 'WIN_20180907_15_57_43_Pro_00013.png', 'WIN_20180907_15_57_43_Pro_00011.png', 'WIN_20180907_15_57_43_Pro_00009.png', 'WIN_20180907_15_57_43_Pro_00027.png', 'WIN_20180907_15_57_43_Pro_00055.png', 'WIN_20180907_15_57_43_Pro_00049.png', 'WIN_20180907_15_57_43_Pro_00057.png', 'WIN_20180907_15_57_43_Pro_00047.png', 'WIN_20180907_15_57_43_Pro_00043.png', 'WIN_20180907_15_57_43_Pro_00041.png', 'WIN_20180907_15_57_43_Pro_00051.png', 'WIN_20180907_15_57_43_Pro_00067.png', 'WIN_20180907_15_57_43_Pro_00037.png', 'WIN_20180907_15_57_43_Pro_00059.png', 'WIN_20180907_15_57_43_Pro_00053.png', 'WIN_20180907_15_57_43_Pro_00035.png', 'WIN_20180907_15_57_43_Pro_00045.png', 'WIN_20180907_15_57_43_Pro_00039.png', 'WIN_20180907_15_57_43_Pro_00063.png', 'WIN_20180907_15_57_43_Pro_00061.png', 'WIN_20180907_15_57_43_Pro_00065.png']\n"
          ]
        },
        {
          "output_type": "stream",
          "name": "stderr",
          "text": [
            "<ipython-input-10-37d2658fef7f>:16: DeprecationWarning: Starting with ImageIO v3 the behavior of this function will switch to that of iio.v3.imread. To keep the current behavior (and make this warning disappear) use `import imageio.v2 as imageio` or call `imageio.v2.imread` directly.\n",
            "  image = imread(source_path+'/'+ t[folder + (batch*batch_size)].strip().split(';')[0]+'/'+imgs[item]).astype(np.float32)\n"
          ]
        },
        {
          "output_type": "stream",
          "name": "stdout",
          "text": [
            "IMGS... ['WIN_20180925_17_43_01_Pro_00030.png', 'WIN_20180925_17_43_01_Pro_00026.png', 'WIN_20180925_17_43_01_Pro_00011.png', 'WIN_20180925_17_43_01_Pro_00010.png', 'WIN_20180925_17_43_01_Pro_00029.png', 'WIN_20180925_17_43_01_Pro_00028.png', 'WIN_20180925_17_43_01_Pro_00034.png', 'WIN_20180925_17_43_01_Pro_00019.png', 'WIN_20180925_17_43_01_Pro_00024.png', 'WIN_20180925_17_43_01_Pro_00012.png', 'WIN_20180925_17_43_01_Pro_00008.png', 'WIN_20180925_17_43_01_Pro_00015.png', 'WIN_20180925_17_43_01_Pro_00031.png', 'WIN_20180925_17_43_01_Pro_00018.png', 'WIN_20180925_17_43_01_Pro_00021.png', 'WIN_20180925_17_43_01_Pro_00020.png', 'WIN_20180925_17_43_01_Pro_00022.png', 'WIN_20180925_17_43_01_Pro_00016.png', 'WIN_20180925_17_43_01_Pro_00009.png', 'WIN_20180925_17_43_01_Pro_00032.png', 'WIN_20180925_17_43_01_Pro_00033.png', 'WIN_20180925_17_43_01_Pro_00036.png', 'WIN_20180925_17_43_01_Pro_00007.png', 'WIN_20180925_17_43_01_Pro_00023.png', 'WIN_20180925_17_43_01_Pro_00017.png', 'WIN_20180925_17_43_01_Pro_00014.png', 'WIN_20180925_17_43_01_Pro_00025.png', 'WIN_20180925_17_43_01_Pro_00027.png', 'WIN_20180925_17_43_01_Pro_00035.png', 'WIN_20180925_17_43_01_Pro_00013.png']\n",
            "IMGS... ['WIN_20180925_17_40_03_Pro_00036.png', 'WIN_20180925_17_40_03_Pro_00010.png', 'WIN_20180925_17_40_03_Pro_00020.png', 'WIN_20180925_17_40_03_Pro_00052.png', 'WIN_20180925_17_40_03_Pro_00042.png', 'WIN_20180925_17_40_03_Pro_00040.png', 'WIN_20180925_17_40_03_Pro_00014.png', 'WIN_20180925_17_40_03_Pro_00050.png', 'WIN_20180925_17_40_03_Pro_00016.png', 'WIN_20180925_17_40_03_Pro_00048.png', 'WIN_20180925_17_40_03_Pro_00006.png', 'WIN_20180925_17_40_03_Pro_00028.png', 'WIN_20180925_17_40_03_Pro_00030.png', 'WIN_20180925_17_40_03_Pro_00008.png', 'WIN_20180925_17_40_03_Pro_00044.png', 'WIN_20180925_17_40_03_Pro_00054.png', 'WIN_20180925_17_40_03_Pro_00004.png', 'WIN_20180925_17_40_03_Pro_00024.png', 'WIN_20180925_17_40_03_Pro_00018.png', 'WIN_20180925_17_40_03_Pro_00012.png', 'WIN_20180925_17_40_03_Pro_00032.png', 'WIN_20180925_17_40_03_Pro_00046.png', 'WIN_20180925_17_40_03_Pro_00038.png', 'WIN_20180925_17_40_03_Pro_00034.png', 'WIN_20180925_17_40_03_Pro_00022.png', 'WIN_20180925_17_40_03_Pro_00026.png', 'WIN_20180925_17_40_03_Pro_00060.png', 'WIN_20180925_17_40_03_Pro_00056.png', 'WIN_20180925_17_40_03_Pro_00062.png', 'WIN_20180925_17_40_03_Pro_00058.png']\n",
            "IMGS... ['WIN_20180907_16_31_41_Pro_00018.png', 'WIN_20180907_16_31_41_Pro_00030.png', 'WIN_20180907_16_31_41_Pro_00048.png', 'WIN_20180907_16_31_41_Pro_00026.png', 'WIN_20180907_16_31_41_Pro_00038.png', 'WIN_20180907_16_31_41_Pro_00046.png', 'WIN_20180907_16_31_41_Pro_00020.png', 'WIN_20180907_16_31_41_Pro_00014.png', 'WIN_20180907_16_31_41_Pro_00010.png', 'WIN_20180907_16_31_41_Pro_00040.png', 'WIN_20180907_16_31_41_Pro_00050.png', 'WIN_20180907_16_31_41_Pro_00024.png', 'WIN_20180907_16_31_41_Pro_00022.png', 'WIN_20180907_16_31_41_Pro_00016.png', 'WIN_20180907_16_31_41_Pro_00008.png', 'WIN_20180907_16_31_41_Pro_00042.png', 'WIN_20180907_16_31_41_Pro_00012.png', 'WIN_20180907_16_31_41_Pro_00028.png', 'WIN_20180907_16_31_41_Pro_00032.png', 'WIN_20180907_16_31_41_Pro_00044.png', 'WIN_20180907_16_31_41_Pro_00036.png', 'WIN_20180907_16_31_41_Pro_00034.png', 'WIN_20180907_16_31_41_Pro_00066.png', 'WIN_20180907_16_31_41_Pro_00064.png', 'WIN_20180907_16_31_41_Pro_00058.png', 'WIN_20180907_16_31_41_Pro_00062.png', 'WIN_20180907_16_31_41_Pro_00052.png', 'WIN_20180907_16_31_41_Pro_00054.png', 'WIN_20180907_16_31_41_Pro_00056.png', 'WIN_20180907_16_31_41_Pro_00060.png']\n",
            "IMGS... ['WIN_20180926_17_08_11_Pro_00014.png', 'WIN_20180926_17_08_11_Pro_00010.png', 'WIN_20180926_17_08_11_Pro_00006.png', 'WIN_20180926_17_08_11_Pro_00024.png', 'WIN_20180926_17_08_11_Pro_00026.png', 'WIN_20180926_17_08_11_Pro_00036.png', 'WIN_20180926_17_08_11_Pro_00012.png', 'WIN_20180926_17_08_11_Pro_00032.png', 'WIN_20180926_17_08_11_Pro_00034.png', 'WIN_20180926_17_08_11_Pro_00028.png', 'WIN_20180926_17_08_11_Pro_00022.png', 'WIN_20180926_17_08_11_Pro_00020.png', 'WIN_20180926_17_08_11_Pro_00038.png', 'WIN_20180926_17_08_11_Pro_00056.png', 'WIN_20180926_17_08_11_Pro_00052.png', 'WIN_20180926_17_08_11_Pro_00060.png', 'WIN_20180926_17_08_11_Pro_00044.png', 'WIN_20180926_17_08_11_Pro_00046.png', 'WIN_20180926_17_08_11_Pro_00058.png', 'WIN_20180926_17_08_11_Pro_00018.png', 'WIN_20180926_17_08_11_Pro_00042.png', 'WIN_20180926_17_08_11_Pro_00048.png', 'WIN_20180926_17_08_11_Pro_00062.png', 'WIN_20180926_17_08_11_Pro_00016.png', 'WIN_20180926_17_08_11_Pro_00054.png', 'WIN_20180926_17_08_11_Pro_00008.png', 'WIN_20180926_17_08_11_Pro_00040.png', 'WIN_20180926_17_08_11_Pro_00050.png', 'WIN_20180926_17_08_11_Pro_00004.png', 'WIN_20180926_17_08_11_Pro_00030.png']\n",
            "IMGS... ['WIN_20180907_15_52_05_Pro_00032.png', 'WIN_20180907_15_52_05_Pro_00022.png', 'WIN_20180907_15_52_05_Pro_00018.png', 'WIN_20180907_15_52_05_Pro_00014.png', 'WIN_20180907_15_52_05_Pro_00034.png', 'WIN_20180907_15_52_05_Pro_00030.png', 'WIN_20180907_15_52_05_Pro_00042.png', 'WIN_20180907_15_52_05_Pro_00012.png', 'WIN_20180907_15_52_05_Pro_00024.png', 'WIN_20180907_15_52_05_Pro_00026.png', 'WIN_20180907_15_52_05_Pro_00044.png', 'WIN_20180907_15_52_05_Pro_00040.png', 'WIN_20180907_15_52_05_Pro_00028.png', 'WIN_20180907_15_52_05_Pro_00020.png', 'WIN_20180907_15_52_05_Pro_00036.png', 'WIN_20180907_15_52_05_Pro_00008.png', 'WIN_20180907_15_52_05_Pro_00016.png', 'WIN_20180907_15_52_05_Pro_00038.png', 'WIN_20180907_15_52_05_Pro_00010.png', 'WIN_20180907_15_52_05_Pro_00052.png', 'WIN_20180907_15_52_05_Pro_00046.png', 'WIN_20180907_15_52_05_Pro_00054.png', 'WIN_20180907_15_52_05_Pro_00064.png', 'WIN_20180907_15_52_05_Pro_00060.png', 'WIN_20180907_15_52_05_Pro_00048.png', 'WIN_20180907_15_52_05_Pro_00050.png', 'WIN_20180907_15_52_05_Pro_00058.png', 'WIN_20180907_15_52_05_Pro_00062.png', 'WIN_20180907_15_52_05_Pro_00066.png', 'WIN_20180907_15_52_05_Pro_00056.png']\n",
            "IMGS... ['WIN_20180926_17_15_35_Pro_00002.png', 'WIN_20180926_17_15_35_Pro_00028.png', 'WIN_20180926_17_15_35_Pro_00034.png', 'WIN_20180926_17_15_35_Pro_00022.png', 'WIN_20180926_17_15_35_Pro_00010.png', 'WIN_20180926_17_15_35_Pro_00032.png', 'WIN_20180926_17_15_35_Pro_00004.png', 'WIN_20180926_17_15_35_Pro_00018.png', 'WIN_20180926_17_15_35_Pro_00024.png', 'WIN_20180926_17_15_35_Pro_00016.png', 'WIN_20180926_17_15_35_Pro_00020.png', 'WIN_20180926_17_15_35_Pro_00040.png', 'WIN_20180926_17_15_35_Pro_00014.png', 'WIN_20180926_17_15_35_Pro_00006.png', 'WIN_20180926_17_15_35_Pro_00030.png', 'WIN_20180926_17_15_35_Pro_00012.png', 'WIN_20180926_17_15_35_Pro_00038.png', 'WIN_20180926_17_15_35_Pro_00036.png', 'WIN_20180926_17_15_35_Pro_00026.png', 'WIN_20180926_17_15_35_Pro_00008.png', 'WIN_20180926_17_15_35_Pro_00042.png', 'WIN_20180926_17_15_35_Pro_00048.png', 'WIN_20180926_17_15_35_Pro_00058.png', 'WIN_20180926_17_15_35_Pro_00052.png', 'WIN_20180926_17_15_35_Pro_00054.png', 'WIN_20180926_17_15_35_Pro_00060.png', 'WIN_20180926_17_15_35_Pro_00046.png', 'WIN_20180926_17_15_35_Pro_00044.png', 'WIN_20180926_17_15_35_Pro_00056.png', 'WIN_20180926_17_15_35_Pro_00050.png']\n",
            "IMGS... ['WIN_20180926_17_29_34_Pro_00020.png', 'WIN_20180926_17_29_34_Pro_00006.png', 'WIN_20180926_17_29_34_Pro_00026.png', 'WIN_20180926_17_29_34_Pro_00008.png', 'WIN_20180926_17_29_34_Pro_00000.png', 'WIN_20180926_17_29_34_Pro_00012.png', 'WIN_20180926_17_29_34_Pro_00022.png', 'WIN_20180926_17_29_34_Pro_00014.png', 'WIN_20180926_17_29_34_Pro_00028.png', 'WIN_20180926_17_29_34_Pro_00016.png', 'WIN_20180926_17_29_34_Pro_00004.png', 'WIN_20180926_17_29_34_Pro_00034.png', 'WIN_20180926_17_29_34_Pro_00032.png', 'WIN_20180926_17_29_34_Pro_00010.png', 'WIN_20180926_17_29_34_Pro_00018.png', 'WIN_20180926_17_29_34_Pro_00024.png', 'WIN_20180926_17_29_34_Pro_00036.png', 'WIN_20180926_17_29_34_Pro_00030.png', 'WIN_20180926_17_29_34_Pro_00002.png', 'WIN_20180926_17_29_34_Pro_00038.png', 'WIN_20180926_17_29_34_Pro_00042.png', 'WIN_20180926_17_29_34_Pro_00040.png', 'WIN_20180926_17_29_34_Pro_00058.png', 'WIN_20180926_17_29_34_Pro_00056.png', 'WIN_20180926_17_29_34_Pro_00046.png', 'WIN_20180926_17_29_34_Pro_00044.png', 'WIN_20180926_17_29_34_Pro_00052.png', 'WIN_20180926_17_29_34_Pro_00048.png', 'WIN_20180926_17_29_34_Pro_00050.png', 'WIN_20180926_17_29_34_Pro_00054.png']\n",
            "IMGS... ['WIN_20180926_17_32_40_Pro_00007.png', 'WIN_20180926_17_32_40_Pro_00025.png', 'WIN_20180926_17_32_40_Pro_00021.png', 'WIN_20180926_17_32_40_Pro_00029.png', 'WIN_20180926_17_32_40_Pro_00051.png', 'WIN_20180926_17_32_40_Pro_00027.png', 'WIN_20180926_17_32_40_Pro_00057.png', 'WIN_20180926_17_32_40_Pro_00017.png', 'WIN_20180926_17_32_40_Pro_00065.png', 'WIN_20180926_17_32_40_Pro_00039.png', 'WIN_20180926_17_32_40_Pro_00037.png', 'WIN_20180926_17_32_40_Pro_00033.png', 'WIN_20180926_17_32_40_Pro_00053.png', 'WIN_20180926_17_32_40_Pro_00049.png', 'WIN_20180926_17_32_40_Pro_00041.png', 'WIN_20180926_17_32_40_Pro_00009.png', 'WIN_20180926_17_32_40_Pro_00045.png', 'WIN_20180926_17_32_40_Pro_00059.png', 'WIN_20180926_17_32_40_Pro_00055.png', 'WIN_20180926_17_32_40_Pro_00043.png', 'WIN_20180926_17_32_40_Pro_00061.png', 'WIN_20180926_17_32_40_Pro_00013.png', 'WIN_20180926_17_32_40_Pro_00063.png', 'WIN_20180926_17_32_40_Pro_00023.png', 'WIN_20180926_17_32_40_Pro_00019.png', 'WIN_20180926_17_32_40_Pro_00015.png', 'WIN_20180926_17_32_40_Pro_00011.png', 'WIN_20180926_17_32_40_Pro_00035.png', 'WIN_20180926_17_32_40_Pro_00031.png', 'WIN_20180926_17_32_40_Pro_00047.png']\n",
            "IMGS... ['WIN_20180907_16_05_32_Pro_00022.png', 'WIN_20180907_16_05_32_Pro_00018.png', 'WIN_20180907_16_05_32_Pro_00036.png', 'WIN_20180907_16_05_32_Pro_00032.png', 'WIN_20180907_16_05_32_Pro_00020.png', 'WIN_20180907_16_05_32_Pro_00034.png', 'WIN_20180907_16_05_32_Pro_00030.png', 'WIN_20180907_16_05_32_Pro_00026.png', 'WIN_20180907_16_05_32_Pro_00028.png', 'WIN_20180907_16_05_32_Pro_00024.png', 'WIN_20180907_16_05_32_Pro_00056.png', 'WIN_20180907_16_05_32_Pro_00058.png', 'WIN_20180907_16_05_32_Pro_00050.png', 'WIN_20180907_16_05_32_Pro_00062.png', 'WIN_20180907_16_05_32_Pro_00054.png', 'WIN_20180907_16_05_32_Pro_00060.png', 'WIN_20180907_16_05_32_Pro_00042.png', 'WIN_20180907_16_05_32_Pro_00070.png', 'WIN_20180907_16_05_32_Pro_00044.png', 'WIN_20180907_16_05_32_Pro_00076.png', 'WIN_20180907_16_05_32_Pro_00046.png', 'WIN_20180907_16_05_32_Pro_00038.png', 'WIN_20180907_16_05_32_Pro_00072.png', 'WIN_20180907_16_05_32_Pro_00068.png', 'WIN_20180907_16_05_32_Pro_00066.png', 'WIN_20180907_16_05_32_Pro_00074.png', 'WIN_20180907_16_05_32_Pro_00040.png', 'WIN_20180907_16_05_32_Pro_00064.png', 'WIN_20180907_16_05_32_Pro_00048.png', 'WIN_20180907_16_05_32_Pro_00052.png']\n",
            "(10, 20, 120, 120, 3)\n"
          ]
        }
      ]
    },
    {
      "cell_type": "code",
      "source": [
        "def make3dFilter(x):\n",
        "    return tuple([x]*3)\n",
        "\n",
        "def make2dFilter(x):\n",
        "    return tuple([x]*2)\n",
        "\n",
        "print(make2dFilter(5))"
      ],
      "metadata": {
        "colab": {
          "base_uri": "https://localhost:8080/"
        },
        "id": "8icHtw2KLYVK",
        "outputId": "7c18b1a3-d8d9-48eb-cfa1-d39445df3d9e"
      },
      "execution_count": 14,
      "outputs": [
        {
          "output_type": "stream",
          "name": "stdout",
          "text": [
            "(5, 5)\n"
          ]
        }
      ]
    },
    {
      "cell_type": "code",
      "source": [
        " inputShape = (len(img_tensor[0]), img_tensor[1], img_tensor[2], img_tensor[3])\n",
        " print(inputShape)"
      ],
      "metadata": {
        "colab": {
          "base_uri": "https://localhost:8080/"
        },
        "id": "UqbaQtkrMaYg",
        "outputId": "03521bcb-832e-4798-8b43-deda0c840682"
      },
      "execution_count": 15,
      "outputs": [
        {
          "output_type": "stream",
          "name": "stdout",
          "text": [
            "(20, 120, 120, 3)\n"
          ]
        }
      ]
    },
    {
      "cell_type": "markdown",
      "metadata": {
        "id": "2pZZSKluK_yA"
      },
      "source": [
        "## Model\n",
        "Here you make the model using different functionalities that Keras provides. Remember to use `Conv3D` and `MaxPooling3D` and not `Conv2D` and `Maxpooling2D` for a 3D convolution model. You would want to use `TimeDistributed` while building a Conv2D + RNN model. Also remember that the last layer is the softmax. Design the network in such a way that the model is able to give good accuracy on the least number of parameters so that it can fit in the memory of the webcam."
      ]
    },
    {
      "cell_type": "code",
      "execution_count": 16,
      "metadata": {
        "id": "rcliwfdpK_yA"
      },
      "outputs": [],
      "source": [
        "from keras.models import Sequential, Model\n",
        "from keras.layers import Dense, GRU, Flatten, TimeDistributed, Flatten, BatchNormalization, Activation, Dropout, LSTM\n",
        "from keras.layers.convolutional import Conv3D, MaxPooling3D\n",
        "from keras.callbacks import ModelCheckpoint, ReduceLROnPlateau\n",
        "from keras import optimizers\n",
        "\n",
        "# #write your model here\n",
        "\n",
        "# # Create a Sequential model\n",
        "# model = Sequential()\n",
        "\n",
        "# # Add Conv3D layer\n",
        "# model.add(Conv3D(filters=16, kernel_size=(5, 5, 5), activation='relu', input_shape=(inputShape)))\n",
        "\n",
        "# # Add Conv3D layer\n",
        "# model.add(Conv3D(filters=32, kernel_size=(3, 3, 3), activation='relu'))\n",
        "\n",
        "# # Add Conv3D layer\n",
        "# model.add(Conv3D(filters=64, kernel_size=(3, 3, 3), activation='relu'))\n",
        "\n",
        "# # Add MaxPooling3D layer\n",
        "# model.add(MaxPooling3D(pool_size=(2, 2, 2)))\n",
        "\n",
        "# # Add Flatten layer\n",
        "# model.add(Flatten())\n",
        "\n",
        "# # Add Dense layers\n",
        "# model.add(Dense(128, activation='relu'))\n",
        "# model.add(Dense(64, activation='softmax'))  # num_classes is the number of classes in your problem\n",
        "\n",
        "# Compile the model\n",
        "# model.compile(loss='categorical_crossentropy', optimizer='adam', metrics=['accuracy'])\n",
        "\n"
      ]
    },
    {
      "cell_type": "markdown",
      "metadata": {
        "id": "WOJ42LwtK_yB"
      },
      "source": [
        "Now that you have written the model, the next step is to `compile` the model. When you print the `summary` of the model, you'll see the total number of parameters you have to train."
      ]
    },
    {
      "cell_type": "code",
      "execution_count": null,
      "metadata": {
        "scrolled": true,
        "id": "M5VWkJPVK_yB"
      },
      "outputs": [],
      "source": [
        "# optimiser = 'adam'\n",
        "# model.compile(optimizer=optimiser, loss='categorical_crossentropy', metrics=['categorical_accuracy'])\n",
        "# print (model.summary())"
      ]
    },
    {
      "cell_type": "code",
      "source": [
        "def defineModel(img_tensor):\n",
        "    inputShape = (len(img_tensor[0]), img_tensor[1], img_tensor[2], img_tensor[3])\n",
        "\n",
        "    model = Sequential([\n",
        "        Conv3D(16, make3dFilter(5), activation='relu', input_shape=inputShape),\n",
        "        MaxPooling3D(make3dFilter(2), padding='same'),\n",
        "        BatchNormalization(),\n",
        "\n",
        "        Conv3D(32, make3dFilter(3), activation='relu'),\n",
        "        MaxPooling3D(pool_size=(1,2,2), padding='same'),\n",
        "        BatchNormalization(),\n",
        "\n",
        "        Conv3D(64, make3dFilter(3), activation='relu'),\n",
        "        MaxPooling3D(pool_size=(1,2,2), padding='same'),\n",
        "        BatchNormalization(),\n",
        "\n",
        "        Flatten(),\n",
        "        Dense(128, activation='relu'),\n",
        "        BatchNormalization(),\n",
        "        Dropout(0.25),\n",
        "\n",
        "        Dense(64, activation='relu'),\n",
        "        BatchNormalization(),\n",
        "        Dropout(0.25),\n",
        "\n",
        "        Dense(5, activation='softmax')\n",
        "    ])\n",
        "    model.compile(optimizer=optimizers.Adam(), loss='categorical_crossentropy', metrics=['categorical_accuracy'])\n",
        "    return model\n",
        "\n",
        "model = defineModel(img_tensor)\n",
        "model.summary()"
      ],
      "metadata": {
        "colab": {
          "base_uri": "https://localhost:8080/"
        },
        "id": "_rD2l9GOhEpS",
        "outputId": "75c95b64-c6c8-4559-a625-5fb65ea42b5e"
      },
      "execution_count": 17,
      "outputs": [
        {
          "output_type": "stream",
          "name": "stdout",
          "text": [
            "Model: \"sequential\"\n",
            "_________________________________________________________________\n",
            " Layer (type)                Output Shape              Param #   \n",
            "=================================================================\n",
            " conv3d (Conv3D)             (None, 16, 116, 116, 16)  6016      \n",
            "                                                                 \n",
            " max_pooling3d (MaxPooling3D  (None, 8, 58, 58, 16)    0         \n",
            " )                                                               \n",
            "                                                                 \n",
            " batch_normalization (BatchN  (None, 8, 58, 58, 16)    64        \n",
            " ormalization)                                                   \n",
            "                                                                 \n",
            " conv3d_1 (Conv3D)           (None, 6, 56, 56, 32)     13856     \n",
            "                                                                 \n",
            " max_pooling3d_1 (MaxPooling  (None, 6, 28, 28, 32)    0         \n",
            " 3D)                                                             \n",
            "                                                                 \n",
            " batch_normalization_1 (Batc  (None, 6, 28, 28, 32)    128       \n",
            " hNormalization)                                                 \n",
            "                                                                 \n",
            " conv3d_2 (Conv3D)           (None, 4, 26, 26, 64)     55360     \n",
            "                                                                 \n",
            " max_pooling3d_2 (MaxPooling  (None, 4, 13, 13, 64)    0         \n",
            " 3D)                                                             \n",
            "                                                                 \n",
            " batch_normalization_2 (Batc  (None, 4, 13, 13, 64)    256       \n",
            " hNormalization)                                                 \n",
            "                                                                 \n",
            " flatten (Flatten)           (None, 43264)             0         \n",
            "                                                                 \n",
            " dense (Dense)               (None, 128)               5537920   \n",
            "                                                                 \n",
            " batch_normalization_3 (Batc  (None, 128)              512       \n",
            " hNormalization)                                                 \n",
            "                                                                 \n",
            " dropout (Dropout)           (None, 128)               0         \n",
            "                                                                 \n",
            " dense_1 (Dense)             (None, 64)                8256      \n",
            "                                                                 \n",
            " batch_normalization_4 (Batc  (None, 64)               256       \n",
            " hNormalization)                                                 \n",
            "                                                                 \n",
            " dropout_1 (Dropout)         (None, 64)                0         \n",
            "                                                                 \n",
            " dense_2 (Dense)             (None, 5)                 325       \n",
            "                                                                 \n",
            "=================================================================\n",
            "Total params: 5,622,949\n",
            "Trainable params: 5,622,341\n",
            "Non-trainable params: 608\n",
            "_________________________________________________________________\n"
          ]
        }
      ]
    },
    {
      "cell_type": "markdown",
      "metadata": {
        "id": "zBJtILzoK_yB"
      },
      "source": [
        "Let us create the `train_generator` and the `val_generator` which will be used in `.fit_generator`."
      ]
    },
    {
      "cell_type": "code",
      "execution_count": 18,
      "metadata": {
        "id": "gPJqw0EmK_yB"
      },
      "outputs": [],
      "source": [
        "train_generator = generator(train_path, train_doc, batch_size, img_tensor)\n",
        "val_generator = generator(val_path, val_doc, batch_size, img_tensor)"
      ]
    },
    {
      "cell_type": "code",
      "execution_count": 19,
      "metadata": {
        "colab": {
          "base_uri": "https://localhost:8080/"
        },
        "id": "xfMSHnHHK_yB",
        "outputId": "392493eb-3ecb-40a3-c757-0712f579485d"
      },
      "outputs": [
        {
          "output_type": "stream",
          "name": "stderr",
          "text": [
            "WARNING:tensorflow:`period` argument is deprecated. Please use `save_freq` to specify the frequency in number of batches seen.\n"
          ]
        }
      ],
      "source": [
        "model_name = 'model_init' + '_' + str(curr_dt_time).replace(' ','').replace(':','_') + '/'\n",
        "\n",
        "if not os.path.exists(model_name):\n",
        "    os.mkdir(model_name)\n",
        "\n",
        "filepath = model_name + 'model-{epoch:05d}-{loss:.5f}-{categorical_accuracy:.5f}-{val_loss:.5f}-{val_categorical_accuracy:.5f}.h5'\n",
        "\n",
        "checkpoint = ModelCheckpoint(filepath, monitor='val_loss', verbose=1, save_best_only=False, save_weights_only=False, mode='auto', period=1)\n",
        "\n",
        "LR = ReduceLROnPlateau(monitor='val_loss', factor=0.2, verbose=1, patience=4)# write the REducelronplateau code here\n",
        "callbacks_list = [checkpoint, LR]"
      ]
    },
    {
      "cell_type": "markdown",
      "metadata": {
        "id": "e23DAZfCK_yC"
      },
      "source": [
        "The `steps_per_epoch` and `validation_steps` are used by `fit_generator` to decide the number of next() calls it need to make."
      ]
    },
    {
      "cell_type": "code",
      "execution_count": 20,
      "metadata": {
        "id": "e_67QZIrK_yC"
      },
      "outputs": [],
      "source": [
        "if (num_train_sequences%batch_size) == 0:\n",
        "    steps_per_epoch = int(num_train_sequences/batch_size)\n",
        "else:\n",
        "    steps_per_epoch = (num_train_sequences//batch_size) + 1\n",
        "\n",
        "if (num_val_sequences%batch_size) == 0:\n",
        "    validation_steps = int(num_val_sequences/batch_size)\n",
        "else:\n",
        "    validation_steps = (num_val_sequences//batch_size) + 1"
      ]
    },
    {
      "cell_type": "code",
      "source": [
        "num_epochs = 10"
      ],
      "metadata": {
        "id": "-L2E58t-_elj"
      },
      "execution_count": 24,
      "outputs": []
    },
    {
      "cell_type": "code",
      "source": [
        "import matplotlib.pyplot as plt"
      ],
      "metadata": {
        "id": "ehPu0ceDPje5"
      },
      "execution_count": 22,
      "outputs": []
    },
    {
      "cell_type": "code",
      "source": [
        "def plotModelHistory(h):\n",
        "    fig, ax = plt.subplots(1, 2, figsize=(15,4))\n",
        "    ax[0].plot(h.history['loss'])\n",
        "    ax[0].plot(h.history['val_loss'])\n",
        "    ax[0].legend(['loss','val_loss'])\n",
        "    ax[0].title.set_text(\"Train loss vs Validation loss\")\n",
        "\n",
        "    ax[1].plot(h.history['categorical_accuracy'])\n",
        "    ax[1].plot(h.history['val_categorical_accuracy'])\n",
        "    ax[1].legend(['categorical_accuracy','val_categorical_accuracy'])\n",
        "    ax[1].title.set_text(\"Train accuracy vs Validation accuracy\")\n",
        "    plt.show()\n",
        "\n",
        "    print(\"Max. Training Accuracy\", max(h.history['categorical_accuracy']))\n",
        "    print(\"Max. Validaiton Accuracy\", max(h.history['val_categorical_accuracy']))"
      ],
      "metadata": {
        "id": "9aWH-ZOeEt_l"
      },
      "execution_count": 23,
      "outputs": []
    },
    {
      "cell_type": "markdown",
      "metadata": {
        "id": "7n7fYOv9K_yC"
      },
      "source": [
        "Let us now fit the model. This will start training the model and with the help of the checkpoints, you'll be able to save the model at the end of each epoch."
      ]
    },
    {
      "cell_type": "code",
      "execution_count": 25,
      "metadata": {
        "colab": {
          "base_uri": "https://localhost:8080/"
        },
        "id": "zgpz68ebK_yC",
        "outputId": "e8430959-f205-4231-e9ee-a4f24890b6f4"
      },
      "outputs": [
        {
          "output_type": "stream",
          "name": "stderr",
          "text": [
            "<ipython-input-25-bd12f99fffda>:1: UserWarning: `Model.fit_generator` is deprecated and will be removed in a future version. Please use `Model.fit`, which supports generators.\n",
            "  base_model_history = model.fit_generator(train_generator, steps_per_epoch=steps_per_epoch, epochs=num_epochs, verbose=1,\n"
          ]
        },
        {
          "output_type": "stream",
          "name": "stdout",
          "text": [
            "Source path =  /content/drive/My Drive/Project_data/train ; batch size = 10\n",
            "; Num of batches = 66\n"
          ]
        },
        {
          "output_type": "stream",
          "name": "stderr",
          "text": [
            "<ipython-input-11-4d0922c185e1>:17: DeprecationWarning: Starting with ImageIO v3 the behavior of this function will switch to that of iio.v3.imread. To keep the current behavior (and make this warning disappear) use `import imageio.v2 as imageio` or call `imageio.v2.imread` directly.\n",
            "  image = imread(source_path+'/'+ t[folder + (batch*batch_size)].strip().split(';')[0]+'/'+imgs[item]).astype(np.float32)\n"
          ]
        },
        {
          "output_type": "stream",
          "name": "stdout",
          "text": [
            "Epoch 1/10\n",
            "66/67 [============================>.] - ETA: 1:35 - loss: 1.6018 - categorical_accuracy: 0.4182; Num of batches = 221\n",
            "67/67 [==============================] - ETA: 0s - loss: 1.6033 - categorical_accuracy: 0.4193  Source path =  /content/drive/My Drive/Project_data/val ; batch size = 10\n",
            "; Num of batches = 10\n",
            "; Num of batches = 10\n",
            "\n",
            "Epoch 1: saving model to model_init_2023-09-0105_07_54.469282/model-00001-1.60327-0.41931-1.91896-0.23000.h5\n",
            "67/67 [==============================] - 7213s 109s/step - loss: 1.6033 - categorical_accuracy: 0.4193 - val_loss: 1.9190 - val_categorical_accuracy: 0.2300 - lr: 0.0010\n",
            "Epoch 2/10\n",
            "67/67 [==============================] - ETA: 0s - loss: 1.8604 - categorical_accuracy: 0.3433; Num of batches = 10\n",
            "\n",
            "Epoch 2: saving model to model_init_2023-09-0105_07_54.469282/model-00002-1.86036-0.34328-16.26095-0.25000.h5\n",
            "67/67 [==============================] - 82s 1s/step - loss: 1.8604 - categorical_accuracy: 0.3433 - val_loss: 16.2610 - val_categorical_accuracy: 0.2500 - lr: 0.0010\n",
            "Epoch 3/10\n",
            "67/67 [==============================] - ETA: 0s - loss: 1.9001 - categorical_accuracy: 0.2189; Num of batches = 10\n",
            "\n",
            "Epoch 3: saving model to model_init_2023-09-0105_07_54.469282/model-00003-1.90006-0.21891-7.77691-0.24000.h5\n",
            "67/67 [==============================] - 92s 1s/step - loss: 1.9001 - categorical_accuracy: 0.2189 - val_loss: 7.7769 - val_categorical_accuracy: 0.2400 - lr: 0.0010\n",
            "Epoch 4/10\n",
            "67/67 [==============================] - ETA: 0s - loss: 1.7300 - categorical_accuracy: 0.3284; Num of batches = 10\n",
            "\n",
            "Epoch 4: saving model to model_init_2023-09-0105_07_54.469282/model-00004-1.73005-0.32836-3.35783-0.12000.h5\n",
            "67/67 [==============================] - 91s 1s/step - loss: 1.7300 - categorical_accuracy: 0.3284 - val_loss: 3.3578 - val_categorical_accuracy: 0.1200 - lr: 0.0010\n",
            "Epoch 5/10\n",
            "19/67 [=======>......................] - ETA: 31s - loss: 1.6607 - categorical_accuracy: 0.2456; Num of batches = 221\n",
            "67/67 [==============================] - ETA: 0s - loss: 1.7093 - categorical_accuracy: 0.2886; Num of batches = 10\n",
            "\n",
            "Epoch 5: saving model to model_init_2023-09-0105_07_54.469282/model-00005-1.70932-0.28856-2.32893-0.31000.h5\n",
            "\n",
            "Epoch 5: ReduceLROnPlateau reducing learning rate to 0.00020000000949949026.\n",
            "67/67 [==============================] - 70s 1s/step - loss: 1.7093 - categorical_accuracy: 0.2886 - val_loss: 2.3289 - val_categorical_accuracy: 0.3100 - lr: 0.0010\n",
            "Epoch 6/10\n",
            "67/67 [==============================] - ETA: 0s - loss: 1.5829 - categorical_accuracy: 0.3234; Num of batches = 10\n",
            "\n",
            "Epoch 6: saving model to model_init_2023-09-0105_07_54.469282/model-00006-1.58294-0.32338-1.89511-0.32000.h5\n",
            "67/67 [==============================] - 69s 1s/step - loss: 1.5829 - categorical_accuracy: 0.3234 - val_loss: 1.8951 - val_categorical_accuracy: 0.3200 - lr: 2.0000e-04\n",
            "Epoch 7/10\n",
            "67/67 [==============================] - ETA: 0s - loss: 1.7140 - categorical_accuracy: 0.3085; Num of batches = 10\n",
            "\n",
            "Epoch 7: saving model to model_init_2023-09-0105_07_54.469282/model-00007-1.71403-0.30846-1.51668-0.37000.h5\n",
            "67/67 [==============================] - 71s 1s/step - loss: 1.7140 - categorical_accuracy: 0.3085 - val_loss: 1.5167 - val_categorical_accuracy: 0.3700 - lr: 2.0000e-04\n",
            "Epoch 8/10\n",
            "39/67 [================>.............] - ETA: 15s - loss: 1.4873 - categorical_accuracy: 0.3932; Num of batches = 221\n",
            "67/67 [==============================] - ETA: 0s - loss: 1.5251 - categorical_accuracy: 0.3532; Num of batches = 10\n",
            "\n",
            "Epoch 8: saving model to model_init_2023-09-0105_07_54.469282/model-00008-1.52511-0.35323-1.63926-0.39000.h5\n",
            "67/67 [==============================] - 66s 994ms/step - loss: 1.5251 - categorical_accuracy: 0.3532 - val_loss: 1.6393 - val_categorical_accuracy: 0.3900 - lr: 2.0000e-04\n",
            "Epoch 9/10\n",
            "67/67 [==============================] - ETA: 0s - loss: 1.5202 - categorical_accuracy: 0.3085; Num of batches = 10\n",
            "\n",
            "Epoch 9: saving model to model_init_2023-09-0105_07_54.469282/model-00009-1.52017-0.30846-1.68226-0.34000.h5\n",
            "67/67 [==============================] - 67s 1s/step - loss: 1.5202 - categorical_accuracy: 0.3085 - val_loss: 1.6823 - val_categorical_accuracy: 0.3400 - lr: 2.0000e-04\n",
            "Epoch 10/10\n",
            "67/67 [==============================] - ETA: 0s - loss: 1.4519 - categorical_accuracy: 0.4279; Num of batches = 10\n",
            "\n",
            "Epoch 10: saving model to model_init_2023-09-0105_07_54.469282/model-00010-1.45191-0.42786-1.81625-0.43000.h5\n",
            "67/67 [==============================] - 64s 974ms/step - loss: 1.4519 - categorical_accuracy: 0.4279 - val_loss: 1.8163 - val_categorical_accuracy: 0.4300 - lr: 2.0000e-04\n"
          ]
        }
      ],
      "source": [
        "base_model_history = model.fit_generator(train_generator, steps_per_epoch=steps_per_epoch, epochs=num_epochs, verbose=1,\n",
        "                    callbacks=callbacks_list, validation_data=val_generator,\n",
        "                    validation_steps=validation_steps, class_weight=None, workers=1, initial_epoch=0)"
      ]
    },
    {
      "cell_type": "code",
      "execution_count": 27,
      "metadata": {
        "colab": {
          "base_uri": "https://localhost:8080/",
          "height": 427
        },
        "id": "tObNARbfK_yC",
        "outputId": "923aa1f8-dc5e-460c-df27-91b86ea4a662"
      },
      "outputs": [
        {
          "output_type": "display_data",
          "data": {
            "text/plain": [
              "<Figure size 1500x400 with 2 Axes>"
            ],
            "image/png": "[encoded data removed]"
          },
          "metadata": {}
        },
        {
          "output_type": "stream",
          "name": "stdout",
          "text": [
            "Max. Training Accuracy 0.42786070704460144\n",
            "Max. Validaiton Accuracy 0.4300000071525574\n"
          ]
        }
      ],
      "source": [
        "plotModelHistory(base_model_history)"
      ]
    },
    {
      "cell_type": "markdown",
      "source": [],
      "metadata": {
        "id": "nV31jLGf9wH3"
      }
    },
    {
      "cell_type": "markdown",
      "source": [
        "### Testing Batch size and frames"
      ],
      "metadata": {
        "id": "4rm2zrecG4p-"
      }
    },
    {
      "cell_type": "code",
      "source": [
        "def batchsizetester(n_frames, batch_size):\n",
        "  # n_frames = 16\n",
        "  num_epochs = 3\n",
        "  # batch_size = 64\n",
        "\n",
        "  img_tensor = getImgTensor(n_frames)\n",
        "  print(\"Using frames as\", img_tensor[0])\n",
        "  train_generator = generator(train_path, train_doc, batch_size, img_tensor)\n",
        "  val_generator = generator(val_path, val_doc, batch_size, img_tensor)\n",
        "\n",
        "  if (num_train_sequences%batch_size) == 0:\n",
        "    steps_per_epoch = int(num_train_sequences/batch_size)\n",
        "  else:\n",
        "    steps_per_epoch = (num_train_sequences//batch_size) + 1\n",
        "\n",
        "  if (num_val_sequences%batch_size) == 0:\n",
        "    validation_steps = int(num_val_sequences/batch_size)\n",
        "  else:\n",
        "    validation_steps = (num_val_sequences//batch_size) + 1\n",
        "\n",
        "  model = defineModel(img_tensor)\n",
        "\n",
        "  model_history = model.fit_generator(train_generator, steps_per_epoch=steps_per_epoch, epochs=num_epochs, verbose=1,\n",
        "                    callbacks=callbacks_list, validation_data=val_generator,\n",
        "                    validation_steps=validation_steps, class_weight=None, workers=1, initial_epoch=0)\n",
        "\n",
        "  plotModelHistory(model_history)"
      ],
      "metadata": {
        "id": "WK2IvIZ79vwd"
      },
      "execution_count": 30,
      "outputs": []
    },
    {
      "cell_type": "code",
      "source": [
        "batchsizetester(25, 64)"
      ],
      "metadata": {
        "colab": {
          "base_uri": "https://localhost:8080/"
        },
        "id": "Ph1pLaoAeskk",
        "outputId": "9aaee066-4dac-4a2a-e09c-c82fb0370190"
      },
      "execution_count": null,
      "outputs": [
        {
          "output_type": "stream",
          "name": "stdout",
          "text": [
            "Using frames as [ 0  1  2  4  5  6  7  8 10 11 12 13 14 16 17 18 19 21 22 23 24 25 27 28\n",
            " 29]\n",
            "Source path =  /content/drive/My Drive/Project_data/train ; batch size = 64\n",
            "; Num of batches = 10\n"
          ]
        },
        {
          "output_type": "stream",
          "name": "stderr",
          "text": [
            "<ipython-input-30-d6fdfd252d05>:23: UserWarning: `Model.fit_generator` is deprecated and will be removed in a future version. Please use `Model.fit`, which supports generators.\n",
            "  model_history = model.fit_generator(train_generator, steps_per_epoch=steps_per_epoch, epochs=num_epochs, verbose=1,\n",
            "<ipython-input-11-4d0922c185e1>:17: DeprecationWarning: Starting with ImageIO v3 the behavior of this function will switch to that of iio.v3.imread. To keep the current behavior (and make this warning disappear) use `import imageio.v2 as imageio` or call `imageio.v2.imread` directly.\n",
            "  image = imread(source_path+'/'+ t[folder + (batch*batch_size)].strip().split(';')[0]+'/'+imgs[item]).astype(np.float32)\n"
          ]
        },
        {
          "output_type": "stream",
          "name": "stdout",
          "text": [
            "Epoch 1/3\n",
            "10/11 [==========================>...] - ETA: 3:23 - loss: 1.5046 - categorical_accuracy: 0.4391; Num of batches = 28\n",
            "11/11 [==============================] - ETA: 0s - loss: 1.4794 - categorical_accuracy: 0.4495  Source path =  /content/drive/My Drive/Project_data/val ; batch size = 64\n",
            "; Num of batches = 1\n",
            "; Num of batches = 2\n",
            "\n",
            "Epoch 1: saving model to model_init_2023-09-0105_07_54.469282/model-00001-1.47944-0.44947-2.89929-0.23000.h5\n",
            "11/11 [==============================] - 2112s 211s/step - loss: 1.4794 - categorical_accuracy: 0.4495 - val_loss: 2.8993 - val_categorical_accuracy: 0.2300 - lr: 0.0010\n",
            "Epoch 2/3\n",
            " 7/11 [==================>...........] - ETA: 36s - loss: 0.9329 - categorical_accuracy: 0.6149"
          ]
        }
      ]
    },
    {
      "cell_type": "markdown",
      "source": [
        "### Experiment 1"
      ],
      "metadata": {
        "id": "BH5H663SaRru"
      }
    },
    {
      "cell_type": "markdown",
      "source": [
        "Model 1 - Frames-16, Epoc-20"
      ],
      "metadata": {
        "id": "QKCA8x8zalsP"
      }
    },
    {
      "cell_type": "code",
      "source": [
        "n_frames = 16\n",
        "num_epochs = 20\n",
        "batch_size = 64\n",
        "\n",
        "img_tensor = getImgTensor(n_frames)\n",
        "train_generator = generator(train_path, train_doc, batch_size, img_tensor)\n",
        "val_generator = generator(val_path, val_doc, batch_size, img_tensor)"
      ],
      "metadata": {
        "id": "cuicNDT5aOdd"
      },
      "execution_count": null,
      "outputs": []
    },
    {
      "cell_type": "code",
      "source": [
        "if (num_train_sequences%batch_size) == 0:\n",
        "    steps_per_epoch = int(num_train_sequences/batch_size)\n",
        "else:\n",
        "    steps_per_epoch = (num_train_sequences//batch_size) + 1\n",
        "\n",
        "if (num_val_sequences%batch_size) == 0:\n",
        "    validation_steps = int(num_val_sequences/batch_size)\n",
        "else:\n",
        "    validation_steps = (num_val_sequences//batch_size) + 1\n",
        "\n",
        "inputShape = (len(img_tensor[0]), img_tensor[1], img_tensor[2], img_tensor[3])\n"
      ],
      "metadata": {
        "id": "gNyiDGGkaOtm"
      },
      "execution_count": null,
      "outputs": []
    },
    {
      "cell_type": "code",
      "source": [
        "model1 = Sequential([\n",
        "    Conv3D(16, make3dFilter(5), activation='relu', input_shape=inputShape),\n",
        "    MaxPooling3D(make3dFilter(2), padding='same'),\n",
        "    BatchNormalization(),\n",
        "\n",
        "    Conv3D(32, make3dFilter(3), activation='relu'),\n",
        "    MaxPooling3D(pool_size=(1,2,2), padding='same'),\n",
        "    BatchNormalization(),\n",
        "\n",
        "    Conv3D(64, make3dFilter(3), activation='relu'),\n",
        "    MaxPooling3D(pool_size=(1,2,2), padding='same'),\n",
        "    BatchNormalization(),\n",
        "\n",
        "    Flatten(),\n",
        "    Dense(128, activation='relu'),\n",
        "    BatchNormalization(),\n",
        "    Dropout(0.25),\n",
        "\n",
        "    Dense(64, activation='relu'),\n",
        "    BatchNormalization(),\n",
        "    Dropout(0.25),\n",
        "\n",
        "    Dense(5, activation='softmax')\n",
        "], name=\"conv_3d1\")"
      ],
      "metadata": {
        "id": "x6bdFjNmbI_a"
      },
      "execution_count": null,
      "outputs": []
    },
    {
      "cell_type": "code",
      "source": [
        "model1.compile(optimizer=optimizers.Adam(), loss='categorical_crossentropy', metrics=['categorical_accuracy'])\n",
        "print(model1.summary())"
      ],
      "metadata": {
        "colab": {
          "base_uri": "https://localhost:8080/"
        },
        "id": "CfMdzj3MbUGH",
        "outputId": "5ac7da30-1fc6-47b3-c6ba-a7afb63057e5"
      },
      "execution_count": null,
      "outputs": [
        {
          "output_type": "stream",
          "name": "stdout",
          "text": [
            "Model: \"conv_3d1\"\n",
            "_________________________________________________________________\n",
            " Layer (type)                Output Shape              Param #   \n",
            "=================================================================\n",
            " conv3d_3 (Conv3D)           (None, 12, 116, 116, 16)  6016      \n",
            "                                                                 \n",
            " max_pooling3d_3 (MaxPooling  (None, 6, 58, 58, 16)    0         \n",
            " 3D)                                                             \n",
            "                                                                 \n",
            " batch_normalization_5 (Batc  (None, 6, 58, 58, 16)    64        \n",
            " hNormalization)                                                 \n",
            "                                                                 \n",
            " conv3d_4 (Conv3D)           (None, 4, 56, 56, 32)     13856     \n",
            "                                                                 \n",
            " max_pooling3d_4 (MaxPooling  (None, 4, 28, 28, 32)    0         \n",
            " 3D)                                                             \n",
            "                                                                 \n",
            " batch_normalization_6 (Batc  (None, 4, 28, 28, 32)    128       \n",
            " hNormalization)                                                 \n",
            "                                                                 \n",
            " conv3d_5 (Conv3D)           (None, 2, 26, 26, 64)     55360     \n",
            "                                                                 \n",
            " max_pooling3d_5 (MaxPooling  (None, 2, 13, 13, 64)    0         \n",
            " 3D)                                                             \n",
            "                                                                 \n",
            " batch_normalization_7 (Batc  (None, 2, 13, 13, 64)    256       \n",
            " hNormalization)                                                 \n",
            "                                                                 \n",
            " flatten_1 (Flatten)         (None, 21632)             0         \n",
            "                                                                 \n",
            " dense_3 (Dense)             (None, 128)               2769024   \n",
            "                                                                 \n",
            " batch_normalization_8 (Batc  (None, 128)              512       \n",
            " hNormalization)                                                 \n",
            "                                                                 \n",
            " dropout_2 (Dropout)         (None, 128)               0         \n",
            "                                                                 \n",
            " dense_4 (Dense)             (None, 64)                8256      \n",
            "                                                                 \n",
            " batch_normalization_9 (Batc  (None, 64)               256       \n",
            " hNormalization)                                                 \n",
            "                                                                 \n",
            " dropout_3 (Dropout)         (None, 64)                0         \n",
            "                                                                 \n",
            " dense_5 (Dense)             (None, 5)                 325       \n",
            "                                                                 \n",
            "=================================================================\n",
            "Total params: 2,854,053\n",
            "Trainable params: 2,853,445\n",
            "Non-trainable params: 608\n",
            "_________________________________________________________________\n",
            "None\n"
          ]
        }
      ]
    },
    {
      "cell_type": "code",
      "source": [
        "model1_history = model1.fit_generator(train_generator, steps_per_epoch=steps_per_epoch, epochs=num_epochs, verbose=1,\n",
        "            callbacks=callbacks_list, validation_data=val_generator,\n",
        "            validation_steps=validation_steps, class_weight=None, workers=1, initial_epoch=0)"
      ],
      "metadata": {
        "colab": {
          "base_uri": "https://localhost:8080/"
        },
        "id": "WOcq2xLlbfgW",
        "outputId": "cf89e66f-b30c-4499-b27e-d7c6f59cedfb"
      },
      "execution_count": null,
      "outputs": [
        {
          "metadata": {
            "tags": null
          },
          "name": "stderr",
          "output_type": "stream",
          "text": [
            "<ipython-input-39-39c2d4e0ceba>:1: UserWarning: `Model.fit_generator` is deprecated and will be removed in a future version. Please use `Model.fit`, which supports generators.\n",
            "  model1_history = model1.fit_generator(train_generator, steps_per_epoch=steps_per_epoch, epochs=num_epochs, verbose=1,\n",
            "<ipython-input-11-9e653c9fc82e>:17: DeprecationWarning: Starting with ImageIO v3 the behavior of this function will switch to that of iio.v3.imread. To keep the current behavior (and make this warning disappear) use `import imageio.v2 as imageio` or call `imageio.v2.imread` directly.\n",
            "  image = imread(source_path+'/'+ t[folder + (batch*batch_size)].strip().split(';')[0]+'/'+imgs[item]).astype(np.float32)\n"
          ]
        },
        {
          "output_type": "stream",
          "name": "stdout",
          "text": [
            "Source path =  /content/drive/My Drive/Project_data/train ; batch size = 64\n",
            "; Num of batches = 10\n",
            "; Current Batch = 0\n",
            "Epoch 1/20\n",
            "; Current Batch = 1\n",
            " 1/11 [=>............................] - ETA: 1:06 - loss: 2.5731 - categorical_accuracy: 0.2656; Current Batch = 2\n",
            " 2/11 [====>.........................] - ETA: 9:45 - loss: 2.1891 - categorical_accuracy: 0.3359; Current Batch = 3\n",
            " 3/11 [=======>......................] - ETA: 8:41 - loss: 1.9214 - categorical_accuracy: 0.3750; Current Batch = 4\n",
            " 4/11 [=========>....................] - ETA: 7:36 - loss: 1.7863 - categorical_accuracy: 0.3867; Current Batch = 5\n",
            " 5/11 [============>.................] - ETA: 6:31 - loss: 1.7234 - categorical_accuracy: 0.4000; Current Batch = 6\n",
            " 6/11 [===============>..............] - ETA: 5:23 - loss: 1.6937 - categorical_accuracy: 0.4089; Current Batch = 7\n",
            " 7/11 [==================>...........] - ETA: 4:20 - loss: 1.6897 - categorical_accuracy: 0.4085; Current Batch = 8\n",
            " 8/11 [====================>.........] - ETA: 3:15 - loss: 1.6480 - categorical_accuracy: 0.4180; Current Batch = 9\n",
            "10/11 [==========================>...] - ETA: 1:05 - loss: 1.5950 - categorical_accuracy: 0.4297; Num of batches = 28\n",
            "; Current Batch = 0\n",
            "11/11 [==============================] - ETA: 0s - loss: 1.5718 - categorical_accuracy: 0.4329  Source path =  /content/drive/My Drive/Project_data/val ; batch size = 64\n",
            "; Num of batches = 1\n",
            "; Current Batch = 0\n",
            "; Num of batches = 2\n",
            "; Current Batch = 0\n",
            "\n",
            "Epoch 1: saving model to model_init_2023-08-3109_43_59.510610/model-00001-1.57175-0.43288-6.14129-0.17000.h5\n",
            "11/11 [==============================] - 693s 69s/step - loss: 1.5718 - categorical_accuracy: 0.4329 - val_loss: 6.1413 - val_categorical_accuracy: 0.1700 - lr: 0.0010\n",
            "Epoch 2/20\n",
            "; Current Batch = 1\n",
            " 1/11 [=>............................] - ETA: 2s - loss: 0.8090 - categorical_accuracy: 0.6522; Current Batch = 2\n",
            " 2/11 [====>.........................] - ETA: 27s - loss: 0.9326 - categorical_accuracy: 0.6087; Current Batch = 3\n",
            " 3/11 [=======>......................] - ETA: 46s - loss: 0.9944 - categorical_accuracy: 0.6087; Current Batch = 4\n",
            " 4/11 [=========>....................] - ETA: 35s - loss: 1.0469 - categorical_accuracy: 0.5978; Current Batch = 5\n",
            " 5/11 [============>.................] - ETA: 26s - loss: 1.0040 - categorical_accuracy: 0.6087; Current Batch = 6\n",
            " 6/11 [===============>..............] - ETA: 21s - loss: 1.0104 - categorical_accuracy: 0.6232; Current Batch = 7\n",
            " 7/11 [==================>...........] - ETA: 17s - loss: 1.0214 - categorical_accuracy: 0.6335; Current Batch = 8\n",
            " 8/11 [====================>.........] - ETA: 12s - loss: 0.9949 - categorical_accuracy: 0.6359; Current Batch = 9\n",
            " 9/11 [=======================>......] - ETA: 8s - loss: 0.9566 - categorical_accuracy: 0.6425 ; Current Batch = 10\n",
            "10/11 [==========================>...] - ETA: 4s - loss: 0.9523 - categorical_accuracy: 0.6435; Current Batch = 11\n",
            "11/11 [==============================] - ETA: 0s - loss: 0.9454 - categorical_accuracy: 0.6522; Current Batch = 1\n",
            "; Num of batches = 3\n",
            "; Current Batch = 0\n",
            "\n",
            "Epoch 2: saving model to model_init_2023-08-3109_43_59.510610/model-00002-0.94542-0.65217-5.50460-0.28125.h5\n",
            "11/11 [==============================] - 82s 8s/step - loss: 0.9454 - categorical_accuracy: 0.6522 - val_loss: 5.5046 - val_categorical_accuracy: 0.2812 - lr: 0.0010\n",
            "Epoch 3/20\n",
            "; Current Batch = 12\n",
            " 1/11 [=>............................] - ETA: 1s - loss: 1.0900 - categorical_accuracy: 0.6087; Current Batch = 13\n",
            " 2/11 [====>.........................] - ETA: 30s - loss: 1.1319 - categorical_accuracy: 0.5652; Current Batch = 14\n",
            " 3/11 [=======>......................] - ETA: 32s - loss: 1.0350 - categorical_accuracy: 0.5942; Current Batch = 15\n",
            " 4/11 [=========>....................] - ETA: 26s - loss: 1.0533 - categorical_accuracy: 0.5978; Current Batch = 16\n",
            " 5/11 [============>.................] - ETA: 25s - loss: 1.0579 - categorical_accuracy: 0.5826; Current Batch = 17\n",
            " 6/11 [===============>..............] - ETA: 22s - loss: 1.0472 - categorical_accuracy: 0.6087; Current Batch = 18\n",
            " 7/11 [==================>...........] - ETA: 19s - loss: 0.9886 - categorical_accuracy: 0.6335; Current Batch = 19\n",
            " 8/11 [====================>.........] - ETA: 14s - loss: 0.9649 - categorical_accuracy: 0.6413; Current Batch = 20\n",
            " 9/11 [=======================>......] - ETA: 9s - loss: 0.9351 - categorical_accuracy: 0.6473 ; Current Batch = 21\n",
            "10/11 [==========================>...] - ETA: 4s - loss: 0.9447 - categorical_accuracy: 0.6391; Current Batch = 22\n",
            "11/11 [==============================] - ETA: 0s - loss: 0.9207 - categorical_accuracy: 0.6482; Current Batch = 1\n",
            "; Current Batch = 2\n",
            "\n",
            "Epoch 3: saving model to model_init_2023-08-3109_43_59.510610/model-00003-0.92066-0.64822-6.91253-0.26786.h5\n",
            "11/11 [==============================] - 68s 7s/step - loss: 0.9207 - categorical_accuracy: 0.6482 - val_loss: 6.9125 - val_categorical_accuracy: 0.2679 - lr: 0.0010\n",
            "Epoch 4/20\n",
            "; Current Batch = 23\n",
            " 1/11 [=>............................] - ETA: 1s - loss: 0.5690 - categorical_accuracy: 0.8261; Current Batch = 24\n",
            " 2/11 [====>.........................] - ETA: 27s - loss: 0.9511 - categorical_accuracy: 0.7174; Current Batch = 25\n",
            " 3/11 [=======>......................] - ETA: 24s - loss: 0.9666 - categorical_accuracy: 0.6522; Current Batch = 26\n",
            " 4/11 [=========>....................] - ETA: 23s - loss: 0.9567 - categorical_accuracy: 0.6522; Current Batch = 27\n",
            " 6/11 [===============>..............] - ETA: 17s - loss: 1.0704 - categorical_accuracy: 0.5652; Num of batches = 34\n",
            "; Current Batch = 0\n",
            " 7/11 [==================>...........] - ETA: 14s - loss: 1.0126 - categorical_accuracy: 0.5924; Current Batch = 1\n",
            " 8/11 [====================>.........] - ETA: 10s - loss: 0.9756 - categorical_accuracy: 0.6080; Current Batch = 2\n",
            " 9/11 [=======================>......] - ETA: 6s - loss: 1.0058 - categorical_accuracy: 0.6103 ; Current Batch = 3\n",
            "10/11 [==========================>...] - ETA: 3s - loss: 0.9649 - categorical_accuracy: 0.6262; Current Batch = 4\n",
            "11/11 [==============================] - ETA: 0s - loss: 0.9183 - categorical_accuracy: 0.6481; Num of batches = 6\n",
            "; Current Batch = 0\n",
            "; Current Batch = 1\n",
            "; Current Batch = 2\n",
            "\n",
            "Epoch 4: saving model to model_init_2023-08-3109_43_59.510610/model-00004-0.91835-0.64807-6.05208-0.25000.h5\n",
            "11/11 [==============================] - 42s 4s/step - loss: 0.9183 - categorical_accuracy: 0.6481 - val_loss: 6.0521 - val_categorical_accuracy: 0.2500 - lr: 0.0010\n",
            "Epoch 5/20\n",
            "; Current Batch = 5\n",
            " 1/11 [=>............................] - ETA: 1s - loss: 1.1816 - categorical_accuracy: 0.4211; Current Batch = 6\n",
            " 2/11 [====>.........................] - ETA: 22s - loss: 1.0107 - categorical_accuracy: 0.5263; Current Batch = 7\n",
            " 3/11 [=======>......................] - ETA: 21s - loss: 0.9208 - categorical_accuracy: 0.6316; Current Batch = 8\n",
            " 4/11 [=========>....................] - ETA: 20s - loss: 0.8789 - categorical_accuracy: 0.6711; Current Batch = 9\n",
            " 5/11 [============>.................] - ETA: 16s - loss: 0.8303 - categorical_accuracy: 0.6947; Current Batch = 10\n",
            " 6/11 [===============>..............] - ETA: 13s - loss: 0.8282 - categorical_accuracy: 0.7105; Current Batch = 11\n",
            " 7/11 [==================>...........] - ETA: 11s - loss: 0.8689 - categorical_accuracy: 0.6842; Current Batch = 12\n",
            " 8/11 [====================>.........] - ETA: 8s - loss: 0.8856 - categorical_accuracy: 0.6776 ; Current Batch = 13\n",
            " 9/11 [=======================>......] - ETA: 5s - loss: 0.9146 - categorical_accuracy: 0.6901; Current Batch = 14\n",
            "10/11 [==========================>...] - ETA: 2s - loss: 0.9117 - categorical_accuracy: 0.6895; Current Batch = 15\n",
            "11/11 [==============================] - ETA: 0s - loss: 0.8983 - categorical_accuracy: 0.6842; Current Batch = 3\n",
            "; Current Batch = 4\n",
            "; Current Batch = 5\n",
            "\n",
            "Epoch 5: saving model to model_init_2023-08-3109_43_59.510610/model-00005-0.89826-0.68421-6.15171-0.28125.h5\n",
            "11/11 [==============================] - 38s 4s/step - loss: 0.8983 - categorical_accuracy: 0.6842 - val_loss: 6.1517 - val_categorical_accuracy: 0.2812 - lr: 0.0010\n",
            "Epoch 6/20\n",
            "; Current Batch = 16\n",
            " 1/11 [=>............................] - ETA: 1s - loss: 0.4153 - categorical_accuracy: 0.8947; Current Batch = 17\n",
            " 2/11 [====>.........................] - ETA: 23s - loss: 0.6417 - categorical_accuracy: 0.7895; Current Batch = 18\n",
            " 3/11 [=======>......................] - ETA: 22s - loss: 0.6212 - categorical_accuracy: 0.7719; Current Batch = 19\n",
            " 4/11 [=========>....................] - ETA: 20s - loss: 0.5934 - categorical_accuracy: 0.7895; Current Batch = 20\n",
            " 5/11 [============>.................] - ETA: 17s - loss: 0.6198 - categorical_accuracy: 0.7684; Current Batch = 21\n",
            " 6/11 [===============>..............] - ETA: 14s - loss: 0.7067 - categorical_accuracy: 0.7456; Current Batch = 22\n",
            " 7/11 [==================>...........] - ETA: 11s - loss: 0.7333 - categorical_accuracy: 0.7519; Current Batch = 23\n",
            " 8/11 [====================>.........] - ETA: 8s - loss: 0.7732 - categorical_accuracy: 0.7368 ; Current Batch = 24\n",
            " 9/11 [=======================>......] - ETA: 6s - loss: 0.7679 - categorical_accuracy: 0.7310; Current Batch = 25\n",
            "10/11 [==========================>...] - ETA: 2s - loss: 0.7806 - categorical_accuracy: 0.7211; Current Batch = 26\n",
            "11/11 [==============================] - ETA: 0s - loss: 0.7753 - categorical_accuracy: 0.7177; Num of batches = 25\n",
            "; Current Batch = 0\n",
            "; Current Batch = 1\n",
            "\n",
            "Epoch 6: saving model to model_init_2023-08-3109_43_59.510610/model-00006-0.77531-0.71770-5.97707-0.25000.h5\n",
            "\n",
            "Epoch 6: ReduceLROnPlateau reducing learning rate to 0.00020000000949949026.\n",
            "11/11 [==============================] - 32s 3s/step - loss: 0.7753 - categorical_accuracy: 0.7177 - val_loss: 5.9771 - val_categorical_accuracy: 0.2500 - lr: 0.0010\n",
            "Epoch 7/20\n",
            "; Current Batch = 27\n",
            " 1/11 [=>............................] - ETA: 13s - loss: 0.6751 - categorical_accuracy: 0.6842; Current Batch = 28\n",
            " 2/11 [====>.........................] - ETA: 31s - loss: 1.0977 - categorical_accuracy: 0.6316; Current Batch = 29\n",
            " 3/11 [=======>......................] - ETA: 23s - loss: 1.0612 - categorical_accuracy: 0.6491; Current Batch = 30\n",
            " 4/11 [=========>....................] - ETA: 20s - loss: 1.0660 - categorical_accuracy: 0.6579; Current Batch = 31\n",
            " 5/11 [============>.................] - ETA: 17s - loss: 1.0182 - categorical_accuracy: 0.6737; Current Batch = 32\n",
            " 6/11 [===============>..............] - ETA: 15s - loss: 1.0142 - categorical_accuracy: 0.6491; Current Batch = 33\n",
            " 8/11 [====================>.........] - ETA: 8s - loss: 0.9860 - categorical_accuracy: 0.6513 ; Num of batches = 39\n",
            "; Current Batch = 0\n",
            " 9/11 [=======================>......] - ETA: 6s - loss: 0.9583 - categorical_accuracy: 0.6568; Current Batch = 1\n",
            "10/11 [==========================>...] - ETA: 2s - loss: 0.9463 - categorical_accuracy: 0.6667; Current Batch = 2\n",
            "11/11 [==============================] - ETA: 0s - loss: 0.9219 - categorical_accuracy: 0.6749; Current Batch = 2\n",
            "; Current Batch = 3\n",
            "; Current Batch = 4\n",
            "\n",
            "Epoch 7: saving model to model_init_2023-08-3109_43_59.510610/model-00007-0.92192-0.67488-4.77331-0.25000.h5\n",
            "11/11 [==============================] - 34s 3s/step - loss: 0.9219 - categorical_accuracy: 0.6749 - val_loss: 4.7733 - val_categorical_accuracy: 0.2500 - lr: 2.0000e-04\n",
            "Epoch 8/20\n",
            "; Current Batch = 3\n",
            " 1/11 [=>............................] - ETA: 1s - loss: 0.6202 - categorical_accuracy: 0.7647; Current Batch = 4\n",
            " 2/11 [====>.........................] - ETA: 20s - loss: 0.6070 - categorical_accuracy: 0.7647; Current Batch = 5\n",
            " 3/11 [=======>......................] - ETA: 19s - loss: 0.5900 - categorical_accuracy: 0.7843; Current Batch = 6\n",
            " 4/11 [=========>....................] - ETA: 20s - loss: 0.6144 - categorical_accuracy: 0.7353; Current Batch = 7\n",
            " 5/11 [============>.................] - ETA: 16s - loss: 0.6093 - categorical_accuracy: 0.7529; Current Batch = 8\n",
            " 6/11 [===============>..............] - ETA: 13s - loss: 0.5974 - categorical_accuracy: 0.7647; Current Batch = 9\n",
            " 7/11 [==================>...........] - ETA: 10s - loss: 0.5848 - categorical_accuracy: 0.7647; Current Batch = 10\n",
            " 8/11 [====================>.........] - ETA: 8s - loss: 0.5588 - categorical_accuracy: 0.7868 ; Current Batch = 11\n",
            " 9/11 [=======================>......] - ETA: 5s - loss: 0.5593 - categorical_accuracy: 0.7908; Current Batch = 12\n",
            "10/11 [==========================>...] - ETA: 2s - loss: 0.5407 - categorical_accuracy: 0.8000; Current Batch = 13\n",
            "11/11 [==============================] - ETA: 0s - loss: 0.5575 - categorical_accuracy: 0.7914; Current Batch = 5\n",
            "; Current Batch = 6\n",
            "; Current Batch = 7\n",
            "\n",
            "Epoch 8: saving model to model_init_2023-08-3109_43_59.510610/model-00008-0.55745-0.79144-4.32196-0.12500.h5\n",
            "11/11 [==============================] - 31s 3s/step - loss: 0.5575 - categorical_accuracy: 0.7914 - val_loss: 4.3220 - val_categorical_accuracy: 0.1250 - lr: 2.0000e-04\n",
            "Epoch 9/20\n",
            "; Current Batch = 14\n",
            " 1/11 [=>............................] - ETA: 1s - loss: 0.5842 - categorical_accuracy: 0.8235; Current Batch = 15\n",
            " 2/11 [====>.........................] - ETA: 27s - loss: 0.5943 - categorical_accuracy: 0.7647; Current Batch = 16\n",
            " 3/11 [=======>......................] - ETA: 22s - loss: 0.5625 - categorical_accuracy: 0.7843; Current Batch = 17\n",
            " 4/11 [=========>....................] - ETA: 18s - loss: 0.5718 - categorical_accuracy: 0.7794; Current Batch = 18\n",
            " 5/11 [============>.................] - ETA: 15s - loss: 0.5825 - categorical_accuracy: 0.8000; Current Batch = 19\n",
            " 6/11 [===============>..............] - ETA: 12s - loss: 0.6359 - categorical_accuracy: 0.7647; Current Batch = 20\n",
            " 7/11 [==================>...........] - ETA: 10s - loss: 0.5832 - categorical_accuracy: 0.7899; Current Batch = 21\n",
            " 8/11 [====================>.........] - ETA: 7s - loss: 0.6092 - categorical_accuracy: 0.7794 ; Current Batch = 22\n",
            " 9/11 [=======================>......] - ETA: 5s - loss: 0.6399 - categorical_accuracy: 0.7647; Current Batch = 23\n",
            "10/11 [==========================>...] - ETA: 2s - loss: 0.6412 - categorical_accuracy: 0.7647; Current Batch = 24\n",
            "11/11 [==============================] - ETA: 0s - loss: 0.6245 - categorical_accuracy: 0.7701; Current Batch = 8\n",
            "; Current Batch = 9\n",
            "; Current Batch = 10\n",
            "\n",
            "Epoch 9: saving model to model_init_2023-08-3109_43_59.510610/model-00009-0.62454-0.77005-2.28537-0.37500.h5\n",
            "11/11 [==============================] - 32s 3s/step - loss: 0.6245 - categorical_accuracy: 0.7701 - val_loss: 2.2854 - val_categorical_accuracy: 0.3750 - lr: 2.0000e-04\n",
            "Epoch 10/20\n",
            "; Current Batch = 25\n",
            " 1/11 [=>............................] - ETA: 1s - loss: 0.4254 - categorical_accuracy: 0.8824; Current Batch = 26\n",
            " 2/11 [====>.........................] - ETA: 18s - loss: 0.4625 - categorical_accuracy: 0.8529; Current Batch = 27\n",
            " 3/11 [=======>......................] - ETA: 18s - loss: 0.6030 - categorical_accuracy: 0.7843; Current Batch = 28\n",
            " 4/11 [=========>....................] - ETA: 16s - loss: 0.6061 - categorical_accuracy: 0.7941; Current Batch = 29\n",
            " 5/11 [============>.................] - ETA: 14s - loss: 0.6766 - categorical_accuracy: 0.7412; Current Batch = 30\n",
            " 6/11 [===============>..............] - ETA: 11s - loss: 0.6827 - categorical_accuracy: 0.7353; Current Batch = 31\n",
            " 7/11 [==================>...........] - ETA: 9s - loss: 0.7088 - categorical_accuracy: 0.7227 ; Current Batch = 32\n",
            " 8/11 [====================>.........] - ETA: 7s - loss: 0.6865 - categorical_accuracy: 0.7279; Current Batch = 33\n",
            " 9/11 [=======================>......] - ETA: 4s - loss: 0.7209 - categorical_accuracy: 0.7190; Current Batch = 34\n",
            "10/11 [==========================>...] - ETA: 2s - loss: 0.7146 - categorical_accuracy: 0.7235; Current Batch = 35\n",
            "11/11 [==============================] - ETA: 0s - loss: 0.7223 - categorical_accuracy: 0.7112; Current Batch = 11\n",
            "; Current Batch = 12\n",
            "; Current Batch = 13\n",
            "\n",
            "Epoch 10: saving model to model_init_2023-08-3109_43_59.510610/model-00010-0.72226-0.71123-2.82750-0.25000.h5\n",
            "11/11 [==============================] - 28s 3s/step - loss: 0.7223 - categorical_accuracy: 0.7112 - val_loss: 2.8275 - val_categorical_accuracy: 0.2500 - lr: 2.0000e-04\n",
            "Epoch 11/20\n",
            "; Current Batch = 36\n",
            " 1/11 [=>............................] - ETA: 6s - loss: 0.4318 - categorical_accuracy: 0.8235; Current Batch = 37\n",
            " 2/11 [====>.........................] - ETA: 27s - loss: 0.5463 - categorical_accuracy: 0.7941; Current Batch = 38\n",
            " 3/11 [=======>......................] - ETA: 20s - loss: 0.6377 - categorical_accuracy: 0.7647; Num of batches = 39\n",
            "; Current Batch = 0\n",
            " 4/11 [=========>....................] - ETA: 19s - loss: 0.6354 - categorical_accuracy: 0.7647; Current Batch = 1\n",
            " 5/11 [============>.................] - ETA: 16s - loss: 0.6074 - categorical_accuracy: 0.7647; Current Batch = 2\n",
            " 6/11 [===============>..............] - ETA: 13s - loss: 0.6042 - categorical_accuracy: 0.7745; Current Batch = 3\n",
            " 7/11 [==================>...........] - ETA: 10s - loss: 0.6218 - categorical_accuracy: 0.7647; Current Batch = 4\n",
            " 8/11 [====================>.........] - ETA: 7s - loss: 0.5911 - categorical_accuracy: 0.7721 ; Current Batch = 5\n",
            " 9/11 [=======================>......] - ETA: 5s - loss: 0.5612 - categorical_accuracy: 0.7843; Current Batch = 6\n",
            "10/11 [==========================>...] - ETA: 2s - loss: 0.5655 - categorical_accuracy: 0.7824; Current Batch = 7\n",
            "11/11 [==============================] - ETA: 0s - loss: 0.5527 - categorical_accuracy: 0.7968; Current Batch = 14\n",
            "; Current Batch = 15\n",
            "; Current Batch = 16\n",
            "\n",
            "Epoch 11: saving model to model_init_2023-08-3109_43_59.510610/model-00011-0.55271-0.79679-1.71808-0.37500.h5\n",
            "11/11 [==============================] - 32s 3s/step - loss: 0.5527 - categorical_accuracy: 0.7968 - val_loss: 1.7181 - val_categorical_accuracy: 0.3750 - lr: 2.0000e-04\n",
            "Epoch 12/20\n",
            "; Current Batch = 8\n",
            " 1/11 [=>............................] - ETA: 1s - loss: 0.6550 - categorical_accuracy: 0.8235; Current Batch = 9\n",
            " 2/11 [====>.........................] - ETA: 27s - loss: 0.5563 - categorical_accuracy: 0.8529; Current Batch = 10\n",
            " 3/11 [=======>......................] - ETA: 21s - loss: 0.5253 - categorical_accuracy: 0.8431; Current Batch = 11\n",
            " 4/11 [=========>....................] - ETA: 17s - loss: 0.4951 - categorical_accuracy: 0.8676; Current Batch = 12\n",
            " 5/11 [============>.................] - ETA: 14s - loss: 0.5012 - categorical_accuracy: 0.8588; Current Batch = 13\n",
            " 6/11 [===============>..............] - ETA: 12s - loss: 0.4856 - categorical_accuracy: 0.8627; Current Batch = 14\n",
            " 7/11 [==================>...........] - ETA: 10s - loss: 0.4863 - categorical_accuracy: 0.8655; Current Batch = 15\n",
            " 8/11 [====================>.........] - ETA: 7s - loss: 0.4882 - categorical_accuracy: 0.8750 ; Current Batch = 16\n",
            " 9/11 [=======================>......] - ETA: 5s - loss: 0.4791 - categorical_accuracy: 0.8693; Current Batch = 17\n",
            "10/11 [==========================>...] - ETA: 2s - loss: 0.5297 - categorical_accuracy: 0.8471; Current Batch = 18\n",
            "11/11 [==============================] - ETA: 0s - loss: 0.5301 - categorical_accuracy: 0.8396; Current Batch = 17\n",
            "; Current Batch = 18\n",
            "; Current Batch = 19\n",
            "\n",
            "Epoch 12: saving model to model_init_2023-08-3109_43_59.510610/model-00012-0.53014-0.83957-0.86702-0.50000.h5\n",
            "11/11 [==============================] - 32s 3s/step - loss: 0.5301 - categorical_accuracy: 0.8396 - val_loss: 0.8670 - val_categorical_accuracy: 0.5000 - lr: 2.0000e-04\n",
            "Epoch 13/20\n",
            "; Current Batch = 19\n",
            " 1/11 [=>............................] - ETA: 7s - loss: 0.8462 - categorical_accuracy: 0.6471; Current Batch = 20\n",
            " 2/11 [====>.........................] - ETA: 22s - loss: 0.6780 - categorical_accuracy: 0.6765; Current Batch = 21\n",
            " 3/11 [=======>......................] - ETA: 19s - loss: 0.5831 - categorical_accuracy: 0.7647; Current Batch = 22\n",
            " 4/11 [=========>....................] - ETA: 16s - loss: 0.5934 - categorical_accuracy: 0.7500; Current Batch = 23\n",
            " 5/11 [============>.................] - ETA: 15s - loss: 0.5531 - categorical_accuracy: 0.7765; Current Batch = 24\n",
            " 6/11 [===============>..............] - ETA: 13s - loss: 0.5334 - categorical_accuracy: 0.7843; Current Batch = 25\n",
            " 7/11 [==================>...........] - ETA: 10s - loss: 0.5042 - categorical_accuracy: 0.8067; Current Batch = 26\n",
            " 8/11 [====================>.........] - ETA: 7s - loss: 0.4967 - categorical_accuracy: 0.8088 ; Current Batch = 27\n",
            " 9/11 [=======================>......] - ETA: 5s - loss: 0.5108 - categorical_accuracy: 0.8039; Current Batch = 28\n",
            "10/11 [==========================>...] - ETA: 2s - loss: 0.5381 - categorical_accuracy: 0.7941; Current Batch = 29\n",
            "11/11 [==============================] - ETA: 0s - loss: 0.5188 - categorical_accuracy: 0.8075; Current Batch = 20\n",
            "; Current Batch = 21\n",
            "; Current Batch = 22\n",
            "\n",
            "Epoch 13: saving model to model_init_2023-08-3109_43_59.510610/model-00013-0.51883-0.80749-2.24664-0.37500.h5\n",
            "11/11 [==============================] - 34s 3s/step - loss: 0.5188 - categorical_accuracy: 0.8075 - val_loss: 2.2466 - val_categorical_accuracy: 0.3750 - lr: 2.0000e-04\n",
            "Epoch 14/20\n",
            "; Current Batch = 30\n",
            " 1/11 [=>............................] - ETA: 31s - loss: 0.6192 - categorical_accuracy: 0.8235"
          ]
        }
      ]
    },
    {
      "cell_type": "code",
      "source": [
        "plotModelHistory(model1_history)"
      ],
      "metadata": {
        "colab": {
          "base_uri": "https://localhost:8080/",
          "height": 179
        },
        "id": "qPBbLJRfhbwx",
        "outputId": "7251fde0-1777-4d89-9aa6-dd178d727ca7"
      },
      "execution_count": null,
      "outputs": [
        {
          "output_type": "error",
          "ename": "NameError",
          "evalue": "ignored",
          "traceback": [
            "\u001b[0;31m---------------------------------------------------------------------------\u001b[0m",
            "\u001b[0;31mNameError\u001b[0m                                 Traceback (most recent call last)",
            "\u001b[0;32m<ipython-input-3-fa2c0bbb6356>\u001b[0m in \u001b[0;36m<cell line: 1>\u001b[0;34m()\u001b[0m\n\u001b[0;32m----> 1\u001b[0;31m \u001b[0mplotModelHistory\u001b[0m\u001b[0;34m(\u001b[0m\u001b[0mmodel1_history\u001b[0m\u001b[0;34m)\u001b[0m\u001b[0;34m\u001b[0m\u001b[0;34m\u001b[0m\u001b[0m\n\u001b[0m",
            "\u001b[0;31mNameError\u001b[0m: name 'model1_history' is not defined"
          ]
        }
      ]
    }
  ],
  "metadata": {
    "kernelspec": {
      "display_name": "Python 3",
      "name": "python3"
    },
    "language_info": {
      "codemirror_mode": {
        "name": "ipython",
        "version": 3
      },
      "file_extension": ".py",
      "mimetype": "text/x-python",
      "name": "python",
      "nbconvert_exporter": "python",
      "pygments_lexer": "ipython3",
      "version": "3.11.3"
    },
    "colab": {
      "provenance": [],
      "gpuType": "V100",
      "include_colab_link": true
    },
    "accelerator": "GPU"
  },
  "nbformat": 4,
  "nbformat_minor": 0
}