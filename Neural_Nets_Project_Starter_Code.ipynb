{
  "cells": [
    {
      "cell_type": "markdown",
      "metadata": {
        "id": "view-in-github",
        "colab_type": "text"
      },
      "source": [
        "<a href=\"https://colab.research.google.com/github/bharathsanjai/hand-gesture-recognition/blob/main/Neural_Nets_Project_Starter_Code.ipynb\" target=\"_parent\"><img src=\"https://colab.research.google.com/assets/colab-badge.svg\" alt=\"Open In Colab\"/></a>"
      ]
    },
    {
      "cell_type": "markdown",
      "metadata": {
        "id": "4sawJV_5K_x6"
      },
      "source": [
        "# Gesture Recognition\n",
        "In this group project, you are going to build a 3D Conv model that will be able to predict the 5 gestures correctly. Please import the following libraries to get started."
      ]
    },
    {
      "cell_type": "code",
      "execution_count": null,
      "metadata": {
        "colab": {
          "base_uri": "https://localhost:8080/"
        },
        "id": "xgIVyEQ4LBZA",
        "outputId": "03586a7f-47b2-4cff-e1c9-f2cf76c5b0ee"
      },
      "outputs": [
        {
          "name": "stdout",
          "output_type": "stream",
          "text": [
            "Python version:  3.10.12\n",
            "TensorFlow version:  2.12.0\n",
            "GPU found. Running on GPU.\n"
          ]
        }
      ],
      "source": [
        "# Running on GPU\n",
        "\n",
        "import platform\n",
        "import tensorflow as tf\n",
        "\n",
        "print(\"Python version: \", platform.python_version())\n",
        "print(\"TensorFlow version: \", tf.__version__)\n",
        "\n",
        "device_name = tf.test.gpu_device_name()\n",
        "if device_name != '/device:GPU:0':\n",
        "    print('GPU not found. Running on CPU.')\n",
        "else:\n",
        "    print('GPU found. Running on GPU.')"
      ]
    },
    {
      "cell_type": "code",
      "execution_count": 1,
      "metadata": {
        "colab": {
          "base_uri": "https://localhost:8080/"
        },
        "id": "mSMemTBiLXvw",
        "outputId": "9e730cc9-eb19-47f0-cb09-a87b5afcdb7b"
      },
      "outputs": [
        {
          "output_type": "stream",
          "name": "stdout",
          "text": [
            "Requirement already satisfied: imageio in /usr/local/lib/python3.10/dist-packages (2.31.1)\n",
            "Requirement already satisfied: numpy in /usr/local/lib/python3.10/dist-packages (from imageio) (1.23.5)\n",
            "Requirement already satisfied: pillow>=8.3.2 in /usr/local/lib/python3.10/dist-packages (from imageio) (9.4.0)\n"
          ]
        }
      ],
      "source": [
        "!pip install imageio"
      ]
    },
    {
      "cell_type": "code",
      "execution_count": 2,
      "metadata": {
        "colab": {
          "base_uri": "https://localhost:8080/"
        },
        "id": "yBmXL4DJL74X",
        "outputId": "96d83ca5-c5e1-416a-c855-bdc3f774e43a"
      },
      "outputs": [
        {
          "output_type": "stream",
          "name": "stdout",
          "text": [
            "Mounted at /content/drive\n"
          ]
        }
      ],
      "source": [
        "from google.colab import drive\n",
        "drive.mount('/content/drive')"
      ]
    },
    {
      "cell_type": "code",
      "execution_count": 3,
      "metadata": {
        "id": "phRPEtO4K_x8"
      },
      "outputs": [],
      "source": [
        "import numpy as np\n",
        "import os\n",
        "# from scipy.misc import imread, imresize\n",
        "from skimage.transform import resize\n",
        "from imageio import imread\n",
        "import imageio\n",
        "import datetime\n",
        "import os"
      ]
    },
    {
      "cell_type": "markdown",
      "metadata": {
        "id": "rNz67W2HK_x9"
      },
      "source": [
        "We set the random seed so that the results don't vary drastically."
      ]
    },
    {
      "cell_type": "code",
      "execution_count": 4,
      "metadata": {
        "id": "zEsCXFXtK_x-"
      },
      "outputs": [],
      "source": [
        "np.random.seed(30)\n",
        "import random as rn\n",
        "rn.seed(30)\n",
        "from keras import backend as K\n",
        "import tensorflow as tf\n",
        "# tf.set_random_seed(30)\n",
        "tf.random.set_seed(30)"
      ]
    },
    {
      "cell_type": "markdown",
      "metadata": {
        "id": "Np4XHrNUK_x-"
      },
      "source": [
        "In this block, you read the folder names for training and validation. You also set the `batch_size` here. Note that you set the batch size in such a way that you are able to use the GPU in full capacity. You keep increasing the batch size until the machine throws an error."
      ]
    },
    {
      "cell_type": "code",
      "execution_count": 5,
      "metadata": {
        "id": "rHivD4ZpK_x-"
      },
      "outputs": [],
      "source": [
        "train_doc = np.random.permutation(open('/content/drive/My Drive/Project_data/train.csv').readlines())\n",
        "val_doc = np.random.permutation(open('/content/drive/My Drive/Project_data/val.csv').readlines())\n",
        "batch_size = 10 # experiment with the batch size"
      ]
    },
    {
      "cell_type": "code",
      "execution_count": null,
      "metadata": {
        "colab": {
          "base_uri": "https://localhost:8080/"
        },
        "id": "SgDl0xVSWNQj",
        "outputId": "15678f82-017d-4351-df8f-6d9cc5102b8d"
      },
      "outputs": [
        {
          "data": {
            "text/plain": [
              "array([ 3, 14, 15, 29,  6, 22, 16,  9,  8,  4,  7, 27, 16, 16,  7, 12, 15,\n",
              "       17])"
            ]
          },
          "execution_count": 19,
          "metadata": {},
          "output_type": "execute_result"
        }
      ],
      "source": [
        "# np.random.seed(5)\n",
        "# random_numbers = np.random.randint(0, 30, size=18)\n",
        "# random_numbers"
      ]
    },
    {
      "cell_type": "code",
      "execution_count": null,
      "metadata": {
        "id": "VtrNSyl4XcPL"
      },
      "outputs": [],
      "source": [
        "# samples_per_folder = 18\n",
        "\n",
        "# def batchsize(folder_list):\n",
        "#   result = math.ceil(folder_list.length *  samples_per_folder / batch_size)\n",
        "#   print('result is =', result)"
      ]
    },
    {
      "cell_type": "code",
      "execution_count": null,
      "metadata": {
        "id": "a1wV8Ujt560w"
      },
      "outputs": [],
      "source": [
        "# batch_size = 10 # experiment with the batch size\n",
        "# selecting alternate frames\n",
        "# seq_idx =  np.round(np.linspace(0, 29, 20)).astype(int)\n",
        "# image dimensions\n",
        "# dim_x, dim_y = 120, 120"
      ]
    },
    {
      "cell_type": "code",
      "execution_count": 6,
      "metadata": {
        "id": "LU48hYcLyJF6"
      },
      "outputs": [],
      "source": [
        "def cropResize(image, y, z):\n",
        "    h, w = image.shape\n",
        "\n",
        "    # if smaller image crop at center for 120x120\n",
        "    if w == 160:\n",
        "        image = image[:120, 20:140]\n",
        "\n",
        "    # resize every image\n",
        "    return resize(image, (y,z))"
      ]
    },
    {
      "cell_type": "code",
      "execution_count": 7,
      "metadata": {
        "colab": {
          "base_uri": "https://localhost:8080/"
        },
        "id": "ZMSQr8qVuie-",
        "outputId": "bad9dca3-5539-4148-f0fa-5a1715c80bca"
      },
      "outputs": [
        {
          "output_type": "stream",
          "name": "stdout",
          "text": [
            "# img_tensor = [array([ 0,  2,  3,  5,  6,  8,  9, 11, 12, 14, 15, 17, 18, 20, 21, 23, 24,\n",
            "       26, 27, 29]), 120, 120, 3]\n"
          ]
        }
      ],
      "source": [
        "def getImgTensor(n_frames):\n",
        "    img_idx = np.round(np.linspace(0, 29, n_frames)).astype(int)\n",
        "    return [img_idx, 120, 120, 3]\n",
        "\n",
        "# define image tensor size\n",
        "img_tensor = getImgTensor(20)\n",
        "print ('# img_tensor =', img_tensor)"
      ]
    },
    {
      "cell_type": "code",
      "execution_count": 8,
      "metadata": {
        "id": "JT0VSSh_DZOV"
      },
      "outputs": [],
      "source": [
        "def normalizeImage(image):\n",
        "    # applying normalization\n",
        "    return image/255.0"
      ]
    },
    {
      "cell_type": "code",
      "execution_count": 9,
      "metadata": {
        "id": "12jNyoU7EuS0"
      },
      "outputs": [],
      "source": [
        "def preprocessImage(image, y, z):\n",
        "    return normalizeImage(cropResize(image, y, z))"
      ]
    },
    {
      "cell_type": "code",
      "execution_count": 10,
      "metadata": {
        "id": "dOiNUJNGd8nw"
      },
      "outputs": [],
      "source": [
        "def genhelper(source_path, folder_list, batch_size, img_tensor, t, batch):\n",
        "  [x,y,z] = [len(img_tensor[0]),img_tensor[1], img_tensor[2]]\n",
        "  # img_idx = [1,4,5,6,7,9,21]\n",
        "  # print('IMG tensor ...', img_tensor[0])\n",
        "  img_idx = img_tensor[0]\n",
        "  # print('IMG DX list', img_idx)\n",
        "  batch_data = np.zeros((batch_size,x,y,z,3)) # x is the number of images you use for each video, (y,z) is the final size of the input images and 3 is the number of channels RGB\n",
        "  batch_labels = np.zeros((batch_size,5)) # batch_labels is the one hot representation of the output\n",
        "  for folder in range(batch_size): # iterate over the batch_size\n",
        "                imgs = os.listdir(source_path+'/'+ t[folder + (batch*batch_size)].split(';')[0]) # read all the images in the folder\n",
        "                # print(' Foder currently reading : ='+ source_path+'/'+ t[folder + (batch*batch_size)].split(';')[0])\n",
        "                # print('IMGS...', imgs)\n",
        "\n",
        "                for idx,item in enumerate(img_idx): #  Iterate iver the frames/images of a folder to read them in\n",
        "                    # print('image index count : = ', idx , ' ; item =', item)\n",
        "                    # print('Batch: = ', batch , ' ; Batch size: =', batch_size , ' ; index =' , batch*batch_size)\n",
        "                    image = imread(source_path+'/'+ t[folder + (batch*batch_size)].strip().split(';')[0]+'/'+imgs[item]).astype(np.float32)\n",
        "\n",
        "                    #crop the images and resize them. Note that the images are of 2 different shape\n",
        "                    #and the conv3D will throw error if the inputs in a batch have different shapes\n",
        "\n",
        "                    batch_data[folder,idx,:,:,0] = preprocessImage(image[:, :, 0], y, z) #normalise and feed in the image\n",
        "                    batch_data[folder,idx,:,:,1] = preprocessImage(image[:, :, 1], y, z) #normalise and feed in the image\n",
        "                    batch_data[folder,idx,:,:,2] = preprocessImage(image[:, :, 2], y, z) #normalise and feed in the image\n",
        "\n",
        "                batch_labels[folder, int(t[folder + (batch*batch_size)].strip().split(';')[2])] = 1\n",
        "  return batch_data, batch_labels #you yield the batch_data and the batch_labels, remember what does yield do\n",
        "\n",
        "        # write the code for the remaining data points which are left after full batches\n"
      ]
    },
    {
      "cell_type": "markdown",
      "metadata": {
        "id": "BOkg6cJzK_x-"
      },
      "source": [
        "## Generator\n",
        "This is one of the most important part of the code. The overall structure of the generator has been given. In the generator, you are going to preprocess the images as you have images of 2 different dimensions as well as create a batch of video frames. You have to experiment with `img_idx`, `y`,`z` and normalization such that you get high accuracy."
      ]
    },
    {
      "cell_type": "code",
      "execution_count": 11,
      "metadata": {
        "id": "XdYPnHbWK_x_"
      },
      "outputs": [],
      "source": [
        "def generator(source_path, folder_list, batch_size, img_tensor):\n",
        "    print( 'Source path = ', source_path, '; batch size =', batch_size)\n",
        "    # print('folder list length = ', folder_list)\n",
        "    # [x,y,z] = [len(img_tensor[0]),img_tensor[1], img_tensor[2]]\n",
        "    # img_idx = img_tensor[0]\n",
        "\n",
        "    while True:\n",
        "        t = np.random.permutation(folder_list)\n",
        "        num_batches = int(len(folder_list)/batch_size) # calculate the number of batches\n",
        "        print('; Num of batches =', num_batches)\n",
        "        for batch in range(num_batches): # we iterate over the number of batches\n",
        "            # print('; Current Batch =', batch)\n",
        "            yield genhelper(source_path, folder_list, batch_size, img_tensor, t, batch)#you yield the batch_data and the batch_labels, remember what does yield do\n",
        "\n",
        "\n",
        "        # write the code for the remaining data points which are left after full batches\n",
        "        if len(folder_list)%batch_size != 0:\n",
        "          batch_size = len(folder_list)%batch_size\n",
        "          yield genhelper(source_path, folder_list, batch_size, img_tensor, t, batch)#you yield the batch_data and the batch_labels, remember what does yield do"
      ]
    },
    {
      "cell_type": "markdown",
      "metadata": {
        "id": "Vwj3-x5pK_x_"
      },
      "source": [
        "Note here that a video is represented above in the generator as (number of images, height, width, number of channels). Take this into consideration while creating the model architecture."
      ]
    },
    {
      "cell_type": "code",
      "execution_count": 12,
      "metadata": {
        "colab": {
          "base_uri": "https://localhost:8080/"
        },
        "id": "4WqlDzAsK_yA",
        "outputId": "585eeda4-b9ae-4c70-bf1a-4da422ed049d"
      },
      "outputs": [
        {
          "output_type": "stream",
          "name": "stdout",
          "text": [
            "# training sequences = 663\n",
            "# validation sequences = 100\n",
            "# epochs = 10\n"
          ]
        }
      ],
      "source": [
        "curr_dt_time = datetime.datetime.now()\n",
        "train_path = '/content/drive/My Drive/Project_data/train'\n",
        "val_path = '/content/drive/My Drive/Project_data/val'\n",
        "num_train_sequences = len(train_doc)\n",
        "print('# training sequences =', num_train_sequences)\n",
        "num_val_sequences = len(val_doc)\n",
        "print('# validation sequences =', num_val_sequences)\n",
        "num_epochs = 10\n",
        "print ('# epochs =', num_epochs)"
      ]
    },
    {
      "cell_type": "code",
      "execution_count": null,
      "metadata": {
        "id": "7OLuBnXlsBam"
      },
      "outputs": [],
      "source": [
        "# check complete batch shape\n",
        "sample_generator = generator(train_path, train_doc, 32, img_tensor)\n",
        "sample_batch_data, sample_batch_labels = next(sample_generator)\n",
        "print(sample_batch_data.shape)"
      ]
    },
    {
      "cell_type": "code",
      "execution_count": null,
      "metadata": {
        "id": "aeespUvo9fYD"
      },
      "outputs": [],
      "source": [
        "# validation batch sample\n",
        "sample_val_generator = generator(val_path, val_doc, batch_size, img_tensor)\n",
        "sample_val_batch_data, sample_val_batch_labels = next(sample_val_generator)\n",
        "print(sample_val_batch_data.shape)"
      ]
    },
    {
      "cell_type": "code",
      "execution_count": 13,
      "metadata": {
        "colab": {
          "base_uri": "https://localhost:8080/"
        },
        "id": "8icHtw2KLYVK",
        "outputId": "6109291d-9ed6-4c97-8ba3-f391de129f21"
      },
      "outputs": [
        {
          "output_type": "stream",
          "name": "stdout",
          "text": [
            "(5, 5)\n"
          ]
        }
      ],
      "source": [
        "def make3dFilter(x):\n",
        "    return tuple([x]*3)\n",
        "\n",
        "def make2dFilter(x):\n",
        "    return tuple([x]*2)\n",
        "\n",
        "print(make2dFilter(5))"
      ]
    },
    {
      "cell_type": "code",
      "execution_count": 14,
      "metadata": {
        "colab": {
          "base_uri": "https://localhost:8080/"
        },
        "id": "UqbaQtkrMaYg",
        "outputId": "57d33ad0-9041-46e4-8f1b-25a6944ce92a"
      },
      "outputs": [
        {
          "output_type": "stream",
          "name": "stdout",
          "text": [
            "(20, 120, 120, 3)\n"
          ]
        }
      ],
      "source": [
        " inputShape = (len(img_tensor[0]), img_tensor[1], img_tensor[2], img_tensor[3])\n",
        " print(inputShape)"
      ]
    },
    {
      "cell_type": "markdown",
      "metadata": {
        "id": "2pZZSKluK_yA"
      },
      "source": [
        "## Model\n",
        "Here you make the model using different functionalities that Keras provides. Remember to use `Conv3D` and `MaxPooling3D` and not `Conv2D` and `Maxpooling2D` for a 3D convolution model. You would want to use `TimeDistributed` while building a Conv2D + RNN model. Also remember that the last layer is the softmax. Design the network in such a way that the model is able to give good accuracy on the least number of parameters so that it can fit in the memory of the webcam."
      ]
    },
    {
      "cell_type": "code",
      "execution_count": 15,
      "metadata": {
        "id": "rcliwfdpK_yA"
      },
      "outputs": [],
      "source": [
        "from keras.models import Sequential, Model\n",
        "from keras.layers import Dense, GRU, Flatten, TimeDistributed, Flatten, BatchNormalization, Activation, Dropout, LSTM\n",
        "from keras.layers.convolutional import Conv3D, MaxPooling3D\n",
        "from keras.callbacks import ModelCheckpoint, ReduceLROnPlateau\n",
        "from keras import optimizers\n",
        "\n",
        "# #write your model here\n",
        "\n",
        "# # Create a Sequential model\n",
        "# model = Sequential()\n",
        "\n",
        "# # Add Conv3D layer\n",
        "# model.add(Conv3D(filters=16, kernel_size=(5, 5, 5), activation='relu', input_shape=(inputShape)))\n",
        "\n",
        "# # Add Conv3D layer\n",
        "# model.add(Conv3D(filters=32, kernel_size=(3, 3, 3), activation='relu'))\n",
        "\n",
        "# # Add Conv3D layer\n",
        "# model.add(Conv3D(filters=64, kernel_size=(3, 3, 3), activation='relu'))\n",
        "\n",
        "# # Add MaxPooling3D layer\n",
        "# model.add(MaxPooling3D(pool_size=(2, 2, 2)))\n",
        "\n",
        "# # Add Flatten layer\n",
        "# model.add(Flatten())\n",
        "\n",
        "# # Add Dense layers\n",
        "# model.add(Dense(128, activation='relu'))\n",
        "# model.add(Dense(64, activation='softmax'))  # num_classes is the number of classes in your problem\n",
        "\n",
        "# Compile the model\n",
        "# model.compile(loss='categorical_crossentropy', optimizer='adam', metrics=['accuracy'])\n",
        "\n"
      ]
    },
    {
      "cell_type": "markdown",
      "metadata": {
        "id": "WOJ42LwtK_yB"
      },
      "source": [
        "Now that you have written the model, the next step is to `compile` the model. When you print the `summary` of the model, you'll see the total number of parameters you have to train."
      ]
    },
    {
      "cell_type": "code",
      "execution_count": null,
      "metadata": {
        "id": "M5VWkJPVK_yB",
        "scrolled": true
      },
      "outputs": [],
      "source": [
        "# optimiser = 'adam'\n",
        "# model.compile(optimizer=optimiser, loss='categorical_crossentropy', metrics=['categorical_accuracy'])\n",
        "# print (model.summary())"
      ]
    },
    {
      "cell_type": "code",
      "execution_count": 16,
      "metadata": {
        "colab": {
          "base_uri": "https://localhost:8080/"
        },
        "id": "_rD2l9GOhEpS",
        "outputId": "1091111d-9e55-44bf-ae84-e9cd4d516ee3"
      },
      "outputs": [
        {
          "output_type": "stream",
          "name": "stdout",
          "text": [
            "Model: \"sequential\"\n",
            "_________________________________________________________________\n",
            " Layer (type)                Output Shape              Param #   \n",
            "=================================================================\n",
            " conv3d (Conv3D)             (None, 16, 116, 116, 16)  6016      \n",
            "                                                                 \n",
            " max_pooling3d (MaxPooling3D  (None, 8, 58, 58, 16)    0         \n",
            " )                                                               \n",
            "                                                                 \n",
            " batch_normalization (BatchN  (None, 8, 58, 58, 16)    64        \n",
            " ormalization)                                                   \n",
            "                                                                 \n",
            " conv3d_1 (Conv3D)           (None, 6, 56, 56, 32)     13856     \n",
            "                                                                 \n",
            " max_pooling3d_1 (MaxPooling  (None, 6, 28, 28, 32)    0         \n",
            " 3D)                                                             \n",
            "                                                                 \n",
            " batch_normalization_1 (Batc  (None, 6, 28, 28, 32)    128       \n",
            " hNormalization)                                                 \n",
            "                                                                 \n",
            " conv3d_2 (Conv3D)           (None, 4, 26, 26, 64)     55360     \n",
            "                                                                 \n",
            " max_pooling3d_2 (MaxPooling  (None, 4, 13, 13, 64)    0         \n",
            " 3D)                                                             \n",
            "                                                                 \n",
            " batch_normalization_2 (Batc  (None, 4, 13, 13, 64)    256       \n",
            " hNormalization)                                                 \n",
            "                                                                 \n",
            " flatten (Flatten)           (None, 43264)             0         \n",
            "                                                                 \n",
            " dense (Dense)               (None, 128)               5537920   \n",
            "                                                                 \n",
            " batch_normalization_3 (Batc  (None, 128)              512       \n",
            " hNormalization)                                                 \n",
            "                                                                 \n",
            " dropout (Dropout)           (None, 128)               0         \n",
            "                                                                 \n",
            " dense_1 (Dense)             (None, 64)                8256      \n",
            "                                                                 \n",
            " batch_normalization_4 (Batc  (None, 64)               256       \n",
            " hNormalization)                                                 \n",
            "                                                                 \n",
            " dropout_1 (Dropout)         (None, 64)                0         \n",
            "                                                                 \n",
            " dense_2 (Dense)             (None, 5)                 325       \n",
            "                                                                 \n",
            "=================================================================\n",
            "Total params: 5,622,949\n",
            "Trainable params: 5,622,341\n",
            "Non-trainable params: 608\n",
            "_________________________________________________________________\n"
          ]
        }
      ],
      "source": [
        "def defineModel(img_tensor):\n",
        "    inputShape = (len(img_tensor[0]), img_tensor[1], img_tensor[2], img_tensor[3])\n",
        "\n",
        "    model = Sequential([\n",
        "        Conv3D(16, make3dFilter(5), activation='relu', input_shape=inputShape),\n",
        "        MaxPooling3D(make3dFilter(2), padding='same'),\n",
        "        BatchNormalization(),\n",
        "\n",
        "        Conv3D(32, make3dFilter(3), activation='relu'),\n",
        "        MaxPooling3D(pool_size=(1,2,2), padding='same'),\n",
        "        BatchNormalization(),\n",
        "\n",
        "        Conv3D(64, make3dFilter(3), activation='relu'),\n",
        "        MaxPooling3D(pool_size=(1,2,2), padding='same'),\n",
        "        BatchNormalization(),\n",
        "\n",
        "        Flatten(),\n",
        "        Dense(128, activation='relu'),\n",
        "        BatchNormalization(),\n",
        "        Dropout(0.25),\n",
        "\n",
        "        Dense(64, activation='relu'),\n",
        "        BatchNormalization(),\n",
        "        Dropout(0.25),\n",
        "\n",
        "        Dense(5, activation='softmax')\n",
        "    ])\n",
        "    model.compile(optimizer=optimizers.Adam(), loss='categorical_crossentropy', metrics=['categorical_accuracy'])\n",
        "    return model\n",
        "\n",
        "model = defineModel(img_tensor)\n",
        "model.summary()"
      ]
    },
    {
      "cell_type": "markdown",
      "metadata": {
        "id": "zBJtILzoK_yB"
      },
      "source": [
        "Let us create the `train_generator` and the `val_generator` which will be used in `.fit_generator`."
      ]
    },
    {
      "cell_type": "code",
      "execution_count": 17,
      "metadata": {
        "id": "gPJqw0EmK_yB"
      },
      "outputs": [],
      "source": [
        "train_generator = generator(train_path, train_doc, batch_size, img_tensor)\n",
        "val_generator = generator(val_path, val_doc, batch_size, img_tensor)"
      ]
    },
    {
      "cell_type": "code",
      "execution_count": 18,
      "metadata": {
        "colab": {
          "base_uri": "https://localhost:8080/"
        },
        "id": "xfMSHnHHK_yB",
        "outputId": "df894837-db27-42d2-ff18-e65d3ec0882e"
      },
      "outputs": [
        {
          "output_type": "stream",
          "name": "stderr",
          "text": [
            "WARNING:tensorflow:`period` argument is deprecated. Please use `save_freq` to specify the frequency in number of batches seen.\n"
          ]
        }
      ],
      "source": [
        "model_name = 'model_init' + '_' + str(curr_dt_time).replace(' ','').replace(':','_') + '/'\n",
        "\n",
        "if not os.path.exists(model_name):\n",
        "    os.mkdir(model_name)\n",
        "\n",
        "filepath = model_name + 'model-{epoch:05d}-{loss:.5f}-{categorical_accuracy:.5f}-{val_loss:.5f}-{val_categorical_accuracy:.5f}.h5'\n",
        "\n",
        "checkpoint = ModelCheckpoint(filepath, monitor='val_loss', verbose=1, save_best_only=False, save_weights_only=False, mode='auto', period=1)\n",
        "\n",
        "LR = ReduceLROnPlateau(monitor='val_loss', factor=0.2, verbose=1, patience=4)# write the REducelronplateau code here\n",
        "callbacks_list = [checkpoint, LR]"
      ]
    },
    {
      "cell_type": "markdown",
      "metadata": {
        "id": "e23DAZfCK_yC"
      },
      "source": [
        "The `steps_per_epoch` and `validation_steps` are used by `fit_generator` to decide the number of next() calls it need to make."
      ]
    },
    {
      "cell_type": "code",
      "execution_count": 19,
      "metadata": {
        "id": "e_67QZIrK_yC"
      },
      "outputs": [],
      "source": [
        "if (num_train_sequences%batch_size) == 0:\n",
        "    steps_per_epoch = int(num_train_sequences/batch_size)\n",
        "else:\n",
        "    steps_per_epoch = (num_train_sequences//batch_size) + 1\n",
        "\n",
        "if (num_val_sequences%batch_size) == 0:\n",
        "    validation_steps = int(num_val_sequences/batch_size)\n",
        "else:\n",
        "    validation_steps = (num_val_sequences//batch_size) + 1"
      ]
    },
    {
      "cell_type": "code",
      "execution_count": 20,
      "metadata": {
        "id": "-L2E58t-_elj"
      },
      "outputs": [],
      "source": [
        "num_epochs = 10"
      ]
    },
    {
      "cell_type": "code",
      "execution_count": 20,
      "metadata": {
        "id": "ehPu0ceDPje5"
      },
      "outputs": [],
      "source": [
        "import matplotlib.pyplot as plt"
      ]
    },
    {
      "cell_type": "code",
      "execution_count": 21,
      "metadata": {
        "id": "9aWH-ZOeEt_l"
      },
      "outputs": [],
      "source": [
        "def plotModelHistory(h):\n",
        "    fig, ax = plt.subplots(1, 2, figsize=(15,4))\n",
        "    ax[0].plot(h.history['loss'])\n",
        "    ax[0].plot(h.history['val_loss'])\n",
        "    ax[0].legend(['loss','val_loss'])\n",
        "    ax[0].title.set_text(\"Train loss vs Validation loss\")\n",
        "\n",
        "    ax[1].plot(h.history['categorical_accuracy'])\n",
        "    ax[1].plot(h.history['val_categorical_accuracy'])\n",
        "    ax[1].legend(['categorical_accuracy','val_categorical_accuracy'])\n",
        "    ax[1].title.set_text(\"Train accuracy vs Validation accuracy\")\n",
        "    plt.show()\n",
        "\n",
        "    print(\"Max. Training Accuracy\", max(h.history['categorical_accuracy']))\n",
        "    print(\"Max. Validaiton Accuracy\", max(h.history['val_categorical_accuracy']))"
      ]
    },
    {
      "cell_type": "markdown",
      "metadata": {
        "id": "7n7fYOv9K_yC"
      },
      "source": [
        "Let us now fit the model. This will start training the model and with the help of the checkpoints, you'll be able to save the model at the end of each epoch."
      ]
    },
    {
      "cell_type": "code",
      "execution_count": null,
      "metadata": {
        "id": "zgpz68ebK_yC"
      },
      "outputs": [],
      "source": [
        "# @title Base model running\n",
        "base_model_history = model.fit_generator(train_generator, steps_per_epoch=steps_per_epoch, epochs=num_epochs, verbose=1,\n",
        "                    callbacks=callbacks_list, validation_data=val_generator,\n",
        "                    validation_steps=validation_steps, class_weight=None, workers=1, initial_epoch=0)"
      ]
    },
    {
      "cell_type": "code",
      "execution_count": null,
      "metadata": {
        "colab": {
          "base_uri": "https://localhost:8080/",
          "height": 427
        },
        "id": "tObNARbfK_yC",
        "outputId": "923aa1f8-dc5e-460c-df27-91b86ea4a662"
      },
      "outputs": [
        {
          "data": {
            "image/png": "[encoded data removed]",
            "text/plain": [
              "<Figure size 1500x400 with 2 Axes>"
            ]
          },
          "metadata": {},
          "output_type": "display_data"
        },
        {
          "name": "stdout",
          "output_type": "stream",
          "text": [
            "Max. Training Accuracy 0.42786070704460144\n",
            "Max. Validaiton Accuracy 0.4300000071525574\n"
          ]
        }
      ],
      "source": [
        "plotModelHistory(base_model_history)"
      ]
    },
    {
      "cell_type": "markdown",
      "metadata": {
        "id": "nV31jLGf9wH3"
      },
      "source": []
    },
    {
      "cell_type": "markdown",
      "metadata": {
        "id": "4rm2zrecG4p-"
      },
      "source": [
        "### Testing Batch size and frames"
      ]
    },
    {
      "cell_type": "code",
      "execution_count": 22,
      "metadata": {
        "id": "WK2IvIZ79vwd"
      },
      "outputs": [],
      "source": [
        "def batchsizetester(n_frames, batch_size):\n",
        "  # n_frames = 16\n",
        "  num_epochs = 3\n",
        "  # batch_size = 64\n",
        "\n",
        "  img_tensor = getImgTensor(n_frames)\n",
        "  print(\"Using frames as\", img_tensor[0])\n",
        "  train_generator = generator(train_path, train_doc, batch_size, img_tensor)\n",
        "  val_generator = generator(val_path, val_doc, batch_size, img_tensor)\n",
        "\n",
        "  if (num_train_sequences%batch_size) == 0:\n",
        "    steps_per_epoch = int(num_train_sequences/batch_size)\n",
        "  else:\n",
        "    steps_per_epoch = (num_train_sequences//batch_size) + 1\n",
        "\n",
        "  if (num_val_sequences%batch_size) == 0:\n",
        "    validation_steps = int(num_val_sequences/batch_size)\n",
        "  else:\n",
        "    validation_steps = (num_val_sequences//batch_size) + 1\n",
        "\n",
        "  model = defineModel(img_tensor)\n",
        "\n",
        "  model_history = model.fit_generator(train_generator, steps_per_epoch=steps_per_epoch, epochs=num_epochs, verbose=1,\n",
        "                    callbacks=callbacks_list, validation_data=val_generator,\n",
        "                    validation_steps=validation_steps, class_weight=None, workers=1, initial_epoch=0)\n",
        "\n",
        "  plotModelHistory(model_history)"
      ]
    },
    {
      "cell_type": "code",
      "execution_count": null,
      "metadata": {
        "id": "Ph1pLaoAeskk"
      },
      "outputs": [],
      "source": [
        "batchsizetester(22, 64)"
      ]
    },
    {
      "cell_type": "code",
      "execution_count": null,
      "metadata": {
        "id": "RX-jCFOCKolA"
      },
      "outputs": [],
      "source": [
        "batchsizetester(15, 32)"
      ]
    },
    {
      "cell_type": "markdown",
      "metadata": {
        "id": "qtorUT-RNaSH"
      },
      "source": [
        "### Batch size is not helping much hence we will try out other options"
      ]
    },
    {
      "cell_type": "markdown",
      "metadata": {
        "id": "BH5H663SaRru"
      },
      "source": [
        "### Experiment 1"
      ]
    },
    {
      "cell_type": "markdown",
      "metadata": {
        "id": "QKCA8x8zalsP"
      },
      "source": [
        "Model 1 - Frames-16, Epoc-25"
      ]
    },
    {
      "cell_type": "code",
      "execution_count": 23,
      "metadata": {
        "id": "cuicNDT5aOdd"
      },
      "outputs": [],
      "source": [
        "n_frames = 16\n",
        "num_epochs = 15\n",
        "batch_size = 64\n",
        "\n",
        "img_tensor = getImgTensor(n_frames)\n",
        "train_generator = generator(train_path, train_doc, batch_size, img_tensor)\n",
        "val_generator = generator(val_path, val_doc, batch_size, img_tensor)"
      ]
    },
    {
      "cell_type": "code",
      "execution_count": 24,
      "metadata": {
        "id": "gNyiDGGkaOtm"
      },
      "outputs": [],
      "source": [
        "if (num_train_sequences%batch_size) == 0:\n",
        "    steps_per_epoch = int(num_train_sequences/batch_size)\n",
        "else:\n",
        "    steps_per_epoch = (num_train_sequences//batch_size) + 1\n",
        "\n",
        "if (num_val_sequences%batch_size) == 0:\n",
        "    validation_steps = int(num_val_sequences/batch_size)\n",
        "else:\n",
        "    validation_steps = (num_val_sequences//batch_size) + 1\n",
        "\n",
        "inputShape = (len(img_tensor[0]), img_tensor[1], img_tensor[2], img_tensor[3])\n"
      ]
    },
    {
      "cell_type": "code",
      "execution_count": 25,
      "metadata": {
        "id": "x6bdFjNmbI_a"
      },
      "outputs": [],
      "source": [
        "model1 = Sequential([\n",
        "    Conv3D(16, make3dFilter(5), activation='relu', input_shape=inputShape),\n",
        "    MaxPooling3D(make3dFilter(2), padding='same'),\n",
        "    BatchNormalization(),\n",
        "\n",
        "    Conv3D(32, make3dFilter(3), activation='relu'),\n",
        "    MaxPooling3D(pool_size=(1,2,2), padding='same'),\n",
        "    BatchNormalization(),\n",
        "\n",
        "    Conv3D(64, make3dFilter(3), activation='relu'),\n",
        "    MaxPooling3D(pool_size=(1,2,2), padding='same'),\n",
        "    BatchNormalization(),\n",
        "\n",
        "    Flatten(),\n",
        "    Dense(128, activation='relu'),\n",
        "    BatchNormalization(),\n",
        "    Dropout(0.50),\n",
        "\n",
        "    Dense(64, activation='relu'),\n",
        "    BatchNormalization(),\n",
        "    Dropout(0.50),\n",
        "\n",
        "    Dense(5, activation='softmax')\n",
        "], name=\"conv_3d1\")"
      ]
    },
    {
      "cell_type": "code",
      "execution_count": 26,
      "metadata": {
        "colab": {
          "base_uri": "https://localhost:8080/"
        },
        "id": "CfMdzj3MbUGH",
        "outputId": "dc239e21-1cb2-4007-d053-4694299d0596"
      },
      "outputs": [
        {
          "output_type": "stream",
          "name": "stdout",
          "text": [
            "Model: \"conv_3d1\"\n",
            "_________________________________________________________________\n",
            " Layer (type)                Output Shape              Param #   \n",
            "=================================================================\n",
            " conv3d_3 (Conv3D)           (None, 12, 116, 116, 16)  6016      \n",
            "                                                                 \n",
            " max_pooling3d_3 (MaxPooling  (None, 6, 58, 58, 16)    0         \n",
            " 3D)                                                             \n",
            "                                                                 \n",
            " batch_normalization_5 (Batc  (None, 6, 58, 58, 16)    64        \n",
            " hNormalization)                                                 \n",
            "                                                                 \n",
            " conv3d_4 (Conv3D)           (None, 4, 56, 56, 32)     13856     \n",
            "                                                                 \n",
            " max_pooling3d_4 (MaxPooling  (None, 4, 28, 28, 32)    0         \n",
            " 3D)                                                             \n",
            "                                                                 \n",
            " batch_normalization_6 (Batc  (None, 4, 28, 28, 32)    128       \n",
            " hNormalization)                                                 \n",
            "                                                                 \n",
            " conv3d_5 (Conv3D)           (None, 2, 26, 26, 64)     55360     \n",
            "                                                                 \n",
            " max_pooling3d_5 (MaxPooling  (None, 2, 13, 13, 64)    0         \n",
            " 3D)                                                             \n",
            "                                                                 \n",
            " batch_normalization_7 (Batc  (None, 2, 13, 13, 64)    256       \n",
            " hNormalization)                                                 \n",
            "                                                                 \n",
            " flatten_1 (Flatten)         (None, 21632)             0         \n",
            "                                                                 \n",
            " dense_3 (Dense)             (None, 128)               2769024   \n",
            "                                                                 \n",
            " batch_normalization_8 (Batc  (None, 128)              512       \n",
            " hNormalization)                                                 \n",
            "                                                                 \n",
            " dropout_2 (Dropout)         (None, 128)               0         \n",
            "                                                                 \n",
            " dense_4 (Dense)             (None, 64)                8256      \n",
            "                                                                 \n",
            " batch_normalization_9 (Batc  (None, 64)               256       \n",
            " hNormalization)                                                 \n",
            "                                                                 \n",
            " dropout_3 (Dropout)         (None, 64)                0         \n",
            "                                                                 \n",
            " dense_5 (Dense)             (None, 5)                 325       \n",
            "                                                                 \n",
            "=================================================================\n",
            "Total params: 2,854,053\n",
            "Trainable params: 2,853,445\n",
            "Non-trainable params: 608\n",
            "_________________________________________________________________\n",
            "None\n"
          ]
        }
      ],
      "source": [
        "model1.compile(optimizer=optimizers.Adam(), loss='categorical_crossentropy', metrics=['categorical_accuracy'])\n",
        "print(model1.summary())"
      ]
    },
    {
      "cell_type": "code",
      "execution_count": 27,
      "metadata": {
        "colab": {
          "base_uri": "https://localhost:8080/"
        },
        "id": "WOcq2xLlbfgW",
        "outputId": "1c352969-a90f-4dfb-fc19-3179fa40598a"
      },
      "outputs": [
        {
          "output_type": "stream",
          "name": "stderr",
          "text": [
            "<ipython-input-27-8cfbb15ae49d>:1: UserWarning: `Model.fit_generator` is deprecated and will be removed in a future version. Please use `Model.fit`, which supports generators.\n",
            "  model1_history = model1.fit_generator(train_generator, steps_per_epoch=steps_per_epoch, epochs=num_epochs, verbose=1,\n"
          ]
        },
        {
          "output_type": "stream",
          "name": "stdout",
          "text": [
            "Source path =  /content/drive/My Drive/Project_data/train ; batch size = 64\n",
            "; Num of batches = 10\n"
          ]
        },
        {
          "output_type": "stream",
          "name": "stderr",
          "text": [
            "<ipython-input-10-4d0922c185e1>:17: DeprecationWarning: Starting with ImageIO v3 the behavior of this function will switch to that of iio.v3.imread. To keep the current behavior (and make this warning disappear) use `import imageio.v2 as imageio` or call `imageio.v2.imread` directly.\n",
            "  image = imread(source_path+'/'+ t[folder + (batch*batch_size)].strip().split(';')[0]+'/'+imgs[item]).astype(np.float32)\n"
          ]
        },
        {
          "output_type": "stream",
          "name": "stdout",
          "text": [
            "Epoch 1/15\n",
            "10/11 [==========================>...] - ETA: 3:52 - loss: 1.8487 - categorical_accuracy: 0.3438; Num of batches = 28\n",
            "11/11 [==============================] - ETA: 0s - loss: 1.8307 - categorical_accuracy: 0.3484  Source path =  /content/drive/My Drive/Project_data/val ; batch size = 64\n",
            "; Num of batches = 1\n",
            "; Num of batches = 2\n",
            "\n",
            "Epoch 1: saving model to model_init_2023-09-0204_16_33.795128/model-00001-1.83072-0.34842-7.42654-0.20000.h5\n",
            "11/11 [==============================] - 2420s 240s/step - loss: 1.8307 - categorical_accuracy: 0.3484 - val_loss: 7.4265 - val_categorical_accuracy: 0.2000 - lr: 0.0010\n",
            "Epoch 2/15\n",
            "11/11 [==============================] - ETA: 0s - loss: 1.4241 - categorical_accuracy: 0.4980; Num of batches = 3\n",
            "\n",
            "Epoch 2: saving model to model_init_2023-09-0204_16_33.795128/model-00002-1.42407-0.49802-3.72692-0.28125.h5\n",
            "11/11 [==============================] - 113s 11s/step - loss: 1.4241 - categorical_accuracy: 0.4980 - val_loss: 3.7269 - val_categorical_accuracy: 0.2812 - lr: 0.0010\n",
            "Epoch 3/15\n",
            "11/11 [==============================] - ETA: 0s - loss: 1.4214 - categorical_accuracy: 0.4941\n",
            "Epoch 3: saving model to model_init_2023-09-0204_16_33.795128/model-00003-1.42136-0.49407-7.63977-0.25000.h5\n",
            "11/11 [==============================] - 107s 11s/step - loss: 1.4214 - categorical_accuracy: 0.4941 - val_loss: 7.6398 - val_categorical_accuracy: 0.2500 - lr: 0.0010\n",
            "Epoch 4/15\n",
            " 6/11 [===============>..............] - ETA: 28s - loss: 1.4619 - categorical_accuracy: 0.3913; Num of batches = 34\n",
            "11/11 [==============================] - ETA: 0s - loss: 1.6002 - categorical_accuracy: 0.3777; Num of batches = 6\n",
            "\n",
            "Epoch 4: saving model to model_init_2023-09-0204_16_33.795128/model-00004-1.60023-0.37768-7.81094-0.28125.h5\n",
            "11/11 [==============================] - 46s 5s/step - loss: 1.6002 - categorical_accuracy: 0.3777 - val_loss: 7.8109 - val_categorical_accuracy: 0.2812 - lr: 0.0010\n",
            "Epoch 5/15\n",
            "11/11 [==============================] - ETA: 0s - loss: 1.2533 - categorical_accuracy: 0.5598\n",
            "Epoch 5: saving model to model_init_2023-09-0204_16_33.795128/model-00005-1.25331-0.55981-2.83414-0.25000.h5\n",
            "11/11 [==============================] - 34s 3s/step - loss: 1.2533 - categorical_accuracy: 0.5598 - val_loss: 2.8341 - val_categorical_accuracy: 0.2500 - lr: 0.0010\n",
            "Epoch 6/15\n",
            "11/11 [==============================] - ETA: 0s - loss: 1.3325 - categorical_accuracy: 0.5263; Num of batches = 25\n",
            "\n",
            "Epoch 6: saving model to model_init_2023-09-0204_16_33.795128/model-00006-1.33248-0.52632-1.65107-0.37500.h5\n",
            "11/11 [==============================] - 25s 2s/step - loss: 1.3325 - categorical_accuracy: 0.5263 - val_loss: 1.6511 - val_categorical_accuracy: 0.3750 - lr: 0.0010\n",
            "Epoch 7/15\n",
            " 8/11 [====================>.........] - ETA: 6s - loss: 1.2047 - categorical_accuracy: 0.5592; Num of batches = 39\n",
            "11/11 [==============================] - ETA: 0s - loss: 1.1599 - categorical_accuracy: 0.5665\n",
            "Epoch 7: saving model to model_init_2023-09-0204_16_33.795128/model-00007-1.15988-0.56650-1.79128-0.50000.h5\n",
            "11/11 [==============================] - 25s 2s/step - loss: 1.1599 - categorical_accuracy: 0.5665 - val_loss: 1.7913 - val_categorical_accuracy: 0.5000 - lr: 0.0010\n",
            "Epoch 8/15\n",
            "11/11 [==============================] - ETA: 0s - loss: 1.1069 - categorical_accuracy: 0.5668\n",
            "Epoch 8: saving model to model_init_2023-09-0204_16_33.795128/model-00008-1.10692-0.56684-3.85994-0.12500.h5\n",
            "11/11 [==============================] - 23s 2s/step - loss: 1.1069 - categorical_accuracy: 0.5668 - val_loss: 3.8599 - val_categorical_accuracy: 0.1250 - lr: 0.0010\n",
            "Epoch 9/15\n",
            "11/11 [==============================] - ETA: 0s - loss: 1.2724 - categorical_accuracy: 0.5561\n",
            "Epoch 9: saving model to model_init_2023-09-0204_16_33.795128/model-00009-1.27237-0.55615-1.85272-0.37500.h5\n",
            "11/11 [==============================] - 22s 2s/step - loss: 1.2724 - categorical_accuracy: 0.5561 - val_loss: 1.8527 - val_categorical_accuracy: 0.3750 - lr: 0.0010\n",
            "Epoch 10/15\n",
            "11/11 [==============================] - ETA: 0s - loss: 1.1199 - categorical_accuracy: 0.5775\n",
            "Epoch 10: saving model to model_init_2023-09-0204_16_33.795128/model-00010-1.11986-0.57754-1.42978-0.25000.h5\n",
            "11/11 [==============================] - 22s 2s/step - loss: 1.1199 - categorical_accuracy: 0.5775 - val_loss: 1.4298 - val_categorical_accuracy: 0.2500 - lr: 0.0010\n",
            "Epoch 11/15\n",
            " 3/11 [=======>......................] - ETA: 14s - loss: 1.0690 - categorical_accuracy: 0.6078; Num of batches = 39\n",
            "11/11 [==============================] - ETA: 0s - loss: 1.0527 - categorical_accuracy: 0.5829\n",
            "Epoch 11: saving model to model_init_2023-09-0204_16_33.795128/model-00011-1.05268-0.58289-1.03457-0.62500.h5\n",
            "11/11 [==============================] - 24s 2s/step - loss: 1.0527 - categorical_accuracy: 0.5829 - val_loss: 1.0346 - val_categorical_accuracy: 0.6250 - lr: 0.0010\n",
            "Epoch 12/15\n",
            "11/11 [==============================] - ETA: 0s - loss: 0.8648 - categorical_accuracy: 0.6631\n",
            "Epoch 12: saving model to model_init_2023-09-0204_16_33.795128/model-00012-0.86484-0.66310-1.06461-0.25000.h5\n",
            "11/11 [==============================] - 22s 2s/step - loss: 0.8648 - categorical_accuracy: 0.6631 - val_loss: 1.0646 - val_categorical_accuracy: 0.2500 - lr: 0.0010\n",
            "Epoch 13/15\n",
            "11/11 [==============================] - ETA: 0s - loss: 0.9428 - categorical_accuracy: 0.6631\n",
            "Epoch 13: saving model to model_init_2023-09-0204_16_33.795128/model-00013-0.94280-0.66310-2.88198-0.37500.h5\n",
            "11/11 [==============================] - 23s 2s/step - loss: 0.9428 - categorical_accuracy: 0.6631 - val_loss: 2.8820 - val_categorical_accuracy: 0.3750 - lr: 0.0010\n",
            "Epoch 14/15\n",
            " 9/11 [=======================>......] - ETA: 3s - loss: 1.1248 - categorical_accuracy: 0.5294; Num of batches = 39\n",
            "11/11 [==============================] - ETA: 0s - loss: 1.0982 - categorical_accuracy: 0.5348; Num of batches = 25\n",
            "\n",
            "Epoch 14: saving model to model_init_2023-09-0204_16_33.795128/model-00014-1.09823-0.53476-2.34761-0.37500.h5\n",
            "11/11 [==============================] - 22s 2s/step - loss: 1.0982 - categorical_accuracy: 0.5348 - val_loss: 2.3476 - val_categorical_accuracy: 0.3750 - lr: 0.0010\n",
            "Epoch 15/15\n",
            "11/11 [==============================] - ETA: 0s - loss: 0.9799 - categorical_accuracy: 0.6310\n",
            "Epoch 15: saving model to model_init_2023-09-0204_16_33.795128/model-00015-0.97988-0.63102-1.78082-0.37500.h5\n",
            "\n",
            "Epoch 15: ReduceLROnPlateau reducing learning rate to 0.00020000000949949026.\n",
            "11/11 [==============================] - 22s 2s/step - loss: 0.9799 - categorical_accuracy: 0.6310 - val_loss: 1.7808 - val_categorical_accuracy: 0.3750 - lr: 0.0010\n"
          ]
        }
      ],
      "source": [
        "model1_history = model1.fit_generator(train_generator, steps_per_epoch=steps_per_epoch, epochs=num_epochs, verbose=1,\n",
        "            callbacks=callbacks_list, validation_data=val_generator,\n",
        "            validation_steps=validation_steps, class_weight=None, workers=1, initial_epoch=0)"
      ]
    },
    {
      "cell_type": "code",
      "execution_count": 28,
      "metadata": {
        "colab": {
          "base_uri": "https://localhost:8080/",
          "height": 427
        },
        "id": "qPBbLJRfhbwx",
        "outputId": "04fdfa78-ca42-488d-a597-17368c16efab"
      },
      "outputs": [
        {
          "output_type": "display_data",
          "data": {
            "text/plain": [
              "<Figure size 1500x400 with 2 Axes>"
            ],
            "image/png": "[encoded data removed]"
          },
          "metadata": {}
        },
        {
          "output_type": "stream",
          "name": "stdout",
          "text": [
            "Max. Training Accuracy 0.6631016135215759\n",
            "Max. Validaiton Accuracy 0.625\n"
          ]
        }
      ],
      "source": [
        "plotModelHistory(model1_history)"
      ]
    }
  ],
  "metadata": {
    "accelerator": "GPU",
    "colab": {
      "provenance": [],
      "machine_shape": "hm",
      "gpuType": "T4",
      "include_colab_link": true
    },
    "kernelspec": {
      "display_name": "Python 3",
      "name": "python3"
    },
    "language_info": {
      "codemirror_mode": {
        "name": "ipython",
        "version": 3
      },
      "file_extension": ".py",
      "mimetype": "text/x-python",
      "name": "python",
      "nbconvert_exporter": "python",
      "pygments_lexer": "ipython3",
      "version": "3.11.3"
    }
  },
  "nbformat": 4,
  "nbformat_minor": 0
}